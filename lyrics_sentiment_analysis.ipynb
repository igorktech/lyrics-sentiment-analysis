{
 "cells": [
  {
   "cell_type": "code",
   "execution_count": 1,
   "outputs": [
    {
     "name": "stdout",
     "output_type": "stream",
     "text": [
      "\r\n",
      "\u001B[1m[\u001B[0m\u001B[34;49mnotice\u001B[0m\u001B[1;39;49m]\u001B[0m\u001B[39;49m A new release of pip available: \u001B[0m\u001B[31;49m22.2.2\u001B[0m\u001B[39;49m -> \u001B[0m\u001B[32;49m23.0.1\u001B[0m\r\n",
      "\u001B[1m[\u001B[0m\u001B[34;49mnotice\u001B[0m\u001B[1;39;49m]\u001B[0m\u001B[39;49m To update, run: \u001B[0m\u001B[32;49mpip install --upgrade pip\u001B[0m\r\n",
      "\r\n",
      "\u001B[1m[\u001B[0m\u001B[34;49mnotice\u001B[0m\u001B[1;39;49m]\u001B[0m\u001B[39;49m A new release of pip available: \u001B[0m\u001B[31;49m22.2.2\u001B[0m\u001B[39;49m -> \u001B[0m\u001B[32;49m23.0.1\u001B[0m\r\n",
      "\u001B[1m[\u001B[0m\u001B[34;49mnotice\u001B[0m\u001B[1;39;49m]\u001B[0m\u001B[39;49m To update, run: \u001B[0m\u001B[32;49mpip install --upgrade pip\u001B[0m\r\n",
      "\r\n",
      "\u001B[1m[\u001B[0m\u001B[34;49mnotice\u001B[0m\u001B[1;39;49m]\u001B[0m\u001B[39;49m A new release of pip available: \u001B[0m\u001B[31;49m22.2.2\u001B[0m\u001B[39;49m -> \u001B[0m\u001B[32;49m23.0.1\u001B[0m\r\n",
      "\u001B[1m[\u001B[0m\u001B[34;49mnotice\u001B[0m\u001B[1;39;49m]\u001B[0m\u001B[39;49m To update, run: \u001B[0m\u001B[32;49mpip install --upgrade pip\u001B[0m\r\n",
      "The operation couldn’t be completed. Unable to locate a Java Runtime that supports apt.\r\n",
      "Please visit http://www.java.com for information on installing Java.\r\n",
      "\r\n",
      "\r\n",
      "\u001B[1m[\u001B[0m\u001B[34;49mnotice\u001B[0m\u001B[1;39;49m]\u001B[0m\u001B[39;49m A new release of pip available: \u001B[0m\u001B[31;49m22.2.2\u001B[0m\u001B[39;49m -> \u001B[0m\u001B[32;49m23.0.1\u001B[0m\r\n",
      "\u001B[1m[\u001B[0m\u001B[34;49mnotice\u001B[0m\u001B[1;39;49m]\u001B[0m\u001B[39;49m To update, run: \u001B[0m\u001B[32;49mpip install --upgrade pip\u001B[0m\r\n",
      "\r\n",
      "\u001B[1m[\u001B[0m\u001B[34;49mnotice\u001B[0m\u001B[1;39;49m]\u001B[0m\u001B[39;49m A new release of pip available: \u001B[0m\u001B[31;49m22.2.2\u001B[0m\u001B[39;49m -> \u001B[0m\u001B[32;49m23.0.1\u001B[0m\r\n",
      "\u001B[1m[\u001B[0m\u001B[34;49mnotice\u001B[0m\u001B[1;39;49m]\u001B[0m\u001B[39;49m To update, run: \u001B[0m\u001B[32;49mpip install --upgrade pip\u001B[0m\r\n"
     ]
    }
   ],
   "source": [
    "!pip install torch --quiet\n",
    "!pip install sklearn --quiet\n",
    "!pip install datasets --quiet\n",
    "!apt install git-lfs --quiet\n",
    "!pip install transformers --quiet\n",
    "!pip install sentencepiece --quiet"
   ],
   "metadata": {
    "collapsed": false
   }
  },
  {
   "cell_type": "code",
   "execution_count": 2,
   "outputs": [
    {
     "name": "stdout",
     "output_type": "stream",
     "text": [
      "\r\n",
      "\u001B[1m[\u001B[0m\u001B[34;49mnotice\u001B[0m\u001B[1;39;49m]\u001B[0m\u001B[39;49m A new release of pip available: \u001B[0m\u001B[31;49m22.2.2\u001B[0m\u001B[39;49m -> \u001B[0m\u001B[32;49m23.0.1\u001B[0m\r\n",
      "\u001B[1m[\u001B[0m\u001B[34;49mnotice\u001B[0m\u001B[1;39;49m]\u001B[0m\u001B[39;49m To update, run: \u001B[0m\u001B[32;49mpip install --upgrade pip\u001B[0m\r\n",
      "\r\n",
      "\u001B[1m[\u001B[0m\u001B[34;49mnotice\u001B[0m\u001B[1;39;49m]\u001B[0m\u001B[39;49m A new release of pip available: \u001B[0m\u001B[31;49m22.2.2\u001B[0m\u001B[39;49m -> \u001B[0m\u001B[32;49m23.0.1\u001B[0m\r\n",
      "\u001B[1m[\u001B[0m\u001B[34;49mnotice\u001B[0m\u001B[1;39;49m]\u001B[0m\u001B[39;49m To update, run: \u001B[0m\u001B[32;49mpip install --upgrade pip\u001B[0m\r\n"
     ]
    }
   ],
   "source": [
    "!pip install pandas --quiet\n",
    "!pip install numpy --quiet"
   ],
   "metadata": {
    "collapsed": false
   }
  },
  {
   "cell_type": "code",
   "execution_count": 3,
   "outputs": [
    {
     "name": "stdout",
     "output_type": "stream",
     "text": [
      "\r\n",
      "\u001B[1m[\u001B[0m\u001B[34;49mnotice\u001B[0m\u001B[1;39;49m]\u001B[0m\u001B[39;49m A new release of pip available: \u001B[0m\u001B[31;49m22.2.2\u001B[0m\u001B[39;49m -> \u001B[0m\u001B[32;49m23.0.1\u001B[0m\r\n",
      "\u001B[1m[\u001B[0m\u001B[34;49mnotice\u001B[0m\u001B[1;39;49m]\u001B[0m\u001B[39;49m To update, run: \u001B[0m\u001B[32;49mpip install --upgrade pip\u001B[0m\r\n",
      "\r\n",
      "\u001B[1m[\u001B[0m\u001B[34;49mnotice\u001B[0m\u001B[1;39;49m]\u001B[0m\u001B[39;49m A new release of pip available: \u001B[0m\u001B[31;49m22.2.2\u001B[0m\u001B[39;49m -> \u001B[0m\u001B[32;49m23.0.1\u001B[0m\r\n",
      "\u001B[1m[\u001B[0m\u001B[34;49mnotice\u001B[0m\u001B[1;39;49m]\u001B[0m\u001B[39;49m To update, run: \u001B[0m\u001B[32;49mpip install --upgrade pip\u001B[0m\r\n",
      "Requirement already satisfied: billboard.py in /Library/Frameworks/Python.framework/Versions/3.9/lib/python3.9/site-packages (7.0.0)\r\n",
      "Requirement already satisfied: requests>=2.2.1 in /Library/Frameworks/Python.framework/Versions/3.9/lib/python3.9/site-packages (from billboard.py) (2.28.2)\r\n",
      "Requirement already satisfied: beautifulsoup4>=4.4.1 in /Library/Frameworks/Python.framework/Versions/3.9/lib/python3.9/site-packages (from billboard.py) (4.11.1)\r\n",
      "Requirement already satisfied: soupsieve>1.2 in /Library/Frameworks/Python.framework/Versions/3.9/lib/python3.9/site-packages (from beautifulsoup4>=4.4.1->billboard.py) (2.3.2.post1)\r\n",
      "Requirement already satisfied: certifi>=2017.4.17 in /Library/Frameworks/Python.framework/Versions/3.9/lib/python3.9/site-packages (from requests>=2.2.1->billboard.py) (2022.12.7)\r\n",
      "Requirement already satisfied: idna<4,>=2.5 in /Library/Frameworks/Python.framework/Versions/3.9/lib/python3.9/site-packages (from requests>=2.2.1->billboard.py) (3.4)\r\n",
      "Requirement already satisfied: charset-normalizer<4,>=2 in /Library/Frameworks/Python.framework/Versions/3.9/lib/python3.9/site-packages (from requests>=2.2.1->billboard.py) (2.1.1)\r\n",
      "Requirement already satisfied: urllib3<1.27,>=1.21.1 in /Library/Frameworks/Python.framework/Versions/3.9/lib/python3.9/site-packages (from requests>=2.2.1->billboard.py) (1.26.14)\r\n",
      "\r\n",
      "\u001B[1m[\u001B[0m\u001B[34;49mnotice\u001B[0m\u001B[1;39;49m]\u001B[0m\u001B[39;49m A new release of pip available: \u001B[0m\u001B[31;49m22.2.2\u001B[0m\u001B[39;49m -> \u001B[0m\u001B[32;49m23.0.1\u001B[0m\r\n",
      "\u001B[1m[\u001B[0m\u001B[34;49mnotice\u001B[0m\u001B[1;39;49m]\u001B[0m\u001B[39;49m To update, run: \u001B[0m\u001B[32;49mpip install --upgrade pip\u001B[0m\r\n"
     ]
    }
   ],
   "source": [
    "!pip install beautifulsoup4 --quiet\n",
    "!pip install lyricsgenius --quiet\n",
    "!pip install billboard.py"
   ],
   "metadata": {
    "collapsed": false
   }
  },
  {
   "cell_type": "code",
   "execution_count": 14,
   "outputs": [
    {
     "name": "stdout",
     "output_type": "stream",
     "text": [
      "Collecting git+https://github.com/johnwmillr/LyricsGenius.git\r\n",
      "  Cloning https://github.com/johnwmillr/LyricsGenius.git to /private/var/folders/zk/j144yn6s7034375p4gjwc6j00000gn/T/pip-req-build-9a1jmf8w\r\n",
      "  Running command git clone --filter=blob:none --quiet https://github.com/johnwmillr/LyricsGenius.git /private/var/folders/zk/j144yn6s7034375p4gjwc6j00000gn/T/pip-req-build-9a1jmf8w\r\n",
      "  Resolved https://github.com/johnwmillr/LyricsGenius.git to commit bec02665b807941ca95e045be910e861789fc4a7\r\n",
      "  Preparing metadata (setup.py) ... \u001B[?25ldone\r\n",
      "\u001B[?25hRequirement already satisfied: beautifulsoup4>=4.6.0 in ./venv/lib/python3.9/site-packages (from lyricsgenius==3.0.1) (4.11.2)\r\n",
      "Requirement already satisfied: requests>=2.20.0 in ./venv/lib/python3.9/site-packages (from lyricsgenius==3.0.1) (2.28.2)\r\n",
      "Requirement already satisfied: soupsieve>1.2 in ./venv/lib/python3.9/site-packages (from beautifulsoup4>=4.6.0->lyricsgenius==3.0.1) (2.4)\r\n",
      "Requirement already satisfied: certifi>=2017.4.17 in ./venv/lib/python3.9/site-packages (from requests>=2.20.0->lyricsgenius==3.0.1) (2022.12.7)\r\n",
      "Requirement already satisfied: charset-normalizer<4,>=2 in ./venv/lib/python3.9/site-packages (from requests>=2.20.0->lyricsgenius==3.0.1) (3.1.0)\r\n",
      "Requirement already satisfied: idna<4,>=2.5 in ./venv/lib/python3.9/site-packages (from requests>=2.20.0->lyricsgenius==3.0.1) (3.4)\r\n",
      "Requirement already satisfied: urllib3<1.27,>=1.21.1 in ./venv/lib/python3.9/site-packages (from requests>=2.20.0->lyricsgenius==3.0.1) (1.26.14)\r\n"
     ]
    }
   ],
   "source": [
    "# !pip install git+https://github.com/johnwmillr/LyricsGenius.git --quiet"
   ],
   "metadata": {
    "collapsed": false
   }
  },
  {
   "cell_type": "code",
   "execution_count": 4,
   "outputs": [
    {
     "name": "stdout",
     "output_type": "stream",
     "text": [
      "Requirement already satisfied: python-dotenv in /Library/Frameworks/Python.framework/Versions/3.9/lib/python3.9/site-packages (0.21.0)\r\n",
      "\r\n",
      "\u001B[1m[\u001B[0m\u001B[34;49mnotice\u001B[0m\u001B[1;39;49m]\u001B[0m\u001B[39;49m A new release of pip available: \u001B[0m\u001B[31;49m22.2.2\u001B[0m\u001B[39;49m -> \u001B[0m\u001B[32;49m23.0.1\u001B[0m\r\n",
      "\u001B[1m[\u001B[0m\u001B[34;49mnotice\u001B[0m\u001B[1;39;49m]\u001B[0m\u001B[39;49m To update, run: \u001B[0m\u001B[32;49mpip install --upgrade pip\u001B[0m\r\n",
      "The dotenv extension is already loaded. To reload it, use:\n",
      "  %reload_ext dotenv\n"
     ]
    }
   ],
   "source": [
    "!pip install python-dotenv\n",
    "from dotenv import load_dotenv\n",
    "import dotenv\n",
    "import os\n",
    "%load_ext dotenv\n",
    "%dotenv"
   ],
   "metadata": {
    "collapsed": false
   }
  },
  {
   "cell_type": "code",
   "execution_count": 5,
   "outputs": [],
   "source": [
    "# Import Genious access token"
   ],
   "metadata": {
    "collapsed": false
   }
  },
  {
   "cell_type": "code",
   "execution_count": 6,
   "outputs": [],
   "source": [
    "load_dotenv(os.path.join(os.getcwd(),'.env'))\n",
    "GENIOUS_ACCESS_TOKEN = os.environ.get('GENIOUS_ACCESS_TOKEN')"
   ],
   "metadata": {
    "collapsed": false
   }
  },
  {
   "cell_type": "code",
   "execution_count": 8,
   "metadata": {
    "collapsed": true
   },
   "outputs": [
    {
     "name": "stderr",
     "output_type": "stream",
     "text": [
      "/Library/Frameworks/Python.framework/Versions/3.9/lib/python3.9/site-packages/tqdm/auto.py:22: TqdmWarning: IProgress not found. Please update jupyter and ipywidgets. See https://ipywidgets.readthedocs.io/en/stable/user_install.html\n",
      "  from .autonotebook import tqdm as notebook_tqdm\n"
     ]
    },
    {
     "data": {
      "text/plain": "<IPython.core.display.HTML object>",
      "text/html": "<style>.container { width:100% !important; }</style>"
     },
     "metadata": {},
     "output_type": "display_data"
    },
    {
     "name": "stderr",
     "output_type": "stream",
     "text": [
      "UsageError: Line magic function `%` not found.\n"
     ]
    }
   ],
   "source": [
    "import pandas as pd\n",
    "import numpy as np\n",
    "import requests\n",
    "\n",
    "# import matplotlib as mpl\n",
    "# import matplotlib.pyplot as plt\n",
    "# import seaborn as sns\n",
    "from IPython.display import HTML, display\n",
    "from bs4 import BeautifulSoup\n",
    "# from nltk.tokenize import RegexpTokenizer\n",
    "import lyricsgenius as genius\n",
    "import billboard\n",
    "import sys\n",
    "import re\n",
    "# from nltk.corpus import stopwords\n",
    "# from nltk.tokenize import word_tokenize\n",
    "# import string\n",
    "# from nltk.stem import PorterStemmer\n",
    "from datetime import datetime, date, timedelta\n",
    "# from wordcloud import WordCloud\n",
    "# from sklearn.feature_extraction.text import TfidfVectorizer, CountVectorizer\n",
    "# import spacy\n",
    "# from collections import Counter\n",
    "# from os import path\n",
    "# from PIL import Image\n",
    "# from keras.models import model_from_json\n",
    "# import pickle\n",
    "\n",
    "\n",
    "import torch\n",
    "from transformers import T5ForConditionalGeneration, T5Tokenizer\n",
    "import random\n",
    "from tqdm.auto import tqdm, trange\n",
    "from huggingface_hub import notebook_login\n",
    "import os\n",
    "from sklearn.model_selection import train_test_split\n",
    "\n",
    "pd.options.mode.chained_assignment = None\n",
    "display(HTML(\"<style>.container { width:100% !important; }</style>\"))\n",
    "% config InlineBackend.figure_format = 'png'"
   ]
  },
  {
   "cell_type": "code",
   "execution_count": 9,
   "outputs": [],
   "source": [
    "def disable_pandas_warnings():\n",
    "    import warnings\n",
    "    warnings.resetwarnings()  # Maybe somebody else is messing with the warnings system?\n",
    "    warnings.filterwarnings('ignore')  # Ignore everything\n",
    "    # ignore everything does not work: ignore specific messages, using regex\n",
    "    warnings.filterwarnings('ignore', '.*A value is trying to be set on a copy of a slice from a DataFrame.*')\n",
    "    warnings.filterwarnings('ignore', '.*indexing past lexsort depth may impact performance*')"
   ],
   "metadata": {
    "collapsed": false
   }
  },
  {
   "cell_type": "code",
   "execution_count": 10,
   "outputs": [],
   "source": [
    "disable_pandas_warnings()"
   ],
   "metadata": {
    "collapsed": false
   }
  },
  {
   "cell_type": "code",
   "execution_count": 11,
   "outputs": [],
   "source": [
    "def daterange(start_date, end_date):\n",
    "    for n in range(int((end_date - start_date).days)):\n",
    "        yield start_date + timedelta(n)"
   ],
   "metadata": {
    "collapsed": false
   }
  },
  {
   "cell_type": "code",
   "execution_count": 12,
   "outputs": [],
   "source": [
    "def collect_songs_from_billboard_each_day(start_date_str, end_date_str, chart_name='hot-100', table_path = None,to_csv = False):\n",
    "    start_date = datetime.strptime(\n",
    "        start_date_str, '%Y-%m-%d')\n",
    "    end_date = datetime.strptime(end_date_str, '%Y-%m-%d')\n",
    "\n",
    "    columns = [\"Rank\",\n",
    "                    \"Song Title\",\n",
    "                    \"Artist\",\n",
    "                    \"Date\",\n",
    "                    \"Year\"]\n",
    "    dataset = pd.DataFrame(columns = columns, data = [])\n",
    "    if to_csv:\n",
    "        dataset.to_csv(table_path,index=False)\n",
    "\n",
    "    sys.stdout.write(\n",
    "        \"\\r\" + \"Collecting Songs from \" + start_date_str + \" to \" + end_date_str + \" via https://www.billboard.com\")\n",
    "    sys.stdout.flush()\n",
    "    for single_date in tqdm(daterange(start_date, end_date)):\n",
    "        print(single_date.strftime('%Y-%m-%d'))\n",
    "        chart = billboard.ChartData(chart_name, date=single_date.strftime('%Y-%m-%d'))\n",
    "        for song in chart:\n",
    "            row = {\n",
    "                \"Rank\": song.rank,\n",
    "                \"Song Title\": song.title,\n",
    "                \"Artist\": song.artist,\n",
    "                \"Date\": single_date.strftime('%Y-%m-%d'),\n",
    "                \"Year\": single_date.strftime('%Y')\n",
    "            }\n",
    "            if to_csv:\n",
    "                pd.DataFrame([row]).to_csv(table_path, mode='a',index=False, header=False)\n",
    "            else:\n",
    "                dataset = dataset.append(row, ignore_index=True)  #pd.concat([dataset,pd.DataFrame(row)],ignore_index=True)#\n",
    "    if not to_csv:\n",
    "        return dataset\n"
   ],
   "metadata": {
    "collapsed": false
   }
  },
  {
   "cell_type": "code",
   "execution_count": 13,
   "outputs": [
    {
     "name": "stdout",
     "output_type": "stream",
     "text": [
      "Collecting Songs from 2022-12-30 to 2023-01-01 via https://www.billboard.com"
     ]
    },
    {
     "name": "stderr",
     "output_type": "stream",
     "text": [
      "0it [00:00, ?it/s]"
     ]
    },
    {
     "name": "stdout",
     "output_type": "stream",
     "text": [
      "2022-12-30\n"
     ]
    },
    {
     "name": "stderr",
     "output_type": "stream",
     "text": [
      "1it [00:05,  5.05s/it]"
     ]
    },
    {
     "name": "stdout",
     "output_type": "stream",
     "text": [
      "2022-12-31\n"
     ]
    },
    {
     "name": "stderr",
     "output_type": "stream",
     "text": [
      "2it [00:09,  4.86s/it]\n"
     ]
    }
   ],
   "source": [
    "all_songs = collect_songs_from_billboard_each_day('2022-12-30', '2023-01-01',table_path='all_songs.csv',to_csv = True)"
   ],
   "metadata": {
    "collapsed": false
   }
  },
  {
   "cell_type": "code",
   "execution_count": 14,
   "outputs": [],
   "source": [
    "all_songs = pd.read_csv(\"all_songs.csv\")"
   ],
   "metadata": {
    "collapsed": false
   }
  },
  {
   "cell_type": "code",
   "execution_count": 15,
   "outputs": [
    {
     "data": {
      "text/plain": "    Rank                         Song Title                         Artist  \\\n0      1    All I Want For Christmas Is You                   Mariah Carey   \n1      2  Rockin' Around The Christmas Tree                     Brenda Lee   \n2      3                   Jingle Bell Rock                    Bobby Helms   \n3      4            A Holly Jolly Christmas                      Burl Ives   \n4      5                     Last Christmas                          Wham!   \n..   ...                                ...                            ...   \n65    66                  Victoria's Secret                            Jax   \n66    67                      Lavender Haze                   Taylor Swift   \n67    68                    Son Of A Sinner                     Jelly Roll   \n68    69                  Wait In The Truck  HARDY Featuring Lainey Wilson   \n69    70                               Used      SZA Featuring Don Toliver   \n\n          Date  Year  \n0   2022-12-30  2022  \n1   2022-12-30  2022  \n2   2022-12-30  2022  \n3   2022-12-30  2022  \n4   2022-12-30  2022  \n..         ...   ...  \n65  2022-12-30  2022  \n66  2022-12-30  2022  \n67  2022-12-30  2022  \n68  2022-12-30  2022  \n69  2022-12-30  2022  \n\n[70 rows x 5 columns]",
      "text/html": "<div>\n<style scoped>\n    .dataframe tbody tr th:only-of-type {\n        vertical-align: middle;\n    }\n\n    .dataframe tbody tr th {\n        vertical-align: top;\n    }\n\n    .dataframe thead th {\n        text-align: right;\n    }\n</style>\n<table border=\"1\" class=\"dataframe\">\n  <thead>\n    <tr style=\"text-align: right;\">\n      <th></th>\n      <th>Rank</th>\n      <th>Song Title</th>\n      <th>Artist</th>\n      <th>Date</th>\n      <th>Year</th>\n    </tr>\n  </thead>\n  <tbody>\n    <tr>\n      <th>0</th>\n      <td>1</td>\n      <td>All I Want For Christmas Is You</td>\n      <td>Mariah Carey</td>\n      <td>2022-12-30</td>\n      <td>2022</td>\n    </tr>\n    <tr>\n      <th>1</th>\n      <td>2</td>\n      <td>Rockin' Around The Christmas Tree</td>\n      <td>Brenda Lee</td>\n      <td>2022-12-30</td>\n      <td>2022</td>\n    </tr>\n    <tr>\n      <th>2</th>\n      <td>3</td>\n      <td>Jingle Bell Rock</td>\n      <td>Bobby Helms</td>\n      <td>2022-12-30</td>\n      <td>2022</td>\n    </tr>\n    <tr>\n      <th>3</th>\n      <td>4</td>\n      <td>A Holly Jolly Christmas</td>\n      <td>Burl Ives</td>\n      <td>2022-12-30</td>\n      <td>2022</td>\n    </tr>\n    <tr>\n      <th>4</th>\n      <td>5</td>\n      <td>Last Christmas</td>\n      <td>Wham!</td>\n      <td>2022-12-30</td>\n      <td>2022</td>\n    </tr>\n    <tr>\n      <th>...</th>\n      <td>...</td>\n      <td>...</td>\n      <td>...</td>\n      <td>...</td>\n      <td>...</td>\n    </tr>\n    <tr>\n      <th>65</th>\n      <td>66</td>\n      <td>Victoria's Secret</td>\n      <td>Jax</td>\n      <td>2022-12-30</td>\n      <td>2022</td>\n    </tr>\n    <tr>\n      <th>66</th>\n      <td>67</td>\n      <td>Lavender Haze</td>\n      <td>Taylor Swift</td>\n      <td>2022-12-30</td>\n      <td>2022</td>\n    </tr>\n    <tr>\n      <th>67</th>\n      <td>68</td>\n      <td>Son Of A Sinner</td>\n      <td>Jelly Roll</td>\n      <td>2022-12-30</td>\n      <td>2022</td>\n    </tr>\n    <tr>\n      <th>68</th>\n      <td>69</td>\n      <td>Wait In The Truck</td>\n      <td>HARDY Featuring Lainey Wilson</td>\n      <td>2022-12-30</td>\n      <td>2022</td>\n    </tr>\n    <tr>\n      <th>69</th>\n      <td>70</td>\n      <td>Used</td>\n      <td>SZA Featuring Don Toliver</td>\n      <td>2022-12-30</td>\n      <td>2022</td>\n    </tr>\n  </tbody>\n</table>\n<p>70 rows × 5 columns</p>\n</div>"
     },
     "execution_count": 15,
     "metadata": {},
     "output_type": "execute_result"
    }
   ],
   "source": [
    "all_songs.head(70)"
   ],
   "metadata": {
    "collapsed": false
   }
  },
  {
   "cell_type": "code",
   "execution_count": 16,
   "outputs": [],
   "source": [
    "all_songs[\"Artist\"][all_songs['Artist'] == \"Jackson 5\"] = \"The Jackson 5\"\n",
    "all_songs[\"Artist\"][all_songs['Artist'] == \"Beatles\"] = \"The Beatles\""
   ],
   "metadata": {
    "collapsed": false
   }
  },
  {
   "cell_type": "code",
   "execution_count": 18,
   "outputs": [],
   "source": [
    "api = genius.Genius(GENIOUS_ACCESS_TOKEN, sleep_time=0.01, verbose=False)"
   ],
   "metadata": {
    "collapsed": false
   }
  },
  {
   "cell_type": "code",
   "execution_count": 19,
   "outputs": [
    {
     "name": "stdout",
     "output_type": "stream",
     "text": [
      "Started at 2023-03-10 16:30:35.658183\n",
      "99% complete. Collecting Record 199 of 200. Year 2022. Currently collecting All Mine by Brent Faiyaz                                                  \r                    \r                \r    \rRecord 3 of 200. Year 2022. Currently collecting A Holly Jolly Christmas by Burl Ives                                                  2% complete. Collecting Record 5 of 200. Year 2022. Currently collecting It's The Most Wonderful Time Of The Year by Andy Williams                                                  3% complete. Collecting Record 7 of 200. Year 2022. Currently collecting Feliz Navidad by Jose Feliciano                                                  4% complete. Collecting Record 9 of 200. Year 2022. Currently collecting Unholy by Sam Smith & Kim Petras                                                  5% complete. Collecting Record 11 of 200. Year 2022. Currently collecting Santa Tell Me by Ariana Grande                                                  6% complete. Collecting Record 13 of 200. Year 2022. Currently collecting Underneath The Tree by Kelly Clarkson                                                  7% complete. Collecting Record 15 of 200. Year 2022. Currently collecting Deck The Halls by Nat King Cole                                                  8% complete. Collecting Record 17 of 200. Year 2022. Currently collecting White Christmas by Bing Crosby                                                  9% complete. Collecting Record 19 of 200. Year 2022. Currently collecting Rich Flex by Drake & 21 Savage                                                  10% complete. Collecting Record 21 of 200. Year 2022. Currently collecting Jingle Bells by Frank Sinatra                                                  11% complete. Collecting Record 23 of 200. Year 2022. Currently collecting It's Beginning To Look A Lot Like Christmas by Perry Como And The Fontane Sisters With Mitchell Ayres And His Orchestra                                                  12% complete. Collecting Record 25 of 200. Year 2022. Currently collecting Die For You by The Weeknd & Ariana Grande                                                  13% complete. Collecting Record 27 of 200. Year 2022. Currently collecting Rudolph The Red-Nosed Reindeer by Gene Autry                                                  14% complete. Collecting Record 29 of 200. Year 2022. Currently collecting Little Saint Nick by The Beach Boys                                                  15% complete. Collecting Record 31 of 200. Year 2022. Currently collecting Wonderful Christmastime by Paul McCartney                                                  16% complete. Collecting Record 33 of 200. Year 2022. Currently collecting Run Rudolph Run by Chuck Berry                                                  17% complete. Collecting Record 35 of 200. Year 2022. Currently collecting Shirt by SZA                                                  18% complete. Collecting Record 37 of 200. Year 2022. Currently collecting Happy Xmas (War Is Over) by John & Yoko/The Plastic Ono Band With The Harlem Community Choir                                                  19% complete. Collecting Record 39 of 200. Year 2022. Currently collecting Happy Holiday / The Holiday Season by Andy Williams                                                  20% complete. Collecting Record 41 of 200. Year 2022. Currently collecting Merry Christmas by Ed Sheeran & Elton John                                                  21% complete. Collecting Record 43 of 200. Year 2022. Currently collecting Please Come Home For Christmas by Eagles                                                  22% complete. Collecting Record 45 of 200. Year 2022. Currently collecting You Proof by Morgan Wallen                                                  23% complete. Collecting Record 47 of 200. Year 2022. Currently collecting Blind by SZA                                                  24% complete. Collecting Record 49 of 200. Year 2022. Currently collecting Something In The Orange by Zach Bryan                                                  25% complete. Collecting Record 51 of 200. Year 2022. Currently collecting Low by SZA                                                  26% complete. Collecting Record 53 of 200. Year 2022. Currently collecting Golden Hour by JVKE                                                  27% complete. Collecting Record 55 of 200. Year 2022. Currently collecting Tomorrow 2 by GloRilla & Cardi B                                                  28% complete. Collecting Record 57 of 200. Year 2022. Currently collecting Love Language by SZA                                                  29% complete. Collecting Record 59 of 200. Year 2022. Currently collecting Thank God by Kane Brown With Katelyn Brown                                                  30% complete. Collecting Record 61 of 200. Year 2022. Currently collecting Until I Found You by Stephen Sanchez                                                  31% complete. Collecting Record 63 of 200. Year 2022. Currently collecting Rock And A Hard Place by Bailey Zimmerman                                                  32% complete. Collecting Record 65 of 200. Year 2022. Currently collecting Victoria's Secret by Jax                                                  33% complete. Collecting Record 67 of 200. Year 2022. Currently collecting Son Of A Sinner by Jelly Roll                                                  34% complete. Collecting Record 69 of 200. Year 2022. Currently collecting Used by SZA Featuring Don Toliver                                                  35% complete. Collecting Record 71 of 200. Year 2022. Currently collecting Escapism by RAYE Featuring 070 Shake                                                  36% complete. Collecting Record 73 of 200. Year 2022. Currently collecting Heart Like A Truck by Lainey Wilson                                                  37% complete. Collecting Record 75 of 200. Year 2022. Currently collecting Blue Christmas by Kane Brown                                                  38% complete. Collecting Record 77 of 200. Year 2022. Currently collecting Santa, Can't You Hear Me by Kelly Clarkson & Ariana Grande                                                  39% complete. Collecting Record 79 of 200. Year 2022. Currently collecting Whiskey On You by Nate Smith                                                  40% complete. Collecting Record 81 of 200. Year 2022. Currently collecting Gone Girl by SZA                                                  41% complete. Collecting Record 83 of 200. Year 2022. Currently collecting Too Many Nights by Metro Boomin Featuring Don Toliver & Future                                                  42% complete. Collecting Record 85 of 200. Year 2022. Currently collecting Open Arms by SZA Featuring Travis Scott                                                  43% complete. Collecting Record 87 of 200. Year 2022. Currently collecting Smoking On My Ex Pack by SZA                                                  44% complete. Collecting Record 89 of 200. Year 2022. Currently collecting Circo Loco by Drake & 21 Savage                                                  45% complete. Collecting Record 91 of 200. Year 2022. Currently collecting Face 2 Face by Juice WRLD                                                  46% complete. Collecting Record 93 of 200. Year 2022. Currently collecting Romantic Homicide by d4vd                                                  47% complete. Collecting Record 95 of 200. Year 2022. Currently collecting Down Home by Jimmie Allen                                                  48% complete. Collecting Record 97 of 200. Year 2022. Currently collecting Hold Me Closer by Elton John & Britney Spears                                                  49% complete. Collecting Record 99 of 200. Year 2022. Currently collecting All Mine by Brent Faiyaz                                                  50% complete. Collecting Record 101 of 200. Year 2022. Currently collecting Rockin' Around The Christmas Tree by Brenda Lee                                                  51% complete. Collecting Record 103 of 200. Year 2022. Currently collecting A Holly Jolly Christmas by Burl Ives                                                  52% complete. Collecting Record 105 of 200. Year 2022. Currently collecting It's The Most Wonderful Time Of The Year by Andy Williams                                                  53% complete. Collecting Record 107 of 200. Year 2022. Currently collecting Feliz Navidad by Jose Feliciano                                                  54% complete. Collecting Record 109 of 200. Year 2022. Currently collecting Unholy by Sam Smith & Kim Petras                                                  55% complete. Collecting Record 111 of 200. Year 2022. Currently collecting Santa Tell Me by Ariana Grande                                                  56% complete. Collecting Record 113 of 200. Year 2022. Currently collecting Underneath The Tree by Kelly Clarkson                                                  57% complete. Collecting Record 115 of 200. Year 2022. Currently collecting Deck The Halls by Nat King Cole                                                  58% complete. Collecting Record 117 of 200. Year 2022. Currently collecting White Christmas by Bing Crosby                                                  59% complete. Collecting Record 119 of 200. Year 2022. Currently collecting Rich Flex by Drake & 21 Savage                                                  60% complete. Collecting Record 121 of 200. Year 2022. Currently collecting Jingle Bells by Frank Sinatra                                                  61% complete. Collecting Record 123 of 200. Year 2022. Currently collecting It's Beginning To Look A Lot Like Christmas by Perry Como And The Fontane Sisters With Mitchell Ayres And His Orchestra                                                  62% complete. Collecting Record 125 of 200. Year 2022. Currently collecting Die For You by The Weeknd & Ariana Grande                                                  63% complete. Collecting Record 127 of 200. Year 2022. Currently collecting Rudolph The Red-Nosed Reindeer by Gene Autry                                                  64% complete. Collecting Record 129 of 200. Year 2022. Currently collecting Little Saint Nick by The Beach Boys                                                  65% complete. Collecting Record 131 of 200. Year 2022. Currently collecting Wonderful Christmastime by Paul McCartney                                                  66% complete. Collecting Record 133 of 200. Year 2022. Currently collecting Run Rudolph Run by Chuck Berry                                                  67% complete. Collecting Record 135 of 200. Year 2022. Currently collecting Shirt by SZA                                                  68% complete. Collecting Record 137 of 200. Year 2022. Currently collecting Happy Xmas (War Is Over) by John & Yoko/The Plastic Ono Band With The Harlem Community Choir                                                  69% complete. Collecting Record 139 of 200. Year 2022. Currently collecting Happy Holiday / The Holiday Season by Andy Williams                                                  70% complete. Collecting Record 141 of 200. Year 2022. Currently collecting Merry Christmas by Ed Sheeran & Elton John                                                  71% complete. Collecting Record 143 of 200. Year 2022. Currently collecting Please Come Home For Christmas by Eagles                                                  73% complete. Collecting Record 146 of 200. Year 2022. Currently collecting This Christmas by Donny Hathaway                                                  74% complete. Collecting Record 148 of 200. Year 2022. Currently collecting Linus And Lucy (Peanuts Theme) by Vince Guaraldi Trio                                                  75% complete. Collecting Record 150 of 200. Year 2022. Currently collecting Made You Look by Meghan Trainor                                                  76% complete. Collecting Record 152 of 200. Year 2022. Currently collecting Super Freaky Girl by Nicki Minaj                                                  77% complete. Collecting Record 154 of 200. Year 2022. Currently collecting Just Wanna Rock by Lil Uzi Vert                                                  78% complete. Collecting Record 156 of 200. Year 2022. Currently collecting Lift Me Up by Rihanna                                                  79% complete. Collecting Record 158 of 200. Year 2022. Currently collecting Someday At Christmas by Lizzo                                                  80% complete. Collecting Record 160 of 200. Year 2022. Currently collecting Snooze by SZA                                                  81% complete. Collecting Record 162 of 200. Year 2022. Currently collecting Seek & Destroy by SZA                                                  82% complete. Collecting Record 164 of 200. Year 2022. Currently collecting What My World Spins Around by Jordan Davis                                                  83% complete. Collecting Record 166 of 200. Year 2022. Currently collecting Lavender Haze by Taylor Swift                                                  84% complete. Collecting Record 168 of 200. Year 2022. Currently collecting Wait In The Truck by HARDY Featuring Lainey Wilson                                                  85% complete. Collecting Record 170 of 200. Year 2022. Currently collecting Special by SZA                                                  86% complete. Collecting Record 172 of 200. Year 2022. Currently collecting Going, Going, Gone by Luke Combs                                                  87% complete. Collecting Record 174 of 200. Year 2022. Currently collecting Ghost In The Machine by SZA Featuring Phoebe Bridgers                                                  88% complete. Collecting Record 176 of 200. Year 2022. Currently collecting Star Walkin' (League Of Legends Worlds Anthem) by Lil Nas X                                                  89% complete. Collecting Record 178 of 200. Year 2022. Currently collecting SOS by SZA                                                  90% complete. Collecting Record 180 of 200. Year 2022. Currently collecting Last Christmas by Lauren Spencer-Smith                                                  91% complete. Collecting Record 182 of 200. Year 2022. Currently collecting Calm Down by Rema & Selena Gomez                                                  92% complete. Collecting Record 184 of 200. Year 2022. Currently collecting Notice Me by SZA                                                  93% complete. Collecting Record 186 of 200. Year 2022. Currently collecting Spin Bout U by Drake & 21 Savage                                                  94% complete. Collecting Record 188 of 200. Year 2022. Currently collecting Niagara Falls (Foot Or 2) by Metro Boomin, Travis Scott & 21 Savage                                                  95% complete. Collecting Record 190 of 200. Year 2022. Currently collecting F2F by SZA                                                  96% complete. Collecting Record 192 of 200. Year 2022. Currently collecting Kid On Christmas by Pentatonix Featuring Meghan Trainor                                                  97% complete. Collecting Record 194 of 200. Year 2022. Currently collecting Conceited by SZA                                                  98% complete. Collecting Record 196 of 200. Year 2022. Currently collecting One Thing At A Time by Morgan Wallen                                                  99% complete. Collecting Record 198 of 200. Year 2022. Currently collecting Far by SZA                                                  \n",
      "Completed at 2023-03-10 16:30:35.658183\n",
      "Total time to collect: 0:06:07.928986\n"
     ]
    }
   ],
   "source": [
    "all_song_data = pd.DataFrame()\n",
    "start_time = datetime.now()\n",
    "print(\"Started at {}\".format(start_time))\n",
    "for i in range(0, len(all_songs)):\n",
    "    rolling_pct = int((i / len(all_songs)) * 100)\n",
    "    print(str(rolling_pct) + \"% complete.\" + \" Collecting Record \" + str(i) + \" of \" +\n",
    "          str(len(all_songs)) + \". Year \" + str(all_songs.iloc[i]['Year']) + \".\" + \" Currently collecting \" +\n",
    "          all_songs.iloc[i]['Song Title'] + \" by \" + all_songs.iloc[i]['Artist'] + \" \" * 50, end=\"\\r\")\n",
    "    song_title = all_songs.iloc[i]['Song Title']\n",
    "    song_title = re.sub(\" and \", \" & \", song_title)\n",
    "    artist_name = all_songs.iloc[i]['Artist']\n",
    "    artist_name = re.sub(\" and \", \" & \", artist_name)\n",
    "\n",
    "    try:\n",
    "        song = api.search_song(song_title, artist=artist_name)\n",
    "        #print(song)\n",
    "        song_album = song.album\n",
    "        song_album_url = song.album_url\n",
    "        featured_artists = song.primary_artist\n",
    "        song_lyrics = re.sub(\"\\n\", \" \", song.lyrics)  #Remove newline breaks, we won't need them.\n",
    "        song_media = song.media\n",
    "        song_url = song.url\n",
    "        # song_writer_artists = song.writer_artists\n",
    "        song_year = song.year\n",
    "    except:\n",
    "        song_album = \"null\"\n",
    "        song_album_url = \"null\"\n",
    "        featured_artists = \"null\"\n",
    "        song_lyrics = \"null\"\n",
    "        song_media = \"null\"\n",
    "        song_url = \"null\"\n",
    "        # song_writer_artists = \"null\"\n",
    "        song_year = \"null\"\n",
    "\n",
    "    row = {\n",
    "        \"Year\": all_songs.iloc[i]['Year'],\n",
    "        \"Rank\": all_songs.iloc[i]['Rank'],\n",
    "        \"Song Title\": all_songs.iloc[i]['Song Title'],\n",
    "        \"Artist\": all_songs.iloc[i]['Artist'],\n",
    "        \"Album\": song_album,\n",
    "        \"Album URL\": song_album_url,\n",
    "        \"Featured Artists\": featured_artists,\n",
    "        \"Lyrics\": song_lyrics,\n",
    "        \"Media\": song_media,\n",
    "        \"Song URL\": song_url,\n",
    "        # \"Writers\": song_writer_artists,\n",
    "        \"Release Date\": song_year\n",
    "    }\n",
    "    all_song_data = all_song_data.append(row, ignore_index=True)\n",
    "end_time = datetime.now()\n",
    "print(\"\\nCompleted at {}\".format(start_time))\n",
    "print(\"Total time to collect: {}\".format(end_time - start_time))\n"
   ],
   "metadata": {
    "collapsed": false
   }
  },
  {
   "cell_type": "code",
   "execution_count": 35,
   "outputs": [],
   "source": [
    "song = api.search_song('Hold Me Closer', artist='Elton John')"
   ],
   "metadata": {
    "collapsed": false
   }
  },
  {
   "cell_type": "code",
   "execution_count": 40,
   "outputs": [
    {
     "name": "stdout",
     "output_type": "stream",
     "text": [
      "[('Hold me closer, tiny dancer', [['Eventually, it becomes apparent that they are not singing about actor Tony Danza, unless Elton and Britney want him to hold them closer.  Which could happen.\\n\\nEdit: I thought I made it clear, this isn’t about Tony Danza, despite the popular mondegreen.']])]\n"
     ]
    }
   ],
   "source": [
    "# for i in song.to_dict():\n",
    "print(api.song_annotations(song.id))\n",
    "    # print(api.song_comments(song.to_dict()['id']))"
   ],
   "metadata": {
    "collapsed": false
   }
  },
  {
   "cell_type": "code",
   "execution_count": 21,
   "outputs": [
    {
     "data": {
      "text/plain": "     Year  Rank           Song Title                       Artist Album  \\\n195  2022    96            Down Home                 Jimmie Allen  null   \n196  2022    97  One Thing At A Time                Morgan Wallen  null   \n197  2022    98       Hold Me Closer  Elton John & Britney Spears  null   \n198  2022    99                  Far                          SZA  null   \n199  2022   100             All Mine                 Brent Faiyaz  null   \n\n    Album URL Featured Artists Lyrics Media Song URL Writers Release Date  \n195      null             null   null  null     null    null         null  \n196      null             null   null  null     null    null         null  \n197      null             null   null  null     null    null         null  \n198      null             null   null  null     null    null         null  \n199      null             null   null  null     null    null         null  ",
      "text/html": "<div>\n<style scoped>\n    .dataframe tbody tr th:only-of-type {\n        vertical-align: middle;\n    }\n\n    .dataframe tbody tr th {\n        vertical-align: top;\n    }\n\n    .dataframe thead th {\n        text-align: right;\n    }\n</style>\n<table border=\"1\" class=\"dataframe\">\n  <thead>\n    <tr style=\"text-align: right;\">\n      <th></th>\n      <th>Year</th>\n      <th>Rank</th>\n      <th>Song Title</th>\n      <th>Artist</th>\n      <th>Album</th>\n      <th>Album URL</th>\n      <th>Featured Artists</th>\n      <th>Lyrics</th>\n      <th>Media</th>\n      <th>Song URL</th>\n      <th>Writers</th>\n      <th>Release Date</th>\n    </tr>\n  </thead>\n  <tbody>\n    <tr>\n      <th>195</th>\n      <td>2022</td>\n      <td>96</td>\n      <td>Down Home</td>\n      <td>Jimmie Allen</td>\n      <td>null</td>\n      <td>null</td>\n      <td>null</td>\n      <td>null</td>\n      <td>null</td>\n      <td>null</td>\n      <td>null</td>\n      <td>null</td>\n    </tr>\n    <tr>\n      <th>196</th>\n      <td>2022</td>\n      <td>97</td>\n      <td>One Thing At A Time</td>\n      <td>Morgan Wallen</td>\n      <td>null</td>\n      <td>null</td>\n      <td>null</td>\n      <td>null</td>\n      <td>null</td>\n      <td>null</td>\n      <td>null</td>\n      <td>null</td>\n    </tr>\n    <tr>\n      <th>197</th>\n      <td>2022</td>\n      <td>98</td>\n      <td>Hold Me Closer</td>\n      <td>Elton John &amp; Britney Spears</td>\n      <td>null</td>\n      <td>null</td>\n      <td>null</td>\n      <td>null</td>\n      <td>null</td>\n      <td>null</td>\n      <td>null</td>\n      <td>null</td>\n    </tr>\n    <tr>\n      <th>198</th>\n      <td>2022</td>\n      <td>99</td>\n      <td>Far</td>\n      <td>SZA</td>\n      <td>null</td>\n      <td>null</td>\n      <td>null</td>\n      <td>null</td>\n      <td>null</td>\n      <td>null</td>\n      <td>null</td>\n      <td>null</td>\n    </tr>\n    <tr>\n      <th>199</th>\n      <td>2022</td>\n      <td>100</td>\n      <td>All Mine</td>\n      <td>Brent Faiyaz</td>\n      <td>null</td>\n      <td>null</td>\n      <td>null</td>\n      <td>null</td>\n      <td>null</td>\n      <td>null</td>\n      <td>null</td>\n      <td>null</td>\n    </tr>\n  </tbody>\n</table>\n</div>"
     },
     "execution_count": 21,
     "metadata": {},
     "output_type": "execute_result"
    }
   ],
   "source": [
    "all_song_data.tail(5)"
   ],
   "metadata": {
    "collapsed": false
   }
  },
  {
   "cell_type": "code",
   "execution_count": null,
   "outputs": [],
   "source": [],
   "metadata": {
    "collapsed": false
   }
  },
  {
   "cell_type": "code",
   "execution_count": null,
   "outputs": [],
   "source": [
    "all_song_data.to_csv(\"all_songs_data.csv\")\n",
    "all_song_data.to_json(\"all_song_data.json\", orient='records')"
   ],
   "metadata": {
    "collapsed": false
   }
  },
  {
   "cell_type": "code",
   "execution_count": null,
   "outputs": [],
   "source": [
    "loaded_song_dataset = pd.read_csv(\"all_songs_data.csv\", index_col=0)"
   ],
   "metadata": {
    "collapsed": false
   }
  },
  {
   "cell_type": "code",
   "execution_count": null,
   "outputs": [],
   "source": [
    "display(loaded_song_dataset.head())\n",
    "display(loaded_song_dataset.tail())"
   ],
   "metadata": {
    "collapsed": false
   }
  },
  {
   "cell_type": "code",
   "execution_count": null,
   "outputs": [],
   "source": [
    "songs_with_lyrics_dataset = loaded_song_dataset.dropna(subset=['Lyrics'])\n"
   ],
   "metadata": {
    "collapsed": false
   }
  },
  {
   "cell_type": "markdown",
   "source": [
    "## Understanding lyrics with T5 transformer"
   ],
   "metadata": {
    "collapsed": false
   }
  },
  {
   "cell_type": "markdown",
   "source": [
    "* TODO: ADD BLEU/ROUGE evaluation"
   ],
   "metadata": {
    "collapsed": false
   }
  },
  {
   "cell_type": "code",
   "execution_count": null,
   "outputs": [],
   "source": [
    "MODEL_NAME = 'igorktech/t5-base-en'\n",
    "SAVE_MODEL_NAME = 't5-base-en-explainer'\n",
    "model = T5ForConditionalGeneration.from_pretrained(MODEL_NAME)\n",
    "tokenizer = T5Tokenizer.from_pretrained(MODEL_NAME)\n",
    "device = torch.device(\"cuda\" if torch.cuda.is_available() else \"cpu\")\n",
    "model.to(device);\n",
    "\n",
    "BATCH_SIZE = 32\n",
    "REPORT_STEPS = 1000\n",
    "EPOCHS = 1\n",
    "LEARNING_RATE = 1e-4\n",
    "TASK_PREFIX = \"explain | \"\n",
    "MAX_INPUT = 64\n",
    "MAX_OUTPUT = 64\n",
    "# model.config.max_length = MAX_OUTPUT #not mandatory\n",
    "SAVE_TO_HUB = True"
   ],
   "metadata": {
    "collapsed": false
   }
  },
  {
   "cell_type": "code",
   "execution_count": null,
   "outputs": [],
   "source": [
    "pairs = []\n",
    "for a, b in zip(data['train']['short'], data['train']['long']):\n",
    "    pairs.append([TASK_PREFIX + a, b])"
   ],
   "metadata": {
    "collapsed": false
   }
  },
  {
   "cell_type": "code",
   "execution_count": null,
   "outputs": [],
   "source": [
    "optimizer = torch.optim.Adam(model.parameters(), lr=LEARNING_RATE)"
   ],
   "metadata": {
    "collapsed": false
   }
  },
  {
   "cell_type": "code",
   "execution_count": null,
   "outputs": [],
   "source": [
    "model.train()\n",
    "losses = []\n",
    "for epoch in range(EPOCHS):\n",
    "    print('EPOCH', epoch)\n",
    "    random.shuffle(pairs)\n",
    "    for i in trange(0, int(len(pairs) / BATCH_SIZE)):\n",
    "        batch = pairs[i * BATCH_SIZE: (i + 1) * BATCH_SIZE]\n",
    "        x = tokenizer([p[0] for p in batch], return_tensors='pt', padding=\"longest\", \\\n",
    "                      max_length=MAX_INPUT, truncation=True).to(model.device)\n",
    "        y = tokenizer([p[1] for p in batch], return_tensors='pt', padding=\"longest\", \\\n",
    "                      max_length=MAX_OUTPUT, truncation=True, ).to(model.device)\n",
    "        y.input_ids[y.input_ids == 0] = -100\n",
    "        loss = model(\n",
    "            input_ids=x.input_ids,\n",
    "            attention_mask=x.attention_mask,\n",
    "            labels=y.input_ids,\n",
    "            decoder_attention_mask=y.attention_mask,\n",
    "            return_dict=True\n",
    "        ).loss\n",
    "        loss.backward()\n",
    "        optimizer.step()\n",
    "        optimizer.zero_grad()\n",
    "        losses.append(loss.item())\n",
    "        if i % REPORT_STEPS == 0:\n",
    "            print('step', i, 'loss', np.mean(losses[-REPORT_STEPS:]))"
   ],
   "metadata": {
    "collapsed": false
   }
  },
  {
   "cell_type": "markdown",
   "source": [
    "### Save model"
   ],
   "metadata": {
    "collapsed": false
   }
  },
  {
   "cell_type": "code",
   "execution_count": null,
   "outputs": [],
   "source": [
    "if SAVE_TO_HUB:\n",
    "    notebook_login()\n",
    "    model.push_to_hub(SAVE_MODEL_NAME)\n",
    "    tokenizer.push_to_hub(SAVE_MODEL_NAME)\n",
    "else:\n",
    "    model.save_pretrained(SAVE_MODEL_NAME)\n",
    "    tokenizer.save_pretrained(SAVE_MODEL_NAME)"
   ],
   "metadata": {
    "collapsed": false
   }
  },
  {
   "cell_type": "markdown",
   "source": [
    "### Testing model"
   ],
   "metadata": {
    "collapsed": false
   }
  },
  {
   "cell_type": "code",
   "execution_count": null,
   "outputs": [],
   "source": [
    "model.eval()\n",
    "\n",
    "\n",
    "def answer(x, **kwargs):\n",
    "    inputs = tokenizer(x, return_tensors='pt').to(model.device)\n",
    "    with torch.no_grad():\n",
    "        hypotheses = model.generate(**inputs, **kwargs)\n",
    "    return tokenizer.decode(hypotheses[0], skip_special_tokens=True)"
   ],
   "metadata": {
    "collapsed": false
   }
  },
  {
   "cell_type": "code",
   "execution_count": null,
   "outputs": [],
   "source": [
    "print('model: ', answer(TASK_PREFIX + 'What is love?'))"
   ],
   "metadata": {
    "collapsed": false
   }
  }
 ],
 "metadata": {
  "kernelspec": {
   "display_name": "Python 3",
   "language": "python",
   "name": "python3"
  },
  "language_info": {
   "codemirror_mode": {
    "name": "ipython",
    "version": 2
   },
   "file_extension": ".py",
   "mimetype": "text/x-python",
   "name": "python",
   "nbconvert_exporter": "python",
   "pygments_lexer": "ipython2",
   "version": "2.7.6"
  }
 },
 "nbformat": 4,
 "nbformat_minor": 0
}

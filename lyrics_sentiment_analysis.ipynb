{
 "cells": [
  {
   "cell_type": "code",
   "execution_count": 8,
   "outputs": [
    {
     "name": "stdout",
     "output_type": "stream",
     "text": [
      "The operation couldn’t be completed. Unable to locate a Java Runtime that supports apt.\r\n",
      "Please visit http://www.java.com for information on installing Java.\r\n",
      "\r\n",
      "Requirement already satisfied: torch in ./venv/lib/python3.9/site-packages (1.13.1)\r\n",
      "Requirement already satisfied: typing-extensions in ./venv/lib/python3.9/site-packages (from torch) (4.5.0)\r\n",
      "The operation couldn’t be completed. Unable to locate a Java Runtime that supports apt.\r\n",
      "Please visit http://www.java.com for information on installing Java.\r\n",
      "\r\n"
     ]
    }
   ],
   "source": [
    "!pip install torch --quiet\n",
    "!pip install sklearn --quiet\n",
    "!pip install datasets --quiet\n",
    "!apt install git-lfs --quiet\n",
    "!pip install transformers --quiet\n",
    "!pip install sentencepiece --quiet"
   ],
   "metadata": {
    "collapsed": false
   }
  },
  {
   "cell_type": "code",
   "execution_count": 6,
   "outputs": [],
   "source": [
    "!pip install pandas --quiet\n",
    "!pip install numpy --quiet"
   ],
   "metadata": {
    "collapsed": false
   }
  },
  {
   "cell_type": "code",
   "execution_count": 40,
   "outputs": [
    {
     "name": "stdout",
     "output_type": "stream",
     "text": [
      "Collecting billboard.py\r\n",
      "  Downloading billboard.py-7.0.0-py2.py3-none-any.whl (7.0 kB)\r\n",
      "Requirement already satisfied: requests>=2.2.1 in ./venv/lib/python3.9/site-packages (from billboard.py) (2.28.2)\r\n",
      "Requirement already satisfied: beautifulsoup4>=4.4.1 in ./venv/lib/python3.9/site-packages (from billboard.py) (4.11.2)\r\n",
      "Requirement already satisfied: soupsieve>1.2 in ./venv/lib/python3.9/site-packages (from beautifulsoup4>=4.4.1->billboard.py) (2.4)\r\n",
      "Requirement already satisfied: urllib3<1.27,>=1.21.1 in ./venv/lib/python3.9/site-packages (from requests>=2.2.1->billboard.py) (1.26.14)\r\n",
      "Requirement already satisfied: idna<4,>=2.5 in ./venv/lib/python3.9/site-packages (from requests>=2.2.1->billboard.py) (3.4)\r\n",
      "Requirement already satisfied: charset-normalizer<4,>=2 in ./venv/lib/python3.9/site-packages (from requests>=2.2.1->billboard.py) (3.1.0)\r\n",
      "Requirement already satisfied: certifi>=2017.4.17 in ./venv/lib/python3.9/site-packages (from requests>=2.2.1->billboard.py) (2022.12.7)\r\n",
      "Installing collected packages: billboard.py\r\n",
      "Successfully installed billboard.py-7.0.0\r\n"
     ]
    }
   ],
   "source": [
    "!pip install beautifulsoup4 --quiet\n",
    "!pip install lyricsgenius --quiet\n",
    "!pip install billboard.py"
   ],
   "metadata": {
    "collapsed": false
   }
  },
  {
   "cell_type": "code",
   "execution_count": 14,
   "outputs": [
    {
     "name": "stdout",
     "output_type": "stream",
     "text": [
      "Collecting git+https://github.com/johnwmillr/LyricsGenius.git\r\n",
      "  Cloning https://github.com/johnwmillr/LyricsGenius.git to /private/var/folders/zk/j144yn6s7034375p4gjwc6j00000gn/T/pip-req-build-9a1jmf8w\r\n",
      "  Running command git clone --filter=blob:none --quiet https://github.com/johnwmillr/LyricsGenius.git /private/var/folders/zk/j144yn6s7034375p4gjwc6j00000gn/T/pip-req-build-9a1jmf8w\r\n",
      "  Resolved https://github.com/johnwmillr/LyricsGenius.git to commit bec02665b807941ca95e045be910e861789fc4a7\r\n",
      "  Preparing metadata (setup.py) ... \u001B[?25ldone\r\n",
      "\u001B[?25hRequirement already satisfied: beautifulsoup4>=4.6.0 in ./venv/lib/python3.9/site-packages (from lyricsgenius==3.0.1) (4.11.2)\r\n",
      "Requirement already satisfied: requests>=2.20.0 in ./venv/lib/python3.9/site-packages (from lyricsgenius==3.0.1) (2.28.2)\r\n",
      "Requirement already satisfied: soupsieve>1.2 in ./venv/lib/python3.9/site-packages (from beautifulsoup4>=4.6.0->lyricsgenius==3.0.1) (2.4)\r\n",
      "Requirement already satisfied: certifi>=2017.4.17 in ./venv/lib/python3.9/site-packages (from requests>=2.20.0->lyricsgenius==3.0.1) (2022.12.7)\r\n",
      "Requirement already satisfied: charset-normalizer<4,>=2 in ./venv/lib/python3.9/site-packages (from requests>=2.20.0->lyricsgenius==3.0.1) (3.1.0)\r\n",
      "Requirement already satisfied: idna<4,>=2.5 in ./venv/lib/python3.9/site-packages (from requests>=2.20.0->lyricsgenius==3.0.1) (3.4)\r\n",
      "Requirement already satisfied: urllib3<1.27,>=1.21.1 in ./venv/lib/python3.9/site-packages (from requests>=2.20.0->lyricsgenius==3.0.1) (1.26.14)\r\n"
     ]
    }
   ],
   "source": [
    "# !pip install git+https://github.com/johnwmillr/LyricsGenius.git --quiet"
   ],
   "metadata": {
    "collapsed": false
   }
  },
  {
   "cell_type": "code",
   "execution_count": 136,
   "outputs": [
    {
     "name": "stdout",
     "output_type": "stream",
     "text": [
      "Collecting python-dotenv\r\n",
      "  Downloading python_dotenv-1.0.0-py3-none-any.whl (19 kB)\r\n",
      "Installing collected packages: python-dotenv\r\n",
      "Successfully installed python-dotenv-1.0.0\r\n"
     ]
    }
   ],
   "source": [
    "!pip install python-dotenv\n",
    "import dotenv\n",
    "%load_ext dotenv\n",
    "%dotenv"
   ],
   "metadata": {
    "collapsed": false
   }
  },
  {
   "cell_type": "code",
   "execution_count": 137,
   "metadata": {
    "collapsed": true
   },
   "outputs": [
    {
     "data": {
      "text/plain": "<IPython.core.display.HTML object>",
      "text/html": "<style>.container { width:100% !important; }</style>"
     },
     "metadata": {},
     "output_type": "display_data"
    },
    {
     "name": "stderr",
     "output_type": "stream",
     "text": [
      "UsageError: Line magic function `%` not found.\n"
     ]
    }
   ],
   "source": [
    "import pandas as pd\n",
    "import numpy as np\n",
    "import requests\n",
    "\n",
    "# import matplotlib as mpl\n",
    "# import matplotlib.pyplot as plt\n",
    "# import seaborn as sns\n",
    "from IPython.display import HTML, display\n",
    "from bs4 import BeautifulSoup\n",
    "# from nltk.tokenize import RegexpTokenizer\n",
    "import lyricsgenius as genius\n",
    "import billboard\n",
    "import sys\n",
    "import re\n",
    "# from nltk.corpus import stopwords\n",
    "# from nltk.tokenize import word_tokenize\n",
    "# import string\n",
    "# from nltk.stem import PorterStemmer\n",
    "from datetime import datetime, date, timedelta\n",
    "# from wordcloud import WordCloud\n",
    "# from sklearn.feature_extraction.text import TfidfVectorizer, CountVectorizer\n",
    "# import spacy\n",
    "# from collections import Counter\n",
    "# from os import path\n",
    "# from PIL import Image\n",
    "# from keras.models import model_from_json\n",
    "# import pickle\n",
    "\n",
    "\n",
    "import torch\n",
    "from transformers import T5ForConditionalGeneration, T5Tokenizer\n",
    "import random\n",
    "from tqdm.auto import tqdm, trange\n",
    "from huggingface_hub import notebook_login\n",
    "import os\n",
    "from sklearn.model_selection import train_test_split\n",
    "\n",
    "pd.options.mode.chained_assignment = None\n",
    "display(HTML(\"<style>.container { width:100% !important; }</style>\"))\n",
    "% config InlineBackend.figure_format = 'png'"
   ]
  },
  {
   "cell_type": "code",
   "execution_count": null,
   "outputs": [],
   "source": [
    "def disable_pandas_warnings():\n",
    "    import warnings\n",
    "    warnings.resetwarnings()  # Maybe somebody else is messing with the warnings system?\n",
    "    warnings.filterwarnings('ignore')  # Ignore everything\n",
    "    # ignore everything does not work: ignore specific messages, using regex\n",
    "    warnings.filterwarnings('ignore', '.*A value is trying to be set on a copy of a slice from a DataFrame.*')\n",
    "    warnings.filterwarnings('ignore', '.*indexing past lexsort depth may impact performance*')"
   ],
   "metadata": {
    "collapsed": false
   }
  },
  {
   "cell_type": "code",
   "execution_count": null,
   "outputs": [],
   "source": [
    "disable_pandas_warnings()"
   ],
   "metadata": {
    "collapsed": false
   }
  },
  {
   "cell_type": "code",
   "execution_count": 143,
   "outputs": [],
   "source": [
    "def daterange(start_date, end_date):\n",
    "    for n in range(int((end_date - start_date).days)):\n",
    "        yield start_date + timedelta(n)"
   ],
   "metadata": {
    "collapsed": false
   }
  },
  {
   "cell_type": "code",
   "execution_count": 144,
   "outputs": [],
   "source": [
    "def collect_songs_from_billboard_each_day(start_date_str, end_date_str, chart_name='hot-100', table_path = None,to_csv = True):\n",
    "    start_date = datetime.strptime(\n",
    "        start_date_str, '%Y-%m-%d')\n",
    "    end_date = datetime.strptime(end_date_str, '%Y-%m-%d')\n",
    "\n",
    "    dataset = pd.DataFrame()\n",
    "    sys.stdout.write(\n",
    "        \"\\r\" + \"Collecting Songs from \" + start_date_str + \" to \" + end_date_str + \" via https://www.billboard.com\")\n",
    "    sys.stdout.flush()\n",
    "    for single_date in tqdm(daterange(start_date, end_date)):\n",
    "        chart = billboard.ChartData(chart_name, date=single_date.strftime('%Y-%m-%d'))\n",
    "        for song in chart:\n",
    "            row = {\n",
    "                \"Rank\": song.rank,\n",
    "                \"Song Title\": song.title,\n",
    "                \"Artist\": song.artist,\n",
    "                \"Date\": single_date.strftime('%Y-%m-%d'),\n",
    "                \"Year\": single_date.strftime('%Y')\n",
    "            }\n",
    "            if to_csv:\n",
    "                pd.DataFrame(row).to_csv(table_path, mode='a', index=False, header=False)\n",
    "            else:\n",
    "                dataset = dataset.append(row, ignore_index=True)  #pd.concat([dataset,pd.DataFrame(row)],ignore_index=True)#\n",
    "    if not to_csv:\n",
    "        return dataset\n"
   ],
   "metadata": {
    "collapsed": false
   }
  },
  {
   "cell_type": "code",
   "execution_count": 145,
   "outputs": [
    {
     "name": "stdout",
     "output_type": "stream",
     "text": [
      "Collecting Songs from 2000-01-01 to 2023-01-01 via https://www.billboard.com"
     ]
    },
    {
     "name": "stderr",
     "output_type": "stream",
     "text": [
      "0it [00:00, ?it/s]\n"
     ]
    },
    {
     "ename": "AttributeError",
     "evalue": "'datetime.timedelta' object has no attribute 'weeks'",
     "output_type": "error",
     "traceback": [
      "\u001B[0;31m---------------------------------------------------------------------------\u001B[0m",
      "\u001B[0;31mAttributeError\u001B[0m                            Traceback (most recent call last)",
      "Cell \u001B[0;32mIn[145], line 1\u001B[0m\n\u001B[0;32m----> 1\u001B[0m all_songs \u001B[38;5;241m=\u001B[39m \u001B[43mcollect_songs_from_billboard_each_day\u001B[49m\u001B[43m(\u001B[49m\u001B[38;5;124;43m'\u001B[39;49m\u001B[38;5;124;43m2000-01-01\u001B[39;49m\u001B[38;5;124;43m'\u001B[39;49m\u001B[43m,\u001B[49m\u001B[43m \u001B[49m\u001B[38;5;124;43m'\u001B[39;49m\u001B[38;5;124;43m2023-01-01\u001B[39;49m\u001B[38;5;124;43m'\u001B[39;49m\u001B[43m)\u001B[49m\n",
      "Cell \u001B[0;32mIn[144], line 10\u001B[0m, in \u001B[0;36mcollect_songs_from_billboard_each_day\u001B[0;34m(start_date_str, end_date_str, chart_name, table_path, to_csv)\u001B[0m\n\u001B[1;32m      7\u001B[0m sys\u001B[38;5;241m.\u001B[39mstdout\u001B[38;5;241m.\u001B[39mwrite(\n\u001B[1;32m      8\u001B[0m     \u001B[38;5;124m\"\u001B[39m\u001B[38;5;130;01m\\r\u001B[39;00m\u001B[38;5;124m\"\u001B[39m \u001B[38;5;241m+\u001B[39m \u001B[38;5;124m\"\u001B[39m\u001B[38;5;124mCollecting Songs from \u001B[39m\u001B[38;5;124m\"\u001B[39m \u001B[38;5;241m+\u001B[39m start_date_str \u001B[38;5;241m+\u001B[39m \u001B[38;5;124m\"\u001B[39m\u001B[38;5;124m to \u001B[39m\u001B[38;5;124m\"\u001B[39m \u001B[38;5;241m+\u001B[39m end_date_str \u001B[38;5;241m+\u001B[39m \u001B[38;5;124m\"\u001B[39m\u001B[38;5;124m via https://www.billboard.com\u001B[39m\u001B[38;5;124m\"\u001B[39m)\n\u001B[1;32m      9\u001B[0m sys\u001B[38;5;241m.\u001B[39mstdout\u001B[38;5;241m.\u001B[39mflush()\n\u001B[0;32m---> 10\u001B[0m \u001B[38;5;28;01mfor\u001B[39;00m single_date \u001B[38;5;129;01min\u001B[39;00m tqdm(daterange(start_date, end_date)):\n\u001B[1;32m     11\u001B[0m     chart \u001B[38;5;241m=\u001B[39m billboard\u001B[38;5;241m.\u001B[39mChartData(chart_name, date\u001B[38;5;241m=\u001B[39msingle_date\u001B[38;5;241m.\u001B[39mstrftime(\u001B[38;5;124m'\u001B[39m\u001B[38;5;124m%\u001B[39m\u001B[38;5;124mY-\u001B[39m\u001B[38;5;124m%\u001B[39m\u001B[38;5;124mm-\u001B[39m\u001B[38;5;132;01m%d\u001B[39;00m\u001B[38;5;124m'\u001B[39m))\n\u001B[1;32m     12\u001B[0m     \u001B[38;5;28;01mfor\u001B[39;00m song \u001B[38;5;129;01min\u001B[39;00m chart:\n",
      "File \u001B[0;32m/Library/Frameworks/Python.framework/Versions/3.9/lib/python3.9/site-packages/tqdm/std.py:1195\u001B[0m, in \u001B[0;36mtqdm.__iter__\u001B[0;34m(self)\u001B[0m\n\u001B[1;32m   1192\u001B[0m time \u001B[38;5;241m=\u001B[39m \u001B[38;5;28mself\u001B[39m\u001B[38;5;241m.\u001B[39m_time\n\u001B[1;32m   1194\u001B[0m \u001B[38;5;28;01mtry\u001B[39;00m:\n\u001B[0;32m-> 1195\u001B[0m     \u001B[38;5;28;01mfor\u001B[39;00m obj \u001B[38;5;129;01min\u001B[39;00m iterable:\n\u001B[1;32m   1196\u001B[0m         \u001B[38;5;28;01myield\u001B[39;00m obj\n\u001B[1;32m   1197\u001B[0m         \u001B[38;5;66;03m# Update and possibly print the progressbar.\u001B[39;00m\n\u001B[1;32m   1198\u001B[0m         \u001B[38;5;66;03m# Note: does not call self.update(1) for speed optimisation.\u001B[39;00m\n",
      "Cell \u001B[0;32mIn[143], line 2\u001B[0m, in \u001B[0;36mdaterange\u001B[0;34m(start_date, end_date)\u001B[0m\n\u001B[1;32m      1\u001B[0m \u001B[38;5;28;01mdef\u001B[39;00m \u001B[38;5;21mdaterange\u001B[39m(start_date, end_date):\n\u001B[0;32m----> 2\u001B[0m     \u001B[38;5;28;01mfor\u001B[39;00m n \u001B[38;5;129;01min\u001B[39;00m \u001B[38;5;28mrange\u001B[39m(\u001B[38;5;28mint\u001B[39m(\u001B[43m(\u001B[49m\u001B[43mend_date\u001B[49m\u001B[43m \u001B[49m\u001B[38;5;241;43m-\u001B[39;49m\u001B[43m \u001B[49m\u001B[43mstart_date\u001B[49m\u001B[43m)\u001B[49m\u001B[38;5;241;43m.\u001B[39;49m\u001B[43mweeks\u001B[49m)):\n\u001B[1;32m      3\u001B[0m         \u001B[38;5;28;01myield\u001B[39;00m start_date \u001B[38;5;241m+\u001B[39m timedelta(n)\n",
      "\u001B[0;31mAttributeError\u001B[0m: 'datetime.timedelta' object has no attribute 'weeks'"
     ]
    }
   ],
   "source": [
    "all_songs = collect_songs_from_billboard_each_day('2000-01-01', '2023-01-01')"
   ],
   "metadata": {
    "collapsed": false
   }
  },
  {
   "cell_type": "code",
   "execution_count": 139,
   "outputs": [],
   "source": [
    "all_songs.to_csv(\"all_songs.csv\")"
   ],
   "metadata": {
    "collapsed": false
   }
  },
  {
   "cell_type": "code",
   "execution_count": 142,
   "outputs": [
    {
     "data": {
      "text/plain": "     Rank                                         Song Title  \\\n150    51                                    One Tin Soldier   \n151    52                             Traces/Memories Medley   \n152    53                         I'm So Glad I Fell For You   \n153    54                                 The Thrill Is Gone   \n154    55                                 Okie From Muskogee   \n155    56                          Tonight I'll Say A Prayer   \n156    57                                      Look-Ka Py Py   \n157    58               Don't Let Him Take Your Love From Me   \n158    59              Oh Me Oh My (I'm A Fool For You Baby)   \n159    60                                         Love Bones   \n160    61                                     Sunday Mornin'   \n161    62                                            Hold On   \n162    63                                         I Love You   \n163    64                                   Bold Soul Sister   \n164    65                                   What You Gave Me   \n165    66      She Lets Her Hair Down (Early In The Morning)   \n166    67                                    My Honey And Me   \n167    68                            Is It Because I'm Black   \n168    69                                   Moon Walk Part 1   \n169    70               Rainy Night In Georgia/Rubberneckin'   \n170    71                          Breaking Up Is Hard To Do   \n171    72                         Can't Take My Eyes Off You   \n172    73          I'm Just A Prisoner (Of Your Good Lovin')   \n173    74                    He Ain't Heavy, He's My Brother   \n174    75                                   Jennifer Tomkins   \n175    76                      To Be Young, Gifted And Black   \n176    77                Didn't I (Blow Your Mind This Time)   \n177    78                                    Honey Come Back   \n178    79                                   Six White Horses   \n179    80                        Won't Find Better (Than Me)   \n180    81                        How Can I Tell My Mom & Dad   \n181    82                             Groovin' (Out On Life)   \n182    83                                      Hello It's Me   \n183    84                                   The Touch Of You   \n184    85                    Give Me Just A Little More Time   \n185    86                         I Started Loving You Again   \n186    87                              Come Saturday Morning   \n187    88                               The Gangs Back Again   \n188    89      She Lets Her Hair Down (Early In The Morning)   \n189    90                                Barbara, I Love You   \n190    91                                   Compared To What   \n191    92  Theme Music For The Film \"2001\" A Space Odysse...   \n192    93                                    Johnny B. Goode   \n193    94                          If I Never Knew Your Name   \n194    95                                  Psychedelic Shack   \n195    96                                      Mornin Mornin   \n196    97                                If Walls Could Talk   \n197    98                                   Country Preacher   \n198    99                                  The Ghetto-Part 1   \n199   100                                    Shades Of Green   \n\n                              Artist        Date  \n150               The Original Caste  1970-01-13  \n151                    The Lettermen  1970-01-13  \n152                     David Ruffin  1970-01-13  \n153                        B.B. King  1970-01-13  \n154  Merle Haggard And The Strangers  1970-01-13  \n155                      Eydie Gorme  1970-01-13  \n156                       The Meters  1970-01-13  \n157                        Four Tops  1970-01-13  \n158                             Lulu  1970-01-13  \n159                   Johnnie Taylor  1970-01-13  \n160                           Oliver  1970-01-13  \n161                      The Rascals  1970-01-13  \n162                     Otis Leavill  1970-01-13  \n163                Ike & Tina Turner  1970-01-13  \n164      Marvin Gaye & Tammi Terrell  1970-01-13  \n165                       The Tokens  1970-01-13  \n166                    Luther Ingram  1970-01-13  \n167                      Syl Johnson  1970-01-13  \n168                        Joe Simon  1970-01-13  \n169                     Brook Benton  1970-01-13  \n170                      Lenny Welch  1970-01-13  \n171                     Nancy Wilson  1970-01-13  \n172                     Candi Staton  1970-01-13  \n173                      The Hollies  1970-01-13  \n174                    Street People  1970-01-13  \n175                      Nina Simone  1970-01-13  \n176                    The Delfonics  1970-01-13  \n177                    Glen Campbell  1970-01-13  \n178                       Tommy Cash  1970-01-13  \n179                     The New Hope  1970-01-13  \n180                    The Lovelites  1970-01-13  \n181                     The Newbeats  1970-01-13  \n182                             Nazz  1970-01-13  \n183         Brenda & The Tabulations  1970-01-13  \n184            Chairman Of The Board  1970-01-13  \n185                       Al Martino  1970-01-13  \n186                   The Sandpipers  1970-01-13  \n187                  Kool & The Gang  1970-01-13  \n188                      Gene Pitney  1970-01-13  \n189                   New Colony Six  1970-01-13  \n190        Les McCann & Eddie Harris  1970-01-13  \n191              Berlin Philharmonic  1970-01-13  \n192                    Johnny Winter  1970-01-13  \n193                         Vic Dana  1970-01-13  \n194                  The Temptations  1970-01-13  \n195                  Bobby Goldsboro  1970-01-13  \n196                    Little Milton  1970-01-13  \n197              Cannonball Adderley  1970-01-13  \n198                   Donny Hathaway  1970-01-13  \n199                The Flaming Ember  1970-01-13  ",
      "text/html": "<div>\n<style scoped>\n    .dataframe tbody tr th:only-of-type {\n        vertical-align: middle;\n    }\n\n    .dataframe tbody tr th {\n        vertical-align: top;\n    }\n\n    .dataframe thead th {\n        text-align: right;\n    }\n</style>\n<table border=\"1\" class=\"dataframe\">\n  <thead>\n    <tr style=\"text-align: right;\">\n      <th></th>\n      <th>Rank</th>\n      <th>Song Title</th>\n      <th>Artist</th>\n      <th>Date</th>\n    </tr>\n  </thead>\n  <tbody>\n    <tr>\n      <th>150</th>\n      <td>51</td>\n      <td>One Tin Soldier</td>\n      <td>The Original Caste</td>\n      <td>1970-01-13</td>\n    </tr>\n    <tr>\n      <th>151</th>\n      <td>52</td>\n      <td>Traces/Memories Medley</td>\n      <td>The Lettermen</td>\n      <td>1970-01-13</td>\n    </tr>\n    <tr>\n      <th>152</th>\n      <td>53</td>\n      <td>I'm So Glad I Fell For You</td>\n      <td>David Ruffin</td>\n      <td>1970-01-13</td>\n    </tr>\n    <tr>\n      <th>153</th>\n      <td>54</td>\n      <td>The Thrill Is Gone</td>\n      <td>B.B. King</td>\n      <td>1970-01-13</td>\n    </tr>\n    <tr>\n      <th>154</th>\n      <td>55</td>\n      <td>Okie From Muskogee</td>\n      <td>Merle Haggard And The Strangers</td>\n      <td>1970-01-13</td>\n    </tr>\n    <tr>\n      <th>155</th>\n      <td>56</td>\n      <td>Tonight I'll Say A Prayer</td>\n      <td>Eydie Gorme</td>\n      <td>1970-01-13</td>\n    </tr>\n    <tr>\n      <th>156</th>\n      <td>57</td>\n      <td>Look-Ka Py Py</td>\n      <td>The Meters</td>\n      <td>1970-01-13</td>\n    </tr>\n    <tr>\n      <th>157</th>\n      <td>58</td>\n      <td>Don't Let Him Take Your Love From Me</td>\n      <td>Four Tops</td>\n      <td>1970-01-13</td>\n    </tr>\n    <tr>\n      <th>158</th>\n      <td>59</td>\n      <td>Oh Me Oh My (I'm A Fool For You Baby)</td>\n      <td>Lulu</td>\n      <td>1970-01-13</td>\n    </tr>\n    <tr>\n      <th>159</th>\n      <td>60</td>\n      <td>Love Bones</td>\n      <td>Johnnie Taylor</td>\n      <td>1970-01-13</td>\n    </tr>\n    <tr>\n      <th>160</th>\n      <td>61</td>\n      <td>Sunday Mornin'</td>\n      <td>Oliver</td>\n      <td>1970-01-13</td>\n    </tr>\n    <tr>\n      <th>161</th>\n      <td>62</td>\n      <td>Hold On</td>\n      <td>The Rascals</td>\n      <td>1970-01-13</td>\n    </tr>\n    <tr>\n      <th>162</th>\n      <td>63</td>\n      <td>I Love You</td>\n      <td>Otis Leavill</td>\n      <td>1970-01-13</td>\n    </tr>\n    <tr>\n      <th>163</th>\n      <td>64</td>\n      <td>Bold Soul Sister</td>\n      <td>Ike &amp; Tina Turner</td>\n      <td>1970-01-13</td>\n    </tr>\n    <tr>\n      <th>164</th>\n      <td>65</td>\n      <td>What You Gave Me</td>\n      <td>Marvin Gaye &amp; Tammi Terrell</td>\n      <td>1970-01-13</td>\n    </tr>\n    <tr>\n      <th>165</th>\n      <td>66</td>\n      <td>She Lets Her Hair Down (Early In The Morning)</td>\n      <td>The Tokens</td>\n      <td>1970-01-13</td>\n    </tr>\n    <tr>\n      <th>166</th>\n      <td>67</td>\n      <td>My Honey And Me</td>\n      <td>Luther Ingram</td>\n      <td>1970-01-13</td>\n    </tr>\n    <tr>\n      <th>167</th>\n      <td>68</td>\n      <td>Is It Because I'm Black</td>\n      <td>Syl Johnson</td>\n      <td>1970-01-13</td>\n    </tr>\n    <tr>\n      <th>168</th>\n      <td>69</td>\n      <td>Moon Walk Part 1</td>\n      <td>Joe Simon</td>\n      <td>1970-01-13</td>\n    </tr>\n    <tr>\n      <th>169</th>\n      <td>70</td>\n      <td>Rainy Night In Georgia/Rubberneckin'</td>\n      <td>Brook Benton</td>\n      <td>1970-01-13</td>\n    </tr>\n    <tr>\n      <th>170</th>\n      <td>71</td>\n      <td>Breaking Up Is Hard To Do</td>\n      <td>Lenny Welch</td>\n      <td>1970-01-13</td>\n    </tr>\n    <tr>\n      <th>171</th>\n      <td>72</td>\n      <td>Can't Take My Eyes Off You</td>\n      <td>Nancy Wilson</td>\n      <td>1970-01-13</td>\n    </tr>\n    <tr>\n      <th>172</th>\n      <td>73</td>\n      <td>I'm Just A Prisoner (Of Your Good Lovin')</td>\n      <td>Candi Staton</td>\n      <td>1970-01-13</td>\n    </tr>\n    <tr>\n      <th>173</th>\n      <td>74</td>\n      <td>He Ain't Heavy, He's My Brother</td>\n      <td>The Hollies</td>\n      <td>1970-01-13</td>\n    </tr>\n    <tr>\n      <th>174</th>\n      <td>75</td>\n      <td>Jennifer Tomkins</td>\n      <td>Street People</td>\n      <td>1970-01-13</td>\n    </tr>\n    <tr>\n      <th>175</th>\n      <td>76</td>\n      <td>To Be Young, Gifted And Black</td>\n      <td>Nina Simone</td>\n      <td>1970-01-13</td>\n    </tr>\n    <tr>\n      <th>176</th>\n      <td>77</td>\n      <td>Didn't I (Blow Your Mind This Time)</td>\n      <td>The Delfonics</td>\n      <td>1970-01-13</td>\n    </tr>\n    <tr>\n      <th>177</th>\n      <td>78</td>\n      <td>Honey Come Back</td>\n      <td>Glen Campbell</td>\n      <td>1970-01-13</td>\n    </tr>\n    <tr>\n      <th>178</th>\n      <td>79</td>\n      <td>Six White Horses</td>\n      <td>Tommy Cash</td>\n      <td>1970-01-13</td>\n    </tr>\n    <tr>\n      <th>179</th>\n      <td>80</td>\n      <td>Won't Find Better (Than Me)</td>\n      <td>The New Hope</td>\n      <td>1970-01-13</td>\n    </tr>\n    <tr>\n      <th>180</th>\n      <td>81</td>\n      <td>How Can I Tell My Mom &amp; Dad</td>\n      <td>The Lovelites</td>\n      <td>1970-01-13</td>\n    </tr>\n    <tr>\n      <th>181</th>\n      <td>82</td>\n      <td>Groovin' (Out On Life)</td>\n      <td>The Newbeats</td>\n      <td>1970-01-13</td>\n    </tr>\n    <tr>\n      <th>182</th>\n      <td>83</td>\n      <td>Hello It's Me</td>\n      <td>Nazz</td>\n      <td>1970-01-13</td>\n    </tr>\n    <tr>\n      <th>183</th>\n      <td>84</td>\n      <td>The Touch Of You</td>\n      <td>Brenda &amp; The Tabulations</td>\n      <td>1970-01-13</td>\n    </tr>\n    <tr>\n      <th>184</th>\n      <td>85</td>\n      <td>Give Me Just A Little More Time</td>\n      <td>Chairman Of The Board</td>\n      <td>1970-01-13</td>\n    </tr>\n    <tr>\n      <th>185</th>\n      <td>86</td>\n      <td>I Started Loving You Again</td>\n      <td>Al Martino</td>\n      <td>1970-01-13</td>\n    </tr>\n    <tr>\n      <th>186</th>\n      <td>87</td>\n      <td>Come Saturday Morning</td>\n      <td>The Sandpipers</td>\n      <td>1970-01-13</td>\n    </tr>\n    <tr>\n      <th>187</th>\n      <td>88</td>\n      <td>The Gangs Back Again</td>\n      <td>Kool &amp; The Gang</td>\n      <td>1970-01-13</td>\n    </tr>\n    <tr>\n      <th>188</th>\n      <td>89</td>\n      <td>She Lets Her Hair Down (Early In The Morning)</td>\n      <td>Gene Pitney</td>\n      <td>1970-01-13</td>\n    </tr>\n    <tr>\n      <th>189</th>\n      <td>90</td>\n      <td>Barbara, I Love You</td>\n      <td>New Colony Six</td>\n      <td>1970-01-13</td>\n    </tr>\n    <tr>\n      <th>190</th>\n      <td>91</td>\n      <td>Compared To What</td>\n      <td>Les McCann &amp; Eddie Harris</td>\n      <td>1970-01-13</td>\n    </tr>\n    <tr>\n      <th>191</th>\n      <td>92</td>\n      <td>Theme Music For The Film \"2001\" A Space Odysse...</td>\n      <td>Berlin Philharmonic</td>\n      <td>1970-01-13</td>\n    </tr>\n    <tr>\n      <th>192</th>\n      <td>93</td>\n      <td>Johnny B. Goode</td>\n      <td>Johnny Winter</td>\n      <td>1970-01-13</td>\n    </tr>\n    <tr>\n      <th>193</th>\n      <td>94</td>\n      <td>If I Never Knew Your Name</td>\n      <td>Vic Dana</td>\n      <td>1970-01-13</td>\n    </tr>\n    <tr>\n      <th>194</th>\n      <td>95</td>\n      <td>Psychedelic Shack</td>\n      <td>The Temptations</td>\n      <td>1970-01-13</td>\n    </tr>\n    <tr>\n      <th>195</th>\n      <td>96</td>\n      <td>Mornin Mornin</td>\n      <td>Bobby Goldsboro</td>\n      <td>1970-01-13</td>\n    </tr>\n    <tr>\n      <th>196</th>\n      <td>97</td>\n      <td>If Walls Could Talk</td>\n      <td>Little Milton</td>\n      <td>1970-01-13</td>\n    </tr>\n    <tr>\n      <th>197</th>\n      <td>98</td>\n      <td>Country Preacher</td>\n      <td>Cannonball Adderley</td>\n      <td>1970-01-13</td>\n    </tr>\n    <tr>\n      <th>198</th>\n      <td>99</td>\n      <td>The Ghetto-Part 1</td>\n      <td>Donny Hathaway</td>\n      <td>1970-01-13</td>\n    </tr>\n    <tr>\n      <th>199</th>\n      <td>100</td>\n      <td>Shades Of Green</td>\n      <td>The Flaming Ember</td>\n      <td>1970-01-13</td>\n    </tr>\n  </tbody>\n</table>\n</div>"
     },
     "execution_count": 142,
     "metadata": {},
     "output_type": "execute_result"
    }
   ],
   "source": [
    "all_songs.tail(50)"
   ],
   "metadata": {
    "collapsed": false
   }
  },
  {
   "cell_type": "code",
   "execution_count": 43,
   "outputs": [
    {
     "ename": "NameError",
     "evalue": "name 'all_songs' is not defined",
     "output_type": "error",
     "traceback": [
      "\u001B[0;31m---------------------------------------------------------------------------\u001B[0m",
      "\u001B[0;31mNameError\u001B[0m                                 Traceback (most recent call last)",
      "Cell \u001B[0;32mIn[43], line 1\u001B[0m\n\u001B[0;32m----> 1\u001B[0m \u001B[43mall_songs\u001B[49m[\u001B[38;5;124m\"\u001B[39m\u001B[38;5;124mArtist\u001B[39m\u001B[38;5;124m\"\u001B[39m][all_songs[\u001B[38;5;124m'\u001B[39m\u001B[38;5;124mArtist\u001B[39m\u001B[38;5;124m'\u001B[39m] \u001B[38;5;241m==\u001B[39m \u001B[38;5;124m\"\u001B[39m\u001B[38;5;124mJackson 5\u001B[39m\u001B[38;5;124m\"\u001B[39m] \u001B[38;5;241m=\u001B[39m \u001B[38;5;124m\"\u001B[39m\u001B[38;5;124mThe Jackson 5\u001B[39m\u001B[38;5;124m\"\u001B[39m\n\u001B[1;32m      2\u001B[0m all_songs[\u001B[38;5;124m\"\u001B[39m\u001B[38;5;124mArtist\u001B[39m\u001B[38;5;124m\"\u001B[39m][all_songs[\u001B[38;5;124m'\u001B[39m\u001B[38;5;124mArtist\u001B[39m\u001B[38;5;124m'\u001B[39m] \u001B[38;5;241m==\u001B[39m \u001B[38;5;124m\"\u001B[39m\u001B[38;5;124mBeatles\u001B[39m\u001B[38;5;124m\"\u001B[39m] \u001B[38;5;241m=\u001B[39m \u001B[38;5;124m\"\u001B[39m\u001B[38;5;124mThe Beatles\u001B[39m\u001B[38;5;124m\"\u001B[39m\n",
      "\u001B[0;31mNameError\u001B[0m: name 'all_songs' is not defined"
     ]
    }
   ],
   "source": [
    "all_songs[\"Artist\"][all_songs['Artist'] == \"Jackson 5\"] = \"The Jackson 5\"\n",
    "all_songs[\"Artist\"][all_songs['Artist'] == \"Beatles\"] = \"The Beatles\""
   ],
   "metadata": {
    "collapsed": false
   }
  },
  {
   "cell_type": "code",
   "execution_count": null,
   "outputs": [],
   "source": [
    "api = genius.Genius(\"YOUR API KEY HERE\", sleep_time=0.01, verbose=False)"
   ],
   "metadata": {
    "collapsed": false
   }
  },
  {
   "cell_type": "code",
   "execution_count": null,
   "outputs": [],
   "source": [
    "all_song_data = pd.DataFrame()\n",
    "start_time = datetime.now()\n",
    "print(\"Started at {}\".format(start_time))\n",
    "for i in range(0, len(all_songs)):\n",
    "    rolling_pct = int((i / len(all_songs)) * 100)\n",
    "    print(str(rolling_pct) + \"% complete.\" + \" Collecting Record \" + str(i) + \" of \" +\n",
    "          str(len(all_songs)) + \". Year \" + str(all_songs.iloc[i]['Year']) + \".\" + \" Currently collecting \" +\n",
    "          all_songs.iloc[i]['Song Title'] + \" by \" + all_songs.iloc[i]['Artist'] + \" \" * 50, end=\"\\r\")\n",
    "    song_title = all_songs.iloc[i]['Song Title']\n",
    "    song_title = re.sub(\" and \", \" & \", song_title)\n",
    "    artist_name = all_songs.iloc[i]['Artist']\n",
    "    artist_name = re.sub(\" and \", \" & \", artist_name)\n",
    "\n",
    "    try:\n",
    "        song = api.search_song(song_title, artist=artist_name)\n",
    "        #print(song)\n",
    "        song_album = song.album\n",
    "        song_album_url = song.album_url\n",
    "        featured_artists = song.featured_artists\n",
    "        song_lyrics = re.sub(\"\\n\", \" \", song.lyrics)  #Remove newline breaks, we won't need them.\n",
    "        song_media = song.media\n",
    "        song_url = song.url\n",
    "        song_writer_artists = song.writer_artists\n",
    "        song_year = song.year\n",
    "    except:\n",
    "        song_album = \"null\"\n",
    "        song_album_url = \"null\"\n",
    "        featured_artists = \"null\"\n",
    "        song_lyrics = \"null\"\n",
    "        song_media = \"null\"\n",
    "        song_url = \"null\"\n",
    "        song_writer_artists = \"null\"\n",
    "        song_year = \"null\"\n",
    "\n",
    "    row = {\n",
    "        \"Year\": all_songs.iloc[i]['Year'],\n",
    "        \"Rank\": all_songs.iloc[i]['Rank'],\n",
    "        \"Song Title\": all_songs.iloc[i]['Song Title'],\n",
    "        \"Artist\": all_songs.iloc[i]['Artist'],\n",
    "        \"Album\": song_album,\n",
    "        \"Album URL\": song_album_url,\n",
    "        \"Featured Artists\": featured_artists,\n",
    "        \"Lyrics\": song_lyrics,\n",
    "        \"Media\": song_media,\n",
    "        \"Song URL\": song_url,\n",
    "        \"Writers\": song_writer_artists,\n",
    "        \"Release Date\": song_year\n",
    "    }\n",
    "    all_song_data = all_song_data.append(row, ignore_index=True)\n",
    "end_time = datetime.now()\n",
    "print(\"\\nCompleted at {}\".format(start_time))\n",
    "print(\"Total time to collect: {}\".format(end_time - start_time))\n"
   ],
   "metadata": {
    "collapsed": false
   }
  },
  {
   "cell_type": "code",
   "execution_count": null,
   "outputs": [],
   "source": [
    "all_song_data.head(5)"
   ],
   "metadata": {
    "collapsed": false
   }
  },
  {
   "cell_type": "code",
   "execution_count": null,
   "outputs": [],
   "source": [
    "all_song_data.to_csv(\"all_songs_data.csv\")\n",
    "all_song_data.to_json(\"all_song_data.json\", orient='records')"
   ],
   "metadata": {
    "collapsed": false
   }
  },
  {
   "cell_type": "code",
   "execution_count": null,
   "outputs": [],
   "source": [
    "loaded_song_dataset = pd.read_csv(\"all_songs_data.csv\", index_col=0)"
   ],
   "metadata": {
    "collapsed": false
   }
  },
  {
   "cell_type": "code",
   "execution_count": null,
   "outputs": [],
   "source": [
    "display(loaded_song_dataset.head())\n",
    "display(loaded_song_dataset.tail())"
   ],
   "metadata": {
    "collapsed": false
   }
  },
  {
   "cell_type": "code",
   "execution_count": null,
   "outputs": [],
   "source": [
    "songs_with_lyrics_dataset = loaded_song_dataset.dropna(subset=['Lyrics'])\n"
   ],
   "metadata": {
    "collapsed": false
   }
  },
  {
   "cell_type": "markdown",
   "source": [
    "## Understanding lyrics with T5 transformer"
   ],
   "metadata": {
    "collapsed": false
   }
  },
  {
   "cell_type": "markdown",
   "source": [
    "* TODO: ADD BLEU/ROUGE evaluation"
   ],
   "metadata": {
    "collapsed": false
   }
  },
  {
   "cell_type": "code",
   "execution_count": null,
   "outputs": [],
   "source": [
    "MODEL_NAME = 'igorktech/t5-base-en'\n",
    "SAVE_MODEL_NAME = 't5-base-en-explainer'\n",
    "model = T5ForConditionalGeneration.from_pretrained(MODEL_NAME)\n",
    "tokenizer = T5Tokenizer.from_pretrained(MODEL_NAME)\n",
    "device = torch.device(\"cuda\" if torch.cuda.is_available() else \"cpu\")\n",
    "model.to(device);\n",
    "\n",
    "BATCH_SIZE = 32\n",
    "REPORT_STEPS = 1000\n",
    "EPOCHS = 1\n",
    "LEARNING_RATE = 1e-4\n",
    "TASK_PREFIX = \"explain | \"\n",
    "MAX_INPUT = 64\n",
    "MAX_OUTPUT = 64\n",
    "# model.config.max_length = MAX_OUTPUT #not mandatory\n",
    "SAVE_TO_HUB = True"
   ],
   "metadata": {
    "collapsed": false
   }
  },
  {
   "cell_type": "code",
   "execution_count": null,
   "outputs": [],
   "source": [
    "pairs = []\n",
    "for a, b in zip(data['train']['short'], data['train']['long']):\n",
    "    pairs.append([TASK_PREFIX + a, b])"
   ],
   "metadata": {
    "collapsed": false
   }
  },
  {
   "cell_type": "code",
   "execution_count": null,
   "outputs": [],
   "source": [
    "optimizer = torch.optim.Adam(model.parameters(), lr=LEARNING_RATE)"
   ],
   "metadata": {
    "collapsed": false
   }
  },
  {
   "cell_type": "code",
   "execution_count": null,
   "outputs": [],
   "source": [
    "model.train()\n",
    "losses = []\n",
    "for epoch in range(EPOCHS):\n",
    "    print('EPOCH', epoch)\n",
    "    random.shuffle(pairs)\n",
    "    for i in trange(0, int(len(pairs) / BATCH_SIZE)):\n",
    "        batch = pairs[i * BATCH_SIZE: (i + 1) * BATCH_SIZE]\n",
    "        x = tokenizer([p[0] for p in batch], return_tensors='pt', padding=\"longest\", \\\n",
    "                      max_length=MAX_INPUT, truncation=True).to(model.device)\n",
    "        y = tokenizer([p[1] for p in batch], return_tensors='pt', padding=\"longest\", \\\n",
    "                      max_length=MAX_OUTPUT, truncation=True, ).to(model.device)\n",
    "        y.input_ids[y.input_ids == 0] = -100\n",
    "        loss = model(\n",
    "            input_ids=x.input_ids,\n",
    "            attention_mask=x.attention_mask,\n",
    "            labels=y.input_ids,\n",
    "            decoder_attention_mask=y.attention_mask,\n",
    "            return_dict=True\n",
    "        ).loss\n",
    "        loss.backward()\n",
    "        optimizer.step()\n",
    "        optimizer.zero_grad()\n",
    "        losses.append(loss.item())\n",
    "        if i % REPORT_STEPS == 0:\n",
    "            print('step', i, 'loss', np.mean(losses[-REPORT_STEPS:]))"
   ],
   "metadata": {
    "collapsed": false
   }
  },
  {
   "cell_type": "markdown",
   "source": [
    "### Save model"
   ],
   "metadata": {
    "collapsed": false
   }
  },
  {
   "cell_type": "code",
   "execution_count": null,
   "outputs": [],
   "source": [
    "if SAVE_TO_HUB:\n",
    "    notebook_login()\n",
    "    model.push_to_hub(SAVE_MODEL_NAME)\n",
    "    tokenizer.push_to_hub(SAVE_MODEL_NAME)\n",
    "else:\n",
    "    model.save_pretrained(SAVE_MODEL_NAME)\n",
    "    tokenizer.save_pretrained(SAVE_MODEL_NAME)"
   ],
   "metadata": {
    "collapsed": false
   }
  },
  {
   "cell_type": "markdown",
   "source": [
    "### Testing model"
   ],
   "metadata": {
    "collapsed": false
   }
  },
  {
   "cell_type": "code",
   "execution_count": null,
   "outputs": [],
   "source": [
    "model.eval()\n",
    "\n",
    "\n",
    "def answer(x, **kwargs):\n",
    "    inputs = tokenizer(x, return_tensors='pt').to(model.device)\n",
    "    with torch.no_grad():\n",
    "        hypotheses = model.generate(**inputs, **kwargs)\n",
    "    return tokenizer.decode(hypotheses[0], skip_special_tokens=True)"
   ],
   "metadata": {
    "collapsed": false
   }
  },
  {
   "cell_type": "code",
   "execution_count": null,
   "outputs": [],
   "source": [
    "print('model: ', answer(TASK_PREFIX + 'What is love?'))"
   ],
   "metadata": {
    "collapsed": false
   }
  }
 ],
 "metadata": {
  "kernelspec": {
   "display_name": "Python 3",
   "language": "python",
   "name": "python3"
  },
  "language_info": {
   "codemirror_mode": {
    "name": "ipython",
    "version": 2
   },
   "file_extension": ".py",
   "mimetype": "text/x-python",
   "name": "python",
   "nbconvert_exporter": "python",
   "pygments_lexer": "ipython2",
   "version": "2.7.6"
  }
 },
 "nbformat": 4,
 "nbformat_minor": 0
}

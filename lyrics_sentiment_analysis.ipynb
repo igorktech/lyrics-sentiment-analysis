{
 "cells": [
  {
   "cell_type": "markdown",
   "source": [
    "# Collect data DONE\n",
    "# Cleanup data DONE\n",
    "# WordCloud DONE (fix draw first one also without stopwords)\n",
    "# Sentiment (Vader) -> check rougness of lyrics per year/ check number of abcense words\n",
    "# topic modelling\n",
    "# Web wiki db -> plot map of relation between birth place and artists in top rank\n",
    "# Train NN T5 ->< try to explain lyrics -> explain all text"
   ],
   "metadata": {
    "collapsed": false,
    "id": "gAoeYkL6BvIi"
   }
  },
  {
   "cell_type": "markdown",
   "source": [
    "# Setup"
   ],
   "metadata": {
    "collapsed": false,
    "id": "Xo-hUfKRBvIn"
   }
  },
  {
   "cell_type": "code",
   "execution_count": 1,
   "outputs": [
    {
     "output_type": "stream",
     "name": "stdout",
     "text": [
      "\u001B[33mWARNING: Running pip as the 'root' user can result in broken permissions and conflicting behaviour with the system package manager. It is recommended to use a virtual environment instead: https://pip.pypa.io/warnings/venv\u001B[0m\u001B[33m\n",
      "\u001B[0m  Preparing metadata (setup.py) ... \u001B[?25l\u001B[?25hdone\n",
      "  Building wheel for sklearn (setup.py) ... \u001B[?25l\u001B[?25hdone\n",
      "\u001B[33mWARNING: Running pip as the 'root' user can result in broken permissions and conflicting behaviour with the system package manager. It is recommended to use a virtual environment instead: https://pip.pypa.io/warnings/venv\u001B[0m\u001B[33m\n",
      "\u001B[0m\u001B[33mWARNING: Running pip as the 'root' user can result in broken permissions and conflicting behaviour with the system package manager. It is recommended to use a virtual environment instead: https://pip.pypa.io/warnings/venv\u001B[0m\u001B[33m\n",
      "\u001B[0mReading package lists...\n",
      "Building dependency tree...\n",
      "Reading state information...\n",
      "git-lfs is already the newest version (2.9.2-1).\n",
      "0 upgraded, 0 newly installed, 0 to remove and 23 not upgraded.\n",
      "\u001B[33mWARNING: Running pip as the 'root' user can result in broken permissions and conflicting behaviour with the system package manager. It is recommended to use a virtual environment instead: https://pip.pypa.io/warnings/venv\u001B[0m\u001B[33m\n",
      "\u001B[0m\u001B[33mWARNING: Running pip as the 'root' user can result in broken permissions and conflicting behaviour with the system package manager. It is recommended to use a virtual environment instead: https://pip.pypa.io/warnings/venv\u001B[0m\u001B[33m\n",
      "\u001B[0m"
     ]
    }
   ],
   "source": [
    "!pip install torch --quiet\n",
    "!pip install sklearn --quiet\n",
    "!pip install datasets --quiet\n",
    "!apt install git-lfs --quiet\n",
    "!pip install transformers --quiet\n",
    "!pip install sentencepiece --quiet"
   ],
   "metadata": {
    "colab": {
     "base_uri": "https://localhost:8080/"
    },
    "id": "DxqR4sW7BvIo",
    "outputId": "9ef2931d-6020-4108-e33b-da2511cd6785"
   }
  },
  {
   "cell_type": "code",
   "execution_count": 2,
   "outputs": [
    {
     "output_type": "stream",
     "name": "stdout",
     "text": [
      "\u001B[33mWARNING: Running pip as the 'root' user can result in broken permissions and conflicting behaviour with the system package manager. It is recommended to use a virtual environment instead: https://pip.pypa.io/warnings/venv\u001B[0m\u001B[33m\n",
      "\u001B[0m"
     ]
    }
   ],
   "source": [
    "!pip install scikit-learn --quiet"
   ],
   "metadata": {
    "id": "j-Ymhck-BvIq",
    "colab": {
     "base_uri": "https://localhost:8080/"
    },
    "outputId": "f1a04e99-771e-4176-b837-9f1f11520853"
   }
  },
  {
   "cell_type": "code",
   "execution_count": 3,
   "outputs": [
    {
     "output_type": "stream",
     "name": "stdout",
     "text": [
      "\u001B[33mWARNING: Running pip as the 'root' user can result in broken permissions and conflicting behaviour with the system package manager. It is recommended to use a virtual environment instead: https://pip.pypa.io/warnings/venv\u001B[0m\u001B[33m\n",
      "\u001B[0m"
     ]
    }
   ],
   "source": [
    "!pip install nltk --quiet"
   ],
   "metadata": {
    "id": "qxEDkT8EBvIr",
    "colab": {
     "base_uri": "https://localhost:8080/"
    },
    "outputId": "84c0da65-9498-4be3-e392-1e6e84e85465"
   }
  },
  {
   "cell_type": "code",
   "execution_count": 4,
   "outputs": [
    {
     "output_type": "stream",
     "name": "stdout",
     "text": [
      "\u001B[33mWARNING: Running pip as the 'root' user can result in broken permissions and conflicting behaviour with the system package manager. It is recommended to use a virtual environment instead: https://pip.pypa.io/warnings/venv\u001B[0m\u001B[33m\n",
      "\u001B[0m\u001B[33mWARNING: Running pip as the 'root' user can result in broken permissions and conflicting behaviour with the system package manager. It is recommended to use a virtual environment instead: https://pip.pypa.io/warnings/venv\u001B[0m\u001B[33m\n",
      "\u001B[0m"
     ]
    }
   ],
   "source": [
    "!pip install -U pip setuptools wheel --quiet\n",
    "!pip install -U spacy==2.3.9 --quiet"
   ],
   "metadata": {
    "pycharm": {
     "is_executing": true
    },
    "colab": {
     "base_uri": "https://localhost:8080/"
    },
    "id": "xJr1XVC7BvIr",
    "outputId": "0e596e56-36c9-4263-82c3-cef47ed32bb7"
   }
  },
  {
   "cell_type": "code",
   "execution_count": 5,
   "outputs": [
    {
     "output_type": "stream",
     "name": "stdout",
     "text": [
      "\u001B[33mWARNING: Running pip as the 'root' user can result in broken permissions and conflicting behaviour with the system package manager. It is recommended to use a virtual environment instead: https://pip.pypa.io/warnings/venv\u001B[0m\u001B[33m\n",
      "\u001B[0m\u001B[33mWARNING: Running pip as the 'root' user can result in broken permissions and conflicting behaviour with the system package manager. It is recommended to use a virtual environment instead: https://pip.pypa.io/warnings/venv\u001B[0m\u001B[33m\n",
      "\u001B[0m\u001B[33mWARNING: Running pip as the 'root' user can result in broken permissions and conflicting behaviour with the system package manager. It is recommended to use a virtual environment instead: https://pip.pypa.io/warnings/venv\u001B[0m\u001B[33m\n",
      "\u001B[0m\u001B[33mWARNING: Running pip as the 'root' user can result in broken permissions and conflicting behaviour with the system package manager. It is recommended to use a virtual environment instead: https://pip.pypa.io/warnings/venv\u001B[0m\u001B[33m\n",
      "\u001B[0m"
     ]
    }
   ],
   "source": [
    "!pip install pandas --quiet\n",
    "!pip install numpy --quiet\n",
    "!pip install matplotlib --quiet\n",
    "!pip install wordcloud --quiet"
   ],
   "metadata": {
    "id": "Sh00MF2CBvIs",
    "colab": {
     "base_uri": "https://localhost:8080/"
    },
    "outputId": "05cccbba-81e3-44ef-faab-1256cd47f9a6"
   }
  },
  {
   "cell_type": "code",
   "execution_count": 6,
   "outputs": [
    {
     "output_type": "stream",
     "name": "stdout",
     "text": [
      "\u001B[33mWARNING: Running pip as the 'root' user can result in broken permissions and conflicting behaviour with the system package manager. It is recommended to use a virtual environment instead: https://pip.pypa.io/warnings/venv\u001B[0m\u001B[33m\n",
      "\u001B[0m\u001B[33mWARNING: Running pip as the 'root' user can result in broken permissions and conflicting behaviour with the system package manager. It is recommended to use a virtual environment instead: https://pip.pypa.io/warnings/venv\u001B[0m\u001B[33m\n",
      "\u001B[0m\u001B[33mWARNING: Running pip as the 'root' user can result in broken permissions and conflicting behaviour with the system package manager. It is recommended to use a virtual environment instead: https://pip.pypa.io/warnings/venv\u001B[0m\u001B[33m\n",
      "\u001B[0m"
     ]
    }
   ],
   "source": [
    "!pip install beautifulsoup4 --quiet\n",
    "!pip install lyricsgenius --quiet\n",
    "!pip install billboard.py --quiet"
   ],
   "metadata": {
    "colab": {
     "base_uri": "https://localhost:8080/"
    },
    "id": "7aSXkauyBvIs",
    "outputId": "de07e232-0221-4b9e-be97-565b08813b69"
   }
  },
  {
   "cell_type": "code",
   "execution_count": null,
   "outputs": [],
   "source": [
    "# !pip install git+https://github.com/johnwmillr/LyricsGenius.git --quiet"
   ],
   "metadata": {
    "id": "krmKgivgBvIt"
   }
  },
  {
   "cell_type": "code",
   "execution_count": 1,
   "outputs": [
    {
     "name": "stdout",
     "output_type": "stream",
     "text": [
      "Requirement already satisfied: python-dotenv in /Library/Frameworks/Python.framework/Versions/3.9/lib/python3.9/site-packages (0.21.0)\r\n"
     ]
    }
   ],
   "source": [
    "!pip install python-dotenv\n",
    "from dotenv import load_dotenv\n",
    "import dotenv\n",
    "import os\n",
    "%load_ext dotenv\n",
    "%dotenv"
   ],
   "metadata": {
    "id": "VSX12vIsBvIt",
    "outputId": "d9571ccb-dd25-40a7-ef75-8e8878ec7a86"
   }
  },
  {
   "cell_type": "code",
   "execution_count": null,
   "outputs": [],
   "source": [
    "# Import Genious access token"
   ],
   "metadata": {
    "id": "beU880f2BvIu"
   }
  },
  {
   "cell_type": "code",
   "execution_count": 2,
   "outputs": [],
   "source": [
    "load_dotenv(os.path.join(os.getcwd(),'.env'))\n",
    "GENIOUS_ACCESS_TOKEN = os.environ.get('GENIOUS_ACCESS_TOKEN')"
   ],
   "metadata": {
    "id": "L-1Dte4aBvIu"
   }
  },
  {
   "cell_type": "code",
   "execution_count": 4,
   "metadata": {
    "collapsed": true,
    "id": "pyxDWy-7BvIv"
   },
   "outputs": [],
   "source": [
    "import pandas as pd\n",
    "import numpy as np\n",
    "import requests\n",
    "\n",
    "# import seaborn as sns\n",
    "from IPython.display import HTML, display\n",
    "from bs4 import BeautifulSoup\n",
    "\n",
    "import lyricsgenius as genius\n",
    "import billboard\n",
    "import sys\n",
    "import re\n",
    "import ast\n",
    "\n",
    "import nltk\n",
    "from nltk.translate.bleu_score import sentence_bleu\n",
    "# if not nltk.data.find('corpora/stopwords'):\n",
    "#     # Download the 'stopwords' dataset\n",
    "#     nltk.download('stopwords')\n",
    "from nltk.corpus import stopwords\n",
    "\n",
    "\n",
    "from datetime import datetime, date, timedelta\n",
    "from wordcloud import WordCloud,ImageColorGenerator\n",
    "import matplotlib.pyplot as plt\n",
    "\n",
    "# from sklearn.feature_extraction.text import TfidfVectorizer, CountVectorizer\n",
    "import spacy\n",
    "# from collections import Counter\n",
    "# from os import path\n",
    "# from PIL import Image\n",
    "# from keras.models import model_from_json\n",
    "# import pickle\n",
    "\n",
    "\n",
    "import torch\n",
    "from sklearn.model_selection import train_test_split\n",
    "import torch.nn.functional as F\n",
    "from transformers import T5ForConditionalGeneration, T5Tokenizer\n",
    "import random\n",
    "from tqdm.auto import tqdm, trange\n",
    "from huggingface_hub import notebook_login\n",
    "import os\n",
    "from sklearn.model_selection import train_test_split\n"
   ]
  },
  {
   "cell_type": "code",
   "execution_count": 5,
   "outputs": [],
   "source": [
    "def disable_pandas_warnings():\n",
    "    import warnings\n",
    "    warnings.resetwarnings()\n",
    "    warnings.filterwarnings('ignore')  # Ignore everything\n",
    "    # ignore everything does not work: ignore specific messages, using regex\n",
    "    warnings.filterwarnings(\"ignore\",category=DeprecationWarning)\n",
    "    warnings.filterwarnings('ignore', '.*A value is trying to be set on a copy of a slice from a DataFrame.*')\n",
    "    warnings.filterwarnings('ignore', '.*indexing past lexsort depth may impact performance*')"
   ],
   "metadata": {
    "id": "DuWznL3TBvIw"
   }
  },
  {
   "cell_type": "code",
   "execution_count": 6,
   "outputs": [],
   "source": [
    "disable_pandas_warnings()"
   ],
   "metadata": {
    "id": "rSOgGNq4BvIw"
   }
  },
  {
   "cell_type": "markdown",
   "source": [
    "# Data Collecting"
   ],
   "metadata": {
    "collapsed": false,
    "id": "aK9Y_JIRBvIx"
   }
  },
  {
   "cell_type": "code",
   "execution_count": null,
   "outputs": [],
   "source": [
    "def daterange(start_date, end_date):\n",
    "    for n in range(int((end_date - start_date).days // 7)):\n",
    "        yield start_date + timedelta(n*7)"
   ],
   "metadata": {
    "id": "RervrNd3BvIx"
   }
  },
  {
   "cell_type": "code",
   "execution_count": null,
   "outputs": [],
   "source": [
    "def collect_songs_from_billboard_each_day(start_date_str, end_date_str, chart_name='hot-100', table_path = None,to_csv = False):\n",
    "    start_date = datetime.strptime(\n",
    "        start_date_str, '%Y-%m-%d')\n",
    "    end_date = datetime.strptime(end_date_str, '%Y-%m-%d')\n",
    "\n",
    "    columns = [\"Rank\",\n",
    "                    \"Song Title\",\n",
    "                    \"Artist\",\n",
    "                    \"Date\",\n",
    "                    \"Year\"]\n",
    "    dataset = pd.DataFrame(columns = columns, data = [])\n",
    "    if to_csv:\n",
    "        dataset.to_csv(table_path,index=False)\n",
    "\n",
    "    sys.stdout.write(\n",
    "        \"\\r\" + \"Collecting Songs from \" + start_date_str + \" to \" + end_date_str + \" via https://www.billboard.com\")\n",
    "    sys.stdout.flush()\n",
    "    for single_date in tqdm(daterange(start_date, end_date)):\n",
    "        print(single_date.strftime('%Y-%m-%d'))\n",
    "        chart = billboard.ChartData(chart_name, date=single_date.strftime('%Y-%m-%d'))\n",
    "        for song in chart:\n",
    "            row = {\n",
    "                \"Rank\": song.rank,\n",
    "                \"Song Title\": song.title,\n",
    "                \"Artist\": song.artist,\n",
    "                \"Date\": single_date.strftime('%Y-%m-%d'),\n",
    "                \"Year\": single_date.strftime('%Y')\n",
    "            }\n",
    "            if to_csv:\n",
    "                pd.DataFrame([row]).to_csv(table_path, mode='a',index=False, header=False)\n",
    "            else:\n",
    "                dataset = dataset.append(row, ignore_index=True)  #pd.concat([dataset,pd.DataFrame(row)],ignore_index=True)#\n",
    "    if not to_csv:\n",
    "        return dataset\n"
   ],
   "metadata": {
    "id": "0jGCNzTFBvIy"
   }
  },
  {
   "cell_type": "code",
   "execution_count": null,
   "outputs": [],
   "source": [
    "all_songs = collect_songs_from_billboard_each_day('2003-02-17', '2023-02-17',table_path='all_songs_20.csv',to_csv = True)"
   ],
   "metadata": {
    "pycharm": {
     "is_executing": true
    },
    "id": "LAYhZrV0BvIy"
   }
  },
  {
   "cell_type": "code",
   "execution_count": null,
   "outputs": [],
   "source": [
    "all_songs = pd.read_csv(\"all_songs_20.csv\")"
   ],
   "metadata": {
    "id": "yHpRKF2HBvIz"
   }
  },
  {
   "cell_type": "code",
   "execution_count": null,
   "outputs": [
    {
     "data": {
      "text/plain": "    Rank                 Song Title                              Artist  \\\n0      1                 All I Have  Jennifer Lopez Featuring LL Cool J   \n1      2                 In Da Club                             50 Cent   \n2      3                  Mesmerize           Ja Rule Featuring Ashanti   \n3      4           Bump, Bump, Bump                      B2K & P. Diddy   \n4      5             Cry Me A River                   Justin Timberlake   \n..   ...                        ...                                 ...   \n65    66              No Letting Go                        Wayne Wonder   \n66    67               Make It Clap  Busta Rhymes Featuring Spliff Star   \n67    68                 Can't Stop               Red Hot Chili Peppers   \n68    69  What Happened To That Boy               Baby Featuring Clipse   \n69    70               A.D.I.D.A.S.       Killer Mike Featuring Big Boi   \n\n          Date  Year  \n0   2003-02-17  2003  \n1   2003-02-17  2003  \n2   2003-02-17  2003  \n3   2003-02-17  2003  \n4   2003-02-17  2003  \n..         ...   ...  \n65  2003-02-17  2003  \n66  2003-02-17  2003  \n67  2003-02-17  2003  \n68  2003-02-17  2003  \n69  2003-02-17  2003  \n\n[70 rows x 5 columns]",
      "text/html": "<div>\n<style scoped>\n    .dataframe tbody tr th:only-of-type {\n        vertical-align: middle;\n    }\n\n    .dataframe tbody tr th {\n        vertical-align: top;\n    }\n\n    .dataframe thead th {\n        text-align: right;\n    }\n</style>\n<table border=\"1\" class=\"dataframe\">\n  <thead>\n    <tr style=\"text-align: right;\">\n      <th></th>\n      <th>Rank</th>\n      <th>Song Title</th>\n      <th>Artist</th>\n      <th>Date</th>\n      <th>Year</th>\n    </tr>\n  </thead>\n  <tbody>\n    <tr>\n      <th>0</th>\n      <td>1</td>\n      <td>All I Have</td>\n      <td>Jennifer Lopez Featuring LL Cool J</td>\n      <td>2003-02-17</td>\n      <td>2003</td>\n    </tr>\n    <tr>\n      <th>1</th>\n      <td>2</td>\n      <td>In Da Club</td>\n      <td>50 Cent</td>\n      <td>2003-02-17</td>\n      <td>2003</td>\n    </tr>\n    <tr>\n      <th>2</th>\n      <td>3</td>\n      <td>Mesmerize</td>\n      <td>Ja Rule Featuring Ashanti</td>\n      <td>2003-02-17</td>\n      <td>2003</td>\n    </tr>\n    <tr>\n      <th>3</th>\n      <td>4</td>\n      <td>Bump, Bump, Bump</td>\n      <td>B2K &amp; P. Diddy</td>\n      <td>2003-02-17</td>\n      <td>2003</td>\n    </tr>\n    <tr>\n      <th>4</th>\n      <td>5</td>\n      <td>Cry Me A River</td>\n      <td>Justin Timberlake</td>\n      <td>2003-02-17</td>\n      <td>2003</td>\n    </tr>\n    <tr>\n      <th>...</th>\n      <td>...</td>\n      <td>...</td>\n      <td>...</td>\n      <td>...</td>\n      <td>...</td>\n    </tr>\n    <tr>\n      <th>65</th>\n      <td>66</td>\n      <td>No Letting Go</td>\n      <td>Wayne Wonder</td>\n      <td>2003-02-17</td>\n      <td>2003</td>\n    </tr>\n    <tr>\n      <th>66</th>\n      <td>67</td>\n      <td>Make It Clap</td>\n      <td>Busta Rhymes Featuring Spliff Star</td>\n      <td>2003-02-17</td>\n      <td>2003</td>\n    </tr>\n    <tr>\n      <th>67</th>\n      <td>68</td>\n      <td>Can't Stop</td>\n      <td>Red Hot Chili Peppers</td>\n      <td>2003-02-17</td>\n      <td>2003</td>\n    </tr>\n    <tr>\n      <th>68</th>\n      <td>69</td>\n      <td>What Happened To That Boy</td>\n      <td>Baby Featuring Clipse</td>\n      <td>2003-02-17</td>\n      <td>2003</td>\n    </tr>\n    <tr>\n      <th>69</th>\n      <td>70</td>\n      <td>A.D.I.D.A.S.</td>\n      <td>Killer Mike Featuring Big Boi</td>\n      <td>2003-02-17</td>\n      <td>2003</td>\n    </tr>\n  </tbody>\n</table>\n<p>70 rows × 5 columns</p>\n</div>"
     },
     "execution_count": 5,
     "metadata": {},
     "output_type": "execute_result"
    }
   ],
   "source": [
    "all_songs.head(70)"
   ],
   "metadata": {
    "id": "V0U9htXhBvIz",
    "outputId": "43b4a175-761c-4f41-b294-54e213776d84"
   }
  },
  {
   "cell_type": "code",
   "execution_count": null,
   "outputs": [],
   "source": [
    "all_songs[\"Artist\"][all_songs['Artist'] == \"Jackson 5\"] = \"The Jackson 5\"\n",
    "all_songs[\"Artist\"][all_songs['Artist'] == \"Beatles\"] = \"The Beatles\""
   ],
   "metadata": {
    "id": "UFqlGQNcBvI0"
   }
  },
  {
   "cell_type": "code",
   "execution_count": null,
   "outputs": [],
   "source": [
    "all_songs.drop_duplicates(subset=['Artist','Song Title']).to_csv('unique_songs_20.csv', mode='a',index=False)"
   ],
   "metadata": {
    "id": "HbHEWvLPBvI0"
   }
  },
  {
   "cell_type": "code",
   "execution_count": null,
   "outputs": [],
   "source": [
    "api = genius.Genius(GENIOUS_ACCESS_TOKEN,timeout = 5, sleep_time=0.015, verbose=False)"
   ],
   "metadata": {
    "id": "Z0xqjivSBvI0"
   }
  },
  {
   "cell_type": "code",
   "execution_count": null,
   "outputs": [
    {
     "name": "stdout",
     "output_type": "stream",
     "text": [
      "Started at 2023-03-18 15:38:32.176995\n",
      "\n",
      "Completed at 2023-03-18 15:38:32.176995\n",
      "Total time to collect: 5:20:57.880854\n"
     ]
    }
   ],
   "source": [
    "all_songs = pd.read_csv(\"unique_songs_20.csv\")\n",
    "\n",
    "GENIOUS_CSV = 'all_songs_data_new.csv'\n",
    "columns = [ \"Year\",\n",
    "        \"Rank\",\n",
    "        \"Song Title\",\n",
    "        \"Artist\",\n",
    "        \"Primary Artists\",\n",
    "        \"Lyrics\",\n",
    "        \"Song URL\",\n",
    "        \"Song id\",\n",
    "        \"Song stats\",\n",
    "        \"Song annotations\"]\n",
    "dataset = pd.DataFrame(columns = columns, data = [])\n",
    "dataset.to_csv(GENIOUS_CSV,index=False)\n",
    "\n",
    "\n",
    "all_song_data = pd.DataFrame()\n",
    "start_time = datetime.now()\n",
    "print(\"Started at {}\".format(start_time))\n",
    "for i in range(0, len(all_songs)):\n",
    "    rolling_pct = int((i / len(all_songs)) * 100)\n",
    "    # print(str(rolling_pct) + \"% complete.\" + \" Collecting Record \" + str(i) + \" of \" +\n",
    "    #       str(len(all_songs)) + \". Year \" + str(all_songs.iloc[i]['Year']) + \".\" + \" Currently collecting \" +\n",
    "    #       all_songs.iloc[i]['Song Title'] + \" by \" + all_songs.iloc[i]['Artist'] + \" \" * 50, end=\"\\r\")\n",
    "    song_title = all_songs.iloc[i]['Song Title']\n",
    "    song_title = re.sub(\" and \", \" & \", song_title)\n",
    "    artist_name = all_songs.iloc[i]['Artist']\n",
    "    artist_name = re.sub(\" and \", \" & \", artist_name)\n",
    "\n",
    "    try:\n",
    "        song = api.search_song(song_title, artist=artist_name)\n",
    "        primary_artists = song.primary_artist\n",
    "        song_lyrics = re.sub(\"\\n\", \" \", song.lyrics)  #Remove newline breaks, we won't need them.\n",
    "        song_url = song.url\n",
    "        song_id = song.id\n",
    "        song_stats = song.stats\n",
    "        song_annotations = api.song_annotations(song.id)\n",
    "    except:\n",
    "        primary_artists = \"null\"\n",
    "        song_lyrics = \"null\"\n",
    "        song_url = \"null\"\n",
    "        song_id = \"null\"\n",
    "        song_stats = 'null'\n",
    "        song_annotations = 'null'\n",
    "\n",
    "    row = {\n",
    "        \"Year\": all_songs.iloc[i]['Year'],\n",
    "        \"Rank\": all_songs.iloc[i]['Rank'],\n",
    "        \"Song Title\": all_songs.iloc[i]['Song Title'],\n",
    "        \"Artist\": all_songs.iloc[i]['Artist'],\n",
    "        \"Primary Artists\": primary_artists,\n",
    "        \"Lyrics\": song_lyrics,\n",
    "        \"Song URL\": song_url,\n",
    "        \"Song id\": song_id,\n",
    "        \"Song stats\": song_stats,\n",
    "        \"Song annotations\": song_annotations\n",
    "    }\n",
    "    pd.DataFrame([row]).to_csv(GENIOUS_CSV, mode='a',index=False, header=False)\n",
    "    # all_song_data = all_song_data.append(row, ignore_index=True)\n",
    "end_time = datetime.now()\n",
    "print(\"\\nCompleted at {}\".format(start_time))\n",
    "print(\"Total time to collect: {}\".format(end_time - start_time))\n"
   ],
   "metadata": {
    "id": "Zof38llXBvI1",
    "outputId": "7ccd2ab7-3f1c-4bbc-9e2e-8e1e31515cb8"
   }
  },
  {
   "cell_type": "code",
   "execution_count": null,
   "outputs": [
    {
     "data": {
      "text/plain": "    Year  Rank                                   Song Title  \\\n6   2022     7                                    Kill Bill   \n7   2022     8                                Feliz Navidad   \n8   2022     9                                    Anti-Hero   \n9   2022    10                                       Unholy   \n10  2022    11  The Christmas Song (Merry Christmas To You)   \n\n                    Artist                    Primary Artists  \\\n6                      SZA                       SZA, 0 songs   \n7           Jose Feliciano            José Feliciano, 0 songs   \n8             Taylor Swift              Taylor Swift, 0 songs   \n9   Sam Smith & Kim Petras    Sam Smith & Kim Petras, 0 songs   \n10           Nat King Cole  The Nat “King” Cole Trio, 0 songs   \n\n                                               Lyrics  \\\n6   TranslationsEspañolPortuguêsItalianoTürkçeDeut...   \n7   Feliz Navidad Lyrics[Letra de \"Feliz Navidad\"]...   \n8   TranslationsPortuguêsEspañolTürkçeFrançais中文Ne...   \n9   TranslationsFrançaisEspañolNederlandsDeutschال...   \n10  The Christmas Song (Merry Christmas to You) (O...   \n\n                                             Song URL  Song id  \\\n6             https://genius.com/Sza-kill-bill-lyrics  8616820   \n7   https://genius.com/Jose-feliciano-feliz-navida...   623111   \n8    https://genius.com/Taylor-swift-anti-hero-lyrics  8434253   \n9   https://genius.com/Sam-smith-and-kim-petras-un...  8302862   \n10  https://genius.com/The-nat-king-cole-trio-the-...  1717793   \n\n                                           Song stats  \n6   Stats('unreviewed_annotations, concurrents, ho...  \n7     Stats('unreviewed_annotations, hot, pageviews')  \n8   Stats('unreviewed_annotations, concurrents, ho...  \n9   Stats('unreviewed_annotations, concurrents, ho...  \n10    Stats('unreviewed_annotations, hot, pageviews')  ",
      "text/html": "<div>\n<style scoped>\n    .dataframe tbody tr th:only-of-type {\n        vertical-align: middle;\n    }\n\n    .dataframe tbody tr th {\n        vertical-align: top;\n    }\n\n    .dataframe thead th {\n        text-align: right;\n    }\n</style>\n<table border=\"1\" class=\"dataframe\">\n  <thead>\n    <tr style=\"text-align: right;\">\n      <th></th>\n      <th>Year</th>\n      <th>Rank</th>\n      <th>Song Title</th>\n      <th>Artist</th>\n      <th>Primary Artists</th>\n      <th>Lyrics</th>\n      <th>Song URL</th>\n      <th>Song id</th>\n      <th>Song stats</th>\n    </tr>\n  </thead>\n  <tbody>\n    <tr>\n      <th>6</th>\n      <td>2022</td>\n      <td>7</td>\n      <td>Kill Bill</td>\n      <td>SZA</td>\n      <td>SZA, 0 songs</td>\n      <td>TranslationsEspañolPortuguêsItalianoTürkçeDeut...</td>\n      <td>https://genius.com/Sza-kill-bill-lyrics</td>\n      <td>8616820</td>\n      <td>Stats('unreviewed_annotations, concurrents, ho...</td>\n    </tr>\n    <tr>\n      <th>7</th>\n      <td>2022</td>\n      <td>8</td>\n      <td>Feliz Navidad</td>\n      <td>Jose Feliciano</td>\n      <td>José Feliciano, 0 songs</td>\n      <td>Feliz Navidad Lyrics[Letra de \"Feliz Navidad\"]...</td>\n      <td>https://genius.com/Jose-feliciano-feliz-navida...</td>\n      <td>623111</td>\n      <td>Stats('unreviewed_annotations, hot, pageviews')</td>\n    </tr>\n    <tr>\n      <th>8</th>\n      <td>2022</td>\n      <td>9</td>\n      <td>Anti-Hero</td>\n      <td>Taylor Swift</td>\n      <td>Taylor Swift, 0 songs</td>\n      <td>TranslationsPortuguêsEspañolTürkçeFrançais中文Ne...</td>\n      <td>https://genius.com/Taylor-swift-anti-hero-lyrics</td>\n      <td>8434253</td>\n      <td>Stats('unreviewed_annotations, concurrents, ho...</td>\n    </tr>\n    <tr>\n      <th>9</th>\n      <td>2022</td>\n      <td>10</td>\n      <td>Unholy</td>\n      <td>Sam Smith &amp; Kim Petras</td>\n      <td>Sam Smith &amp; Kim Petras, 0 songs</td>\n      <td>TranslationsFrançaisEspañolNederlandsDeutschال...</td>\n      <td>https://genius.com/Sam-smith-and-kim-petras-un...</td>\n      <td>8302862</td>\n      <td>Stats('unreviewed_annotations, concurrents, ho...</td>\n    </tr>\n    <tr>\n      <th>10</th>\n      <td>2022</td>\n      <td>11</td>\n      <td>The Christmas Song (Merry Christmas To You)</td>\n      <td>Nat King Cole</td>\n      <td>The Nat “King” Cole Trio, 0 songs</td>\n      <td>The Christmas Song (Merry Christmas to You) (O...</td>\n      <td>https://genius.com/The-nat-king-cole-trio-the-...</td>\n      <td>1717793</td>\n      <td>Stats('unreviewed_annotations, hot, pageviews')</td>\n    </tr>\n  </tbody>\n</table>\n</div>"
     },
     "execution_count": 16,
     "metadata": {},
     "output_type": "execute_result"
    }
   ],
   "source": [
    "all_song_data.tail(5)"
   ],
   "metadata": {
    "id": "GrJEIXesBvI2",
    "outputId": "267c2ef2-2d63-486d-9300-af76da820b20"
   }
  },
  {
   "cell_type": "code",
   "execution_count": null,
   "outputs": [],
   "source": [
    "loaded_song_dataset = pd.read_csv(\"all_songs_data_new.csv\")"
   ],
   "metadata": {
    "id": "lf6CruK6BvI2"
   }
  },
  {
   "cell_type": "code",
   "execution_count": null,
   "outputs": [
    {
     "data": {
      "text/plain": "   Year  Rank        Song Title                              Artist  \\\n0  2003     1        All I Have  Jennifer Lopez Featuring LL Cool J   \n1  2003     2        In Da Club                             50 Cent   \n2  2003     3         Mesmerize           Ja Rule Featuring Ashanti   \n3  2003     4  Bump, Bump, Bump                      B2K & P. Diddy   \n4  2003     5    Cry Me A River                   Justin Timberlake   \n\n           Primary Artists                                             Lyrics  \\\n0  Jennifer Lopez, 0 songs  All I Have Lyrics[Intro: Jennifer Lopez, Sampl...   \n1                      NaN                                                NaN   \n2         Ja Rule, 0 songs  Mesmerize Lyrics[Intro: Ja Rule] Haha, yeah Wh...   \n3             B2K, 0 songs  Bump, Bump, Bump Lyrics[Intro: P. Diddy & B2K]...   \n4                      NaN                                                NaN   \n\n                                            Song URL  Song id  \\\n0  https://genius.com/Jennifer-lopez-all-i-have-l...  32015.0   \n1                                                NaN      NaN   \n2        https://genius.com/Ja-rule-mesmerize-lyrics  23989.0   \n3       https://genius.com/B2k-bump-bump-bump-lyrics  32117.0   \n4                                                NaN      NaN   \n\n                                        Song stats  \\\n0  Stats('unreviewed_annotations, hot, pageviews')   \n1                                              NaN   \n2  Stats('unreviewed_annotations, hot, pageviews')   \n3  Stats('unreviewed_annotations, hot, pageviews')   \n4                                              NaN   \n\n                                    Song annotations  \n0  [('Oh-oh-oh\\n Uh, baby, don’t go\\n All my, all...  \n1                                                NaN  \n2  [('Haha, yeah\\n Whattup ma? How you been?\\n Ye...  \n3  [('(Come on, it’s ”Pandemonium”, baby)', [['Th...  \n4                                                NaN  ",
      "text/html": "<div>\n<style scoped>\n    .dataframe tbody tr th:only-of-type {\n        vertical-align: middle;\n    }\n\n    .dataframe tbody tr th {\n        vertical-align: top;\n    }\n\n    .dataframe thead th {\n        text-align: right;\n    }\n</style>\n<table border=\"1\" class=\"dataframe\">\n  <thead>\n    <tr style=\"text-align: right;\">\n      <th></th>\n      <th>Year</th>\n      <th>Rank</th>\n      <th>Song Title</th>\n      <th>Artist</th>\n      <th>Primary Artists</th>\n      <th>Lyrics</th>\n      <th>Song URL</th>\n      <th>Song id</th>\n      <th>Song stats</th>\n      <th>Song annotations</th>\n    </tr>\n  </thead>\n  <tbody>\n    <tr>\n      <th>0</th>\n      <td>2003</td>\n      <td>1</td>\n      <td>All I Have</td>\n      <td>Jennifer Lopez Featuring LL Cool J</td>\n      <td>Jennifer Lopez, 0 songs</td>\n      <td>All I Have Lyrics[Intro: Jennifer Lopez, Sampl...</td>\n      <td>https://genius.com/Jennifer-lopez-all-i-have-l...</td>\n      <td>32015.0</td>\n      <td>Stats('unreviewed_annotations, hot, pageviews')</td>\n      <td>[('Oh-oh-oh\\n Uh, baby, don’t go\\n All my, all...</td>\n    </tr>\n    <tr>\n      <th>1</th>\n      <td>2003</td>\n      <td>2</td>\n      <td>In Da Club</td>\n      <td>50 Cent</td>\n      <td>NaN</td>\n      <td>NaN</td>\n      <td>NaN</td>\n      <td>NaN</td>\n      <td>NaN</td>\n      <td>NaN</td>\n    </tr>\n    <tr>\n      <th>2</th>\n      <td>2003</td>\n      <td>3</td>\n      <td>Mesmerize</td>\n      <td>Ja Rule Featuring Ashanti</td>\n      <td>Ja Rule, 0 songs</td>\n      <td>Mesmerize Lyrics[Intro: Ja Rule] Haha, yeah Wh...</td>\n      <td>https://genius.com/Ja-rule-mesmerize-lyrics</td>\n      <td>23989.0</td>\n      <td>Stats('unreviewed_annotations, hot, pageviews')</td>\n      <td>[('Haha, yeah\\n Whattup ma? How you been?\\n Ye...</td>\n    </tr>\n    <tr>\n      <th>3</th>\n      <td>2003</td>\n      <td>4</td>\n      <td>Bump, Bump, Bump</td>\n      <td>B2K &amp; P. Diddy</td>\n      <td>B2K, 0 songs</td>\n      <td>Bump, Bump, Bump Lyrics[Intro: P. Diddy &amp; B2K]...</td>\n      <td>https://genius.com/B2k-bump-bump-bump-lyrics</td>\n      <td>32117.0</td>\n      <td>Stats('unreviewed_annotations, hot, pageviews')</td>\n      <td>[('(Come on, it’s ”Pandemonium”, baby)', [['Th...</td>\n    </tr>\n    <tr>\n      <th>4</th>\n      <td>2003</td>\n      <td>5</td>\n      <td>Cry Me A River</td>\n      <td>Justin Timberlake</td>\n      <td>NaN</td>\n      <td>NaN</td>\n      <td>NaN</td>\n      <td>NaN</td>\n      <td>NaN</td>\n      <td>NaN</td>\n    </tr>\n  </tbody>\n</table>\n</div>"
     },
     "metadata": {},
     "output_type": "display_data"
    },
    {
     "data": {
      "text/plain": "      Year  Rank                   Song Title                   Artist  \\\n9035  2023    80          The Black Seminole.               Lil Yachty   \n9036  2023    86                Fin de Semana  Junior H X Oscar Maydon   \n9037  2023    96                      Hey Mor     Ozuna Featuring Feid   \n9038  2023    99  Never Gonna Not Dance Again                     P!nk   \n9039  2023   100       Dancin' In The Country            Tyler Hubbard   \n\n             Primary Artists  \\\n9035     Lil Yachty, 0 songs   \n9036                     NaN   \n9037          Ozuna, 0 songs   \n9038           P!nk, 0 songs   \n9039  Tyler Hubbard, 0 songs   \n\n                                                 Lyrics  \\\n9035  TranslationsEspañol​the BLACK seminole. Lyrics...   \n9036                                                NaN   \n9037  Hey Mor Lyrics[Letra de \"Hey Mor\" ft. Feid]  [...   \n9038  TranslationsItalianoNever Gonna Not Dance Agai...   \n9039  Dancin’ In The Country Lyrics[Verse 1] Them ne...   \n\n                                               Song URL    Song id  \\\n9035  https://genius.com/Lil-yachty-the-black-semino...  8763573.0   \n9036                                                NaN        NaN   \n9037            https://genius.com/Ozuna-hey-mor-lyrics  8400438.0   \n9038  https://genius.com/P-nk-never-gonna-not-dance-...  8475909.0   \n9039  https://genius.com/Tyler-hubbard-dancin-in-the...  8255170.0   \n\n                                           Song stats  \\\n9035  Stats('unreviewed_annotations, hot, pageviews')   \n9036                                              NaN   \n9037  Stats('unreviewed_annotations, hot, pageviews')   \n9038  Stats('unreviewed_annotations, hot, pageviews')   \n9039             Stats('unreviewed_annotations, hot')   \n\n                                       Song annotations  \n9035  [('African Rambo with more ammo', [['John Jame...  \n9036                                                NaN  \n9037                                                 []  \n9038  [('For once I wouldn’t start a fight', [['This...  \n9039                                                 []  ",
      "text/html": "<div>\n<style scoped>\n    .dataframe tbody tr th:only-of-type {\n        vertical-align: middle;\n    }\n\n    .dataframe tbody tr th {\n        vertical-align: top;\n    }\n\n    .dataframe thead th {\n        text-align: right;\n    }\n</style>\n<table border=\"1\" class=\"dataframe\">\n  <thead>\n    <tr style=\"text-align: right;\">\n      <th></th>\n      <th>Year</th>\n      <th>Rank</th>\n      <th>Song Title</th>\n      <th>Artist</th>\n      <th>Primary Artists</th>\n      <th>Lyrics</th>\n      <th>Song URL</th>\n      <th>Song id</th>\n      <th>Song stats</th>\n      <th>Song annotations</th>\n    </tr>\n  </thead>\n  <tbody>\n    <tr>\n      <th>9035</th>\n      <td>2023</td>\n      <td>80</td>\n      <td>The Black Seminole.</td>\n      <td>Lil Yachty</td>\n      <td>Lil Yachty, 0 songs</td>\n      <td>TranslationsEspañol​the BLACK seminole. Lyrics...</td>\n      <td>https://genius.com/Lil-yachty-the-black-semino...</td>\n      <td>8763573.0</td>\n      <td>Stats('unreviewed_annotations, hot, pageviews')</td>\n      <td>[('African Rambo with more ammo', [['John Jame...</td>\n    </tr>\n    <tr>\n      <th>9036</th>\n      <td>2023</td>\n      <td>86</td>\n      <td>Fin de Semana</td>\n      <td>Junior H X Oscar Maydon</td>\n      <td>NaN</td>\n      <td>NaN</td>\n      <td>NaN</td>\n      <td>NaN</td>\n      <td>NaN</td>\n      <td>NaN</td>\n    </tr>\n    <tr>\n      <th>9037</th>\n      <td>2023</td>\n      <td>96</td>\n      <td>Hey Mor</td>\n      <td>Ozuna Featuring Feid</td>\n      <td>Ozuna, 0 songs</td>\n      <td>Hey Mor Lyrics[Letra de \"Hey Mor\" ft. Feid]  [...</td>\n      <td>https://genius.com/Ozuna-hey-mor-lyrics</td>\n      <td>8400438.0</td>\n      <td>Stats('unreviewed_annotations, hot, pageviews')</td>\n      <td>[]</td>\n    </tr>\n    <tr>\n      <th>9038</th>\n      <td>2023</td>\n      <td>99</td>\n      <td>Never Gonna Not Dance Again</td>\n      <td>P!nk</td>\n      <td>P!nk, 0 songs</td>\n      <td>TranslationsItalianoNever Gonna Not Dance Agai...</td>\n      <td>https://genius.com/P-nk-never-gonna-not-dance-...</td>\n      <td>8475909.0</td>\n      <td>Stats('unreviewed_annotations, hot, pageviews')</td>\n      <td>[('For once I wouldn’t start a fight', [['This...</td>\n    </tr>\n    <tr>\n      <th>9039</th>\n      <td>2023</td>\n      <td>100</td>\n      <td>Dancin' In The Country</td>\n      <td>Tyler Hubbard</td>\n      <td>Tyler Hubbard, 0 songs</td>\n      <td>Dancin’ In The Country Lyrics[Verse 1] Them ne...</td>\n      <td>https://genius.com/Tyler-hubbard-dancin-in-the...</td>\n      <td>8255170.0</td>\n      <td>Stats('unreviewed_annotations, hot')</td>\n      <td>[]</td>\n    </tr>\n  </tbody>\n</table>\n</div>"
     },
     "metadata": {},
     "output_type": "display_data"
    }
   ],
   "source": [
    "display(loaded_song_dataset.head())\n",
    "display(loaded_song_dataset.tail())"
   ],
   "metadata": {
    "id": "kDy1WMXLBvI3",
    "outputId": "09222646-a8ff-48dc-f5df-62d1ec401f39"
   }
  },
  {
   "cell_type": "code",
   "execution_count": null,
   "outputs": [],
   "source": [
    "songs_with_lyrics_dataset = loaded_song_dataset.dropna(subset=['Lyrics'])\n",
    "songs_with_lyrics_dataset.to_csv('all_songs_no_null.csv',index=False)"
   ],
   "metadata": {
    "id": "1P640lpIBvI3"
   }
  },
  {
   "cell_type": "markdown",
   "source": [
    "### Collect songs per chart (from 2006 per year)"
   ],
   "metadata": {
    "collapsed": false
   }
  },
  {
   "cell_type": "code",
   "execution_count": null,
   "outputs": [],
   "source": [
    "def collect_songs_from_billboard_year_en(start_date_str, end_date_str, chart_name='hot-100', table_path = None,to_csv = False):\n",
    "    start_date = datetime.strptime(\n",
    "        start_date_str, '%Y')\n",
    "    end_date = datetime.strptime(end_date_str, '%Y')\n",
    "\n",
    "    columns = [\"Rank\",\n",
    "                    \"Song Title\",\n",
    "                    \"Artist\",\n",
    "                    \"Date\",\n",
    "                    \"Year\"]\n",
    "    dataset = pd.DataFrame(columns = columns, data = [])\n",
    "    if to_csv:\n",
    "        dataset.to_csv(table_path,index=False)\n",
    "\n",
    "    sys.stdout.write(\n",
    "        \"\\r\" + \"Collecting Songs from \" + start_date_str + \" to \" + end_date_str + \" via https://www.billboard.com\")\n",
    "    sys.stdout.flush()\n",
    "    for single_date in tqdm(range(start_date, end_date)):\n",
    "        print(single_date.strftime('%Y-%m-%d'))\n",
    "        chart = billboard.ChartData(chart_name, date=single_date.strftime('%Y-%m-%d'))\n",
    "        for song in chart:\n",
    "            row = {\n",
    "                \"Rank\": song.rank,\n",
    "                \"Song Title\": song.title,\n",
    "                \"Artist\": song.artist,\n",
    "                \"Date\": single_date.strftime('%Y-%m-%d'),\n",
    "                \"Year\": single_date.strftime('%Y')\n",
    "            }\n",
    "            if to_csv:\n",
    "                pd.DataFrame([row]).to_csv(table_path, mode='a',index=False, header=False)\n",
    "            else:\n",
    "                dataset = dataset.append(row, ignore_index=True)  #pd.concat([dataset,pd.DataFrame(row)],ignore_index=True)#\n",
    "    if not to_csv:\n",
    "        return dataset"
   ],
   "metadata": {
    "collapsed": false
   }
  },
  {
   "cell_type": "code",
   "execution_count": null,
   "outputs": [],
   "source": [
    "all_songs = collect_songs_from_billboard_each_day('2003', '2023',table_path='all_songs_20.csv',to_csv = True)"
   ],
   "metadata": {
    "collapsed": false
   }
  },
  {
   "cell_type": "code",
   "execution_count": null,
   "outputs": [],
   "source": [
    "charts = ['alternative-songs','streaming-songs','radio-songs','independent','catalog','pop','adult']"
   ],
   "metadata": {
    "collapsed": false
   }
  },
  {
   "cell_type": "code",
   "execution_count": 30,
   "outputs": [],
   "source": [
    "chart = billboard.ChartData('country')"
   ],
   "metadata": {
    "collapsed": false
   }
  },
  {
   "cell_type": "code",
   "execution_count": 31,
   "outputs": [
    {
     "data": {
      "text/plain": "billboard.ChartData('country', date='2023-03-18')"
     },
     "execution_count": 31,
     "metadata": {},
     "output_type": "execute_result"
    }
   ],
   "source": [
    "chart"
   ],
   "metadata": {
    "collapsed": false
   }
  },
  {
   "cell_type": "markdown",
   "source": [
    "## Data cleaning"
   ],
   "metadata": {
    "collapsed": false,
    "id": "FBKXFYQkBvI4"
   }
  },
  {
   "cell_type": "markdown",
   "source": [
    "* Clean lyrics and save to csv"
   ],
   "metadata": {
    "collapsed": false,
    "id": "d9C-82uwBvI4"
   }
  },
  {
   "cell_type": "code",
   "execution_count": null,
   "outputs": [],
   "source": [
    "# Define a regex pattern to match text before the word \"Lyrics\"\n",
    "pattern = re.compile(r\".*Lyrics\", re.DOTALL)\n",
    "\n",
    "# Define a function to clean the \"Lyrics\" column\n",
    "def clean_lyrics(lyrics):\n",
    "    # Remove all text before the word \"Lyrics\"\n",
    "    cleaned_lyrics = re.sub(pattern, \"Lyrics\", lyrics)\n",
    "    # Remove any text inside square brackets\n",
    "    cleaned_lyrics = re.sub(r\"\\[.*?\\]\", \"\", cleaned_lyrics)\n",
    "    # remove all occurances of word Lyrics\n",
    "    cleaned_lyrics = re.sub(r\"\\bLyrics\\b\", \"\", cleaned_lyrics)\n",
    "    cleaned_lyrics = re.sub(r\"\\bEmbed\\b\", \"\", cleaned_lyrics)\n",
    "    # Return the cleaned lyrics\n",
    "    return cleaned_lyrics"
   ],
   "metadata": {
    "id": "CqNFsGOtBvI5"
   }
  },
  {
   "cell_type": "code",
   "execution_count": null,
   "outputs": [],
   "source": [
    "loaded_song_dataset = pd.read_csv(\"all_songs_no_null.csv\")\n",
    "\n",
    "# Apply the clean_lyrics function to the \"Lyrics\" column of the DataFrame\n",
    "loaded_song_dataset[\"Lyrics\"] = loaded_song_dataset[\"Lyrics\"].apply(clean_lyrics)\n",
    "\n",
    "# Save the cleaned DataFrame to a new CSV file\n",
    "loaded_song_dataset.to_csv('cleaned_songs.csv', index=False)"
   ],
   "metadata": {
    "id": "oW5zvrjnBvI6"
   }
  },
  {
   "cell_type": "markdown",
   "source": [
    "# Data Statistic"
   ],
   "metadata": {
    "collapsed": false,
    "id": "b7SkMcp3BvI7"
   }
  },
  {
   "cell_type": "markdown",
   "source": [
    "## Word Cloud"
   ],
   "metadata": {
    "collapsed": false,
    "id": "H5wFO5b0BvI8"
   }
  },
  {
   "cell_type": "code",
   "execution_count": null,
   "outputs": [
    {
     "data": {
      "text/plain": "<Figure size 640x480 with 1 Axes>",
      "image/png": "[encoded data removed]"
     },
     "metadata": {},
     "output_type": "display_data"
    }
   ],
   "source": [
    "# Create and generate a word cloud image:\n",
    "df = pd.read_csv(\"cleaned_songs.csv\")\n",
    "lyrics_text = ' '.join(df['Lyrics'])\n",
    "\n",
    "wordcloud = WordCloud(width=800, height=800, background_color='white', max_words=100, contour_width=3, contour_color='steelblue').generate(str(lyrics_text))\n",
    "\n",
    "# Display the generated image:\n",
    "plt.imshow(wordcloud, interpolation='bilinear')\n",
    "plt.axis(\"off\")\n",
    "plt.title(\"WordCloud (limitations: contains biased content)\")\n",
    "plt.show()"
   ],
   "metadata": {
    "id": "lTNUlVXzBvI9",
    "outputId": "4ae197c2-f278-49fa-8000-30f32168eb95"
   }
  },
  {
   "cell_type": "markdown",
   "source": [
    "## Profanity filter and Wordcloud"
   ],
   "metadata": {
    "collapsed": false,
    "id": "kXyG_e_XBvI9"
   }
  },
  {
   "cell_type": "code",
   "execution_count": null,
   "outputs": [],
   "source": [
    "bad_word_file = 'Facebook Bad Words List 2022.txt'\n",
    "with open(bad_word_file) as f:\n",
    "    bad_words = f.read().split(\",\")"
   ],
   "metadata": {
    "id": "s0oPe9FTBvI-"
   }
  },
  {
   "cell_type": "code",
   "execution_count": null,
   "outputs": [
    {
     "data": {
      "text/plain": "1110"
     },
     "execution_count": 103,
     "metadata": {},
     "output_type": "execute_result"
    }
   ],
   "source": [
    "len(bad_words)"
   ],
   "metadata": {
    "id": "0SbPkxYNBvI-",
    "outputId": "111ab978-b9ef-442d-e326-9f011796b36d"
   }
  },
  {
   "cell_type": "code",
   "execution_count": null,
   "outputs": [],
   "source": [
    "def clean_profanity_lyrics(lyrics):\n",
    "    # Remove all non-alphanumeric characters and convert to lowercase\n",
    "    clean_text = re.sub(r'[^a-zA-Z\\s]', '', lyrics)\n",
    "    cleaned_lyrics = re.sub(r'[^\\w\\s]', '', clean_text).lower()\n",
    "    # Tokenize the lyrics into a list of words\n",
    "    words = cleaned_lyrics.split()\n",
    "    # Remove stop words\n",
    "    words = [word for word in words if word not in bad_words]\n",
    "    words = [word for word in words if word not in stopwords.words('english')]\n",
    "    return ' '.join(words)"
   ],
   "metadata": {
    "id": "abFpyJBCBvJA"
   }
  },
  {
   "cell_type": "code",
   "execution_count": null,
   "outputs": [],
   "source": [
    "def clean_non_profanity(lyrics):\n",
    "    # Remove all non-alphanumeric characters and convert to lowercase\n",
    "    clean_text = re.sub(r'[^a-zA-Z\\s]', '', lyrics)\n",
    "    cleaned_lyrics = re.sub(r'[^\\w\\s]', '', clean_text).lower()\n",
    "    # Tokenize the lyrics into a list of words\n",
    "    words = cleaned_lyrics.split()\n",
    "    # Remove stop words\n",
    "    words = [word for word in words if word in bad_words]\n",
    "    words = [word for word in words if word not in stopwords.words('english')]\n",
    "    return ' '.join(words)\n"
   ],
   "metadata": {
    "id": "KrLVYHoqBvJA"
   }
  },
  {
   "cell_type": "code",
   "execution_count": 8,
   "outputs": [],
   "source": [
    "def tokenize_lyrics(lyrics):\n",
    "    # Remove all non-alphanumeric characters and convert to lowercase\n",
    "    clean_text = re.sub(r'[^a-zA-Z\\s]', '', lyrics)\n",
    "    cleaned_lyrics = re.sub(r'[^\\w\\s]', '', clean_text).lower()\n",
    "    # Tokenize the lyrics into a list of words\n",
    "    words = cleaned_lyrics.split()\n",
    "    return ' '.join(words)"
   ],
   "metadata": {
    "id": "5Ead3SD3BvJC"
   }
  },
  {
   "cell_type": "code",
   "execution_count": 9,
   "outputs": [],
   "source": [
    "df = pd.read_csv(\"cleaned_songs.csv\")\n",
    "\n",
    "df['Tokenized Lyrics'] = df['Lyrics'].apply(tokenize_lyrics)\n",
    "df['Cleaned Lyrics'] = df['Lyrics'].apply(clean_profanity_lyrics)\n",
    "df['Bad Words'] = df['Lyrics'].apply(clean_non_profanity)\n",
    "\n",
    "df.to_csv('cleaned_songs.csv', index=False)"
   ],
   "metadata": {
    "id": "Mqn_mkIkBvJD"
   }
  },
  {
   "cell_type": "code",
   "execution_count": 10,
   "outputs": [
    {
     "data": {
      "text/plain": "<Figure size 640x480 with 1 Axes>",
      "image/png": "[encoded data removed]"
     },
     "metadata": {},
     "output_type": "display_data"
    }
   ],
   "source": [
    "df = pd.read_csv(\"cleaned_songs.csv\")\n",
    "lyrics_text = ' '.join(df['Tokenized Lyrics'])\n",
    "\n",
    "wordcloud = WordCloud(width=800, height=800, background_color='white', max_words=100, contour_width=3, contour_color='steelblue').generate(str(lyrics_text))\n",
    "\n",
    "# Display the generated image:\n",
    "plt.imshow(wordcloud, interpolation='bilinear')\n",
    "plt.axis(\"off\")\n",
    "plt.title(\"WordCloud with stopwords (limitations: contains biased content)\")\n",
    "plt.show()"
   ],
   "metadata": {
    "collapsed": false
   }
  },
  {
   "cell_type": "code",
   "execution_count": null,
   "outputs": [
    {
     "data": {
      "text/plain": "<Figure size 640x480 with 1 Axes>",
      "image/png": "[encoded data removed]"
     },
     "metadata": {},
     "output_type": "display_data"
    }
   ],
   "source": [
    "df = pd.read_csv(\"cleaned_songs.csv\")\n",
    "lyrics_text = ' '.join(df['Cleaned Lyrics'])\n",
    "\n",
    "wordcloud = WordCloud(width=800, height=800, background_color='white', max_words=100, contour_width=3, contour_color='steelblue').generate(str(lyrics_text))\n",
    "\n",
    "# Display the generated image:\n",
    "plt.imshow(wordcloud, interpolation='bilinear')\n",
    "plt.axis(\"off\")\n",
    "plt.title(\"WordCloud with no stopwords and profanity\")\n",
    "plt.show()"
   ],
   "metadata": {
    "id": "1LkSwiQyBvJD",
    "outputId": "bcce8797-6922-4e03-9028-d9e53ec82f46"
   }
  },
  {
   "cell_type": "markdown",
   "source": [
    "## Data Statistic per year"
   ],
   "metadata": {
    "collapsed": false,
    "id": "umHWZieGBvJE"
   }
  },
  {
   "cell_type": "code",
   "execution_count": null,
   "outputs": [],
   "source": [
    "data =  pd.read_csv('cleaned_songs.csv')\n",
    "# Create a new DataFrame with the year, number of songs, number of unique words, and average number of words per song for each year\n",
    "year_stats = pd.DataFrame(columns=['Year', 'Num Songs', 'Num Unique Words', 'Avg Words Per Song'])\n",
    "for year in data['Year'].unique():\n",
    "    year_data = data[data['Year'] == year]\n",
    "    num_songs = len(year_data)\n",
    "    all_words = []\n",
    "    unique_words = set()\n",
    "    for lyrics in year_data['Tokenized Lyrics']:\n",
    "        all_words += lyrics\n",
    "        unique_words.update(lyrics)\n",
    "    num_unique_words = len(unique_words)\n",
    "    avg_words_per_song = len(all_words) / num_songs\n",
    "    year_stats = year_stats.append({'Year': year, 'Num Songs': num_songs, 'Num Unique Words': num_unique_words, 'Avg Words Per Song': avg_words_per_song}, ignore_index=True)\n",
    "\n",
    "# Save the year_stats DataFrame to a CSV file\n",
    "year_stats.to_csv('year_stats.csv', index=False)"
   ],
   "metadata": {
    "pycharm": {
     "is_executing": true
    },
    "id": "5BV4rAdrBvJE"
   }
  },
  {
   "cell_type": "code",
   "execution_count": null,
   "outputs": [
    {
     "data": {
      "text/plain": "<Figure size 640x480 with 1 Axes>",
      "image/png": "[encoded data removed]"
     },
     "metadata": {},
     "output_type": "display_data"
    },
    {
     "data": {
      "text/plain": "<Figure size 640x480 with 1 Axes>",
      "image/png": "[encoded data removed]"
     },
     "metadata": {},
     "output_type": "display_data"
    },
    {
     "data": {
      "text/plain": "<Figure size 640x480 with 1 Axes>",
      "image/png": "[encoded data removed]"
     },
     "metadata": {},
     "output_type": "display_data"
    }
   ],
   "source": [
    "# Plot the year_stats DataFrame as a bar chart\n",
    "plt.bar(year_stats['Year'], year_stats['Num Unique Words'])\n",
    "plt.title('Number of Unique Words per Year')\n",
    "plt.xlabel('Year')\n",
    "plt.ylabel('Number of Unique Words')\n",
    "plt.show()\n",
    "\n",
    "plt.bar(year_stats['Year'], year_stats['Avg Words Per Song'])\n",
    "plt.title('Average Words per Song per Year')\n",
    "plt.xlabel('Year')\n",
    "plt.ylabel('Average Words per Song')\n",
    "plt.show()\n",
    "\n",
    "plt.bar(year_stats['Year'], year_stats['Num Songs'])\n",
    "plt.title('Number of Songs per Year')\n",
    "plt.xlabel('Year')\n",
    "plt.ylabel('Number of Songs')\n",
    "plt.show()"
   ],
   "metadata": {
    "id": "blQc3OAbBvJF",
    "outputId": "29e16447-d75c-42d4-b805-7750de655c3e"
   }
  },
  {
   "cell_type": "markdown",
   "source": [
    "## Understanding lyrics with T5 transformer"
   ],
   "metadata": {
    "collapsed": false,
    "id": "g8iO1VHdBvJF"
   }
  },
  {
   "cell_type": "markdown",
   "source": [
    "### Prepare model\n",
    "\n"
   ],
   "metadata": {
    "collapsed": false,
    "id": "ws2lKIyRBvJG"
   }
  },
  {
   "cell_type": "code",
   "source": [
    "torch.cuda.empty_cache()"
   ],
   "metadata": {
    "id": "ZkY6Vls23tc4"
   },
   "execution_count": null,
   "outputs": []
  },
  {
   "cell_type": "code",
   "execution_count": 30,
   "outputs": [],
   "source": [
    "MODEL_NAME = 'igorktech/t5-base-en'\n",
    "SAVE_MODEL_NAME = 't5-base-en-explainer'\n",
    "model = T5ForConditionalGeneration.from_pretrained(MODEL_NAME)\n",
    "tokenizer = T5Tokenizer.from_pretrained(MODEL_NAME)\n",
    "device = torch.device(\"cuda\" if torch.cuda.is_available() else \"cpu\")\n",
    "model.to(device);\n",
    "\n",
    "TRAIN_BATCH_SIZE = 16\n",
    "EVAL_BATCH_SIZE = 4\n",
    "REPORT_STEPS = 250\n",
    "EPOCHS = 5\n",
    "LEARNING_RATE = 1e-4\n",
    "TASK_PREFIX = \"explain | \"\n",
    "MAX_INPUT = 64\n",
    "MAX_OUTPUT = 64\n",
    "SPLIT_SIZE = 0.05\n",
    "# model.config.max_length = MAX_OUTPUT #not mandatory\n",
    "SAVE_TO_HUB = True"
   ],
   "metadata": {
    "id": "d7V7VnEOBvJG"
   }
  },
  {
   "cell_type": "code",
   "source": [
    "if SAVE_TO_HUB: \n",
    "    notebook_login()"
   ],
   "metadata": {
    "colab": {
     "base_uri": "https://localhost:8080/",
     "height": 369,
     "referenced_widgets": [
      "80339d8ebd234aedb23d067693ae168d",
      "0f1792b8dfda4a0bbea4a3a45bbba8cd",
      "665621d1b901478386cd177da670a1ac",
      "89f6b9b4d208440299b154b0c991a325",
      "0d62d78e6dfe40a0a9363ccb305210a0",
      "35fd9ab37df94b4a89c4290106fd7344",
      "d1215030f58e423c9d1580f5983c8383",
      "d2f0e3629d72488db6d703bef845819f",
      "03dd74d8af234d9f9cb3ee0b01fdca81",
      "c4bbe802189840e792240c4f8682c1e7",
      "745de669f75645c688c333c440a172d5",
      "4b909518ef2942b8b4f1d4d976ea87c3",
      "6e0b5b4cde2247af8b0f21ce2c0f3b47",
      "974fdb87b326472b95807d9c6d215afc",
      "f335faf312284441a956c58fc8b4ac15",
      "1f0c16568607460bab4588eea2d72228",
      "309e3b64ef4a4c50bcfd6c93c2b59b6f"
     ]
    },
    "id": "Way7bAT50vOk",
    "outputId": "2b33c988-ed57-4319-b3eb-52beeccb3517"
   },
   "execution_count": 13,
   "outputs": [
    {
     "output_type": "stream",
     "name": "stdout",
     "text": [
      "Token is valid.\n",
      "Your token has been saved in your configured git credential helpers (store).\n",
      "Your token has been saved to /root/.cache/huggingface/token\n",
      "Login successful\n"
     ]
    }
   ]
  },
  {
   "cell_type": "markdown",
   "source": [
    "### Prepare pairs of text for training"
   ],
   "metadata": {
    "id": "WaM0Bo9iM8fl"
   }
  },
  {
   "cell_type": "code",
   "execution_count": null,
   "outputs": [],
   "source": [
    "pairs = []\n",
    "df =  pd.read_csv('cleaned_songs.csv')['Song annotations'].apply(ast.literal_eval)\n",
    "\n",
    "for index in range(len(df)):\n",
    "    for tup in df[index]:\n",
    "\n",
    "        new_tup = (tup[0], re.sub(r'http\\S+', '', tup[1][0][0]))\n",
    "        pairs.append(new_tup)\n",
    "\n",
    "# # create a new DataFrame with the new list of tuples\n",
    "new_df = pd.DataFrame(pairs, columns=['Lyrics', 'Description'])"
   ],
   "metadata": {
    "id": "r48cN6bKBvJH"
   }
  },
  {
   "cell_type": "code",
   "execution_count": null,
   "outputs": [],
   "source": [
    "new_df.to_csv('lyrics_annotation_pairs.csv',index = False)"
   ],
   "metadata": {
    "id": "vMzcNjZMBvJH"
   }
  },
  {
   "cell_type": "code",
   "execution_count": null,
   "outputs": [],
   "source": [
    "data = pd.read_csv('/content/lyrics_annotation_pairs.csv')"
   ],
   "metadata": {
    "id": "-KYFHhB2BvJH"
   }
  },
  {
   "cell_type": "code",
   "source": [
    "data.dropna(subset=['Lyrics'])\n",
    "data['Lyrics'] = data['Lyrics'].astype(str)\n",
    "# Drop text in [brakets]\n",
    "data = data[~data['Lyrics'].str.contains('^\\[.*\\]$')]\n",
    "data.to_csv('lyrics_annotation_pairs.csv',index = False)"
   ],
   "metadata": {
    "id": "JqsJQTFnDMKl"
   },
   "execution_count": null,
   "outputs": []
  },
  {
   "cell_type": "code",
   "source": [
    "data = pd.read_csv('/content/lyrics_annotation_pairs.csv')\n",
    "#drop tokens that are more than max output\n",
    "data = data[data['Description'].str.count(' ') < MAX_OUTPUT]"
   ],
   "metadata": {
    "id": "VrX1YgvBw7p1"
   },
   "execution_count": 9,
   "outputs": []
  },
  {
   "cell_type": "code",
   "execution_count": 10,
   "outputs": [],
   "source": [
    "pairs = []\n",
    "for a, b in zip(data['Lyrics'].astype(str), data['Description'].astype(str)):\n",
    "    pairs.append((TASK_PREFIX + a, b))"
   ],
   "metadata": {
    "id": "8IBkv6fGBvJH"
   }
  },
  {
   "cell_type": "code",
   "execution_count": 11,
   "outputs": [
    {
     "output_type": "stream",
     "name": "stdout",
     "text": [
      "25376\n"
     ]
    }
   ],
   "source": [
    "print(len(pairs))"
   ],
   "metadata": {
    "id": "X7Ym2GXIBvJI",
    "colab": {
     "base_uri": "https://localhost:8080/"
    },
    "outputId": "b7c4f68c-dc56-4c69-c4f9-21f1b865fe25"
   }
  },
  {
   "cell_type": "markdown",
   "source": [
    "### Training loop"
   ],
   "metadata": {
    "id": "b6koVNQHNIko"
   }
  },
  {
   "cell_type": "code",
   "execution_count": 14,
   "outputs": [],
   "source": [
    "optimizer = torch.optim.Adam(model.parameters(), lr=LEARNING_RATE)"
   ],
   "metadata": {
    "id": "SiD_XcN3BvJI"
   }
  },
  {
   "cell_type": "code",
   "execution_count": 16,
   "outputs": [
    {
     "output_type": "stream",
     "name": "stdout",
     "text": [
      "EPOCH 0\n"
     ]
    },
    {
     "output_type": "display_data",
     "data": {
      "text/plain": [
       "  0%|          | 0/1506 [00:00<?, ?it/s]"
      ],
      "application/vnd.jupyter.widget-view+json": {
       "version_major": 2,
       "version_minor": 0,
       "model_id": "d48195b2c051406196ced952f313cab3"
      }
     },
     "metadata": {}
    },
    {
     "output_type": "stream",
     "name": "stdout",
     "text": [
      "train step 0 loss 11.566267967224121\n",
      "train step 250 loss 7.393606592178345\n",
      "train step 500 loss 5.871733896255493\n",
      "train step 750 loss 5.37544298362732\n",
      "train step 1000 loss 5.100861392974854\n",
      "train step 1250 loss 4.913109476089478\n",
      "train step 1500 loss 4.775294013977051\n"
     ]
    },
    {
     "output_type": "display_data",
     "data": {
      "text/plain": [
       "  0%|          | 0/317 [00:00<?, ?it/s]"
      ],
      "application/vnd.jupyter.widget-view+json": {
       "version_major": 2,
       "version_minor": 0,
       "model_id": "a5fdc55aaf6e41d2bdd745af43c2689b"
      }
     },
     "metadata": {}
    },
    {
     "output_type": "stream",
     "name": "stdout",
     "text": [
      "validation loss 4.094170960718149\n",
      "EPOCH 1\n"
     ]
    },
    {
     "output_type": "display_data",
     "data": {
      "text/plain": [
       "  0%|          | 0/1506 [00:00<?, ?it/s]"
      ],
      "application/vnd.jupyter.widget-view+json": {
       "version_major": 2,
       "version_minor": 0,
       "model_id": "489d6b848ee54aca86df8e17ba5dcd9e"
      }
     },
     "metadata": {}
    },
    {
     "output_type": "stream",
     "name": "stdout",
     "text": [
      "train step 0 loss 4.658426761627197\n",
      "train step 250 loss 4.665075389862061\n",
      "train step 500 loss 4.572071800231933\n",
      "train step 750 loss 4.518023572921753\n",
      "train step 1000 loss 4.425182367324829\n",
      "train step 1250 loss 4.38206570148468\n",
      "train step 1500 loss 4.328442592620849\n"
     ]
    },
    {
     "output_type": "display_data",
     "data": {
      "text/plain": [
       "  0%|          | 0/317 [00:00<?, ?it/s]"
      ],
      "application/vnd.jupyter.widget-view+json": {
       "version_major": 2,
       "version_minor": 0,
       "model_id": "084221be63ae4c9bb96400e32167b431"
      }
     },
     "metadata": {}
    },
    {
     "output_type": "stream",
     "name": "stdout",
     "text": [
      "validation loss 3.7888574502445547\n",
      "EPOCH 2\n"
     ]
    },
    {
     "output_type": "display_data",
     "data": {
      "text/plain": [
       "  0%|          | 0/1506 [00:00<?, ?it/s]"
      ],
      "application/vnd.jupyter.widget-view+json": {
       "version_major": 2,
       "version_minor": 0,
       "model_id": "15284bc4840344b2b61de113f8136b1c"
      }
     },
     "metadata": {}
    },
    {
     "output_type": "stream",
     "name": "stdout",
     "text": [
      "train step 0 loss 4.244400501251221\n",
      "train step 250 loss 4.262203379631043\n",
      "train step 500 loss 4.211650747299195\n",
      "train step 750 loss 4.179477921485901\n",
      "train step 1000 loss 4.147976439476013\n",
      "train step 1250 loss 4.089478424072266\n",
      "train step 1500 loss 4.073042673110962\n"
     ]
    },
    {
     "output_type": "display_data",
     "data": {
      "text/plain": [
       "  0%|          | 0/317 [00:00<?, ?it/s]"
      ],
      "application/vnd.jupyter.widget-view+json": {
       "version_major": 2,
       "version_minor": 0,
       "model_id": "f2def90daab14b12b37c116a5f1787b4"
      }
     },
     "metadata": {}
    },
    {
     "output_type": "stream",
     "name": "stdout",
     "text": [
      "validation loss 3.5735098127310962\n",
      "EPOCH 3\n"
     ]
    },
    {
     "output_type": "display_data",
     "data": {
      "text/plain": [
       "  0%|          | 0/1506 [00:00<?, ?it/s]"
      ],
      "application/vnd.jupyter.widget-view+json": {
       "version_major": 2,
       "version_minor": 0,
       "model_id": "e82ec1d844c44a1aa7f72204ac0d28c6"
      }
     },
     "metadata": {}
    },
    {
     "output_type": "stream",
     "name": "stdout",
     "text": [
      "train step 0 loss 3.9695119857788086\n",
      "train step 250 loss 4.00317596244812\n",
      "train step 500 loss 3.971366273880005\n",
      "train step 750 loss 3.9311935205459596\n",
      "train step 1000 loss 3.9185365800857546\n",
      "train step 1250 loss 3.8969780158996583\n",
      "train step 1500 loss 3.8675303134918213\n"
     ]
    },
    {
     "output_type": "display_data",
     "data": {
      "text/plain": [
       "  0%|          | 0/317 [00:00<?, ?it/s]"
      ],
      "application/vnd.jupyter.widget-view+json": {
       "version_major": 2,
       "version_minor": 0,
       "model_id": "8189a57801cb49e690d2c785c7760b22"
      }
     },
     "metadata": {}
    },
    {
     "output_type": "stream",
     "name": "stdout",
     "text": [
      "validation loss 3.4405473241294597\n",
      "EPOCH 4\n"
     ]
    },
    {
     "output_type": "display_data",
     "data": {
      "text/plain": [
       "  0%|          | 0/1506 [00:00<?, ?it/s]"
      ],
      "application/vnd.jupyter.widget-view+json": {
       "version_major": 2,
       "version_minor": 0,
       "model_id": "dbaba8342c0d49ef9982518ef11f268a"
      }
     },
     "metadata": {}
    },
    {
     "output_type": "stream",
     "name": "stdout",
     "text": [
      "train step 0 loss 3.690129280090332\n",
      "train step 250 loss 3.8280846490859983\n",
      "train step 500 loss 3.7900263051986696\n",
      "train step 750 loss 3.767849338531494\n",
      "train step 1000 loss 3.748133785247803\n",
      "train step 1250 loss 3.7329543857574463\n",
      "train step 1500 loss 3.7184234704971315\n"
     ]
    },
    {
     "output_type": "display_data",
     "data": {
      "text/plain": [
       "  0%|          | 0/317 [00:00<?, ?it/s]"
      ],
      "application/vnd.jupyter.widget-view+json": {
       "version_major": 2,
       "version_minor": 0,
       "model_id": "35a193f99e1746d39ce419b24d35aaf4"
      }
     },
     "metadata": {}
    },
    {
     "output_type": "stream",
     "name": "stdout",
     "text": [
      "validation loss 3.3457054226932463\n"
     ]
    },
    {
     "output_type": "error",
     "ename": "ValueError",
     "evalue": "ignored",
     "traceback": [
      "\u001B[0;31m---------------------------------------------------------------------------\u001B[0m",
      "\u001B[0;31mValueError\u001B[0m                                Traceback (most recent call last)",
      "\u001B[0;32m<ipython-input-16-afcf719b3294>\u001B[0m in \u001B[0;36m<module>\u001B[0;34m\u001B[0m\n\u001B[1;32m     69\u001B[0m \u001B[0;34m\u001B[0m\u001B[0m\n\u001B[1;32m     70\u001B[0m \u001B[0;31m# Save progress\u001B[0m\u001B[0;34m\u001B[0m\u001B[0;34m\u001B[0m\u001B[0m\n\u001B[0;32m---> 71\u001B[0;31m df = pd.DataFrame({\n\u001B[0m\u001B[1;32m     72\u001B[0m     \u001B[0;34m'train_loss'\u001B[0m\u001B[0;34m:\u001B[0m \u001B[0mtrain_losses\u001B[0m\u001B[0;34m,\u001B[0m\u001B[0;34m\u001B[0m\u001B[0;34m\u001B[0m\u001B[0m\n\u001B[1;32m     73\u001B[0m     \u001B[0;34m'val_loss'\u001B[0m\u001B[0;34m:\u001B[0m \u001B[0mval_losses\u001B[0m\u001B[0;34m\u001B[0m\u001B[0;34m\u001B[0m\u001B[0m\n",
      "\u001B[0;32m/usr/local/lib/python3.9/dist-packages/pandas/core/frame.py\u001B[0m in \u001B[0;36m__init__\u001B[0;34m(self, data, index, columns, dtype, copy)\u001B[0m\n\u001B[1;32m    634\u001B[0m         \u001B[0;32melif\u001B[0m \u001B[0misinstance\u001B[0m\u001B[0;34m(\u001B[0m\u001B[0mdata\u001B[0m\u001B[0;34m,\u001B[0m \u001B[0mdict\u001B[0m\u001B[0;34m)\u001B[0m\u001B[0;34m:\u001B[0m\u001B[0;34m\u001B[0m\u001B[0;34m\u001B[0m\u001B[0m\n\u001B[1;32m    635\u001B[0m             \u001B[0;31m# GH#38939 de facto copy defaults to False only in non-dict cases\u001B[0m\u001B[0;34m\u001B[0m\u001B[0;34m\u001B[0m\u001B[0m\n\u001B[0;32m--> 636\u001B[0;31m             \u001B[0mmgr\u001B[0m \u001B[0;34m=\u001B[0m \u001B[0mdict_to_mgr\u001B[0m\u001B[0;34m(\u001B[0m\u001B[0mdata\u001B[0m\u001B[0;34m,\u001B[0m \u001B[0mindex\u001B[0m\u001B[0;34m,\u001B[0m \u001B[0mcolumns\u001B[0m\u001B[0;34m,\u001B[0m \u001B[0mdtype\u001B[0m\u001B[0;34m=\u001B[0m\u001B[0mdtype\u001B[0m\u001B[0;34m,\u001B[0m \u001B[0mcopy\u001B[0m\u001B[0;34m=\u001B[0m\u001B[0mcopy\u001B[0m\u001B[0;34m,\u001B[0m \u001B[0mtyp\u001B[0m\u001B[0;34m=\u001B[0m\u001B[0mmanager\u001B[0m\u001B[0;34m)\u001B[0m\u001B[0;34m\u001B[0m\u001B[0;34m\u001B[0m\u001B[0m\n\u001B[0m\u001B[1;32m    637\u001B[0m         \u001B[0;32melif\u001B[0m \u001B[0misinstance\u001B[0m\u001B[0;34m(\u001B[0m\u001B[0mdata\u001B[0m\u001B[0;34m,\u001B[0m \u001B[0mma\u001B[0m\u001B[0;34m.\u001B[0m\u001B[0mMaskedArray\u001B[0m\u001B[0;34m)\u001B[0m\u001B[0;34m:\u001B[0m\u001B[0;34m\u001B[0m\u001B[0;34m\u001B[0m\u001B[0m\n\u001B[1;32m    638\u001B[0m             \u001B[0;32mimport\u001B[0m \u001B[0mnumpy\u001B[0m\u001B[0;34m.\u001B[0m\u001B[0mma\u001B[0m\u001B[0;34m.\u001B[0m\u001B[0mmrecords\u001B[0m \u001B[0;32mas\u001B[0m \u001B[0mmrecords\u001B[0m\u001B[0;34m\u001B[0m\u001B[0;34m\u001B[0m\u001B[0m\n",
      "\u001B[0;32m/usr/local/lib/python3.9/dist-packages/pandas/core/internals/construction.py\u001B[0m in \u001B[0;36mdict_to_mgr\u001B[0;34m(data, index, columns, dtype, typ, copy)\u001B[0m\n\u001B[1;32m    500\u001B[0m         \u001B[0;31m# TODO: can we get rid of the dt64tz special case above?\u001B[0m\u001B[0;34m\u001B[0m\u001B[0;34m\u001B[0m\u001B[0m\n\u001B[1;32m    501\u001B[0m \u001B[0;34m\u001B[0m\u001B[0m\n\u001B[0;32m--> 502\u001B[0;31m     \u001B[0;32mreturn\u001B[0m \u001B[0marrays_to_mgr\u001B[0m\u001B[0;34m(\u001B[0m\u001B[0marrays\u001B[0m\u001B[0;34m,\u001B[0m \u001B[0mcolumns\u001B[0m\u001B[0;34m,\u001B[0m \u001B[0mindex\u001B[0m\u001B[0;34m,\u001B[0m \u001B[0mdtype\u001B[0m\u001B[0;34m=\u001B[0m\u001B[0mdtype\u001B[0m\u001B[0;34m,\u001B[0m \u001B[0mtyp\u001B[0m\u001B[0;34m=\u001B[0m\u001B[0mtyp\u001B[0m\u001B[0;34m,\u001B[0m \u001B[0mconsolidate\u001B[0m\u001B[0;34m=\u001B[0m\u001B[0mcopy\u001B[0m\u001B[0;34m)\u001B[0m\u001B[0;34m\u001B[0m\u001B[0;34m\u001B[0m\u001B[0m\n\u001B[0m\u001B[1;32m    503\u001B[0m \u001B[0;34m\u001B[0m\u001B[0m\n\u001B[1;32m    504\u001B[0m \u001B[0;34m\u001B[0m\u001B[0m\n",
      "\u001B[0;32m/usr/local/lib/python3.9/dist-packages/pandas/core/internals/construction.py\u001B[0m in \u001B[0;36marrays_to_mgr\u001B[0;34m(arrays, columns, index, dtype, verify_integrity, typ, consolidate)\u001B[0m\n\u001B[1;32m    118\u001B[0m         \u001B[0;31m# figure out the index, if necessary\u001B[0m\u001B[0;34m\u001B[0m\u001B[0;34m\u001B[0m\u001B[0m\n\u001B[1;32m    119\u001B[0m         \u001B[0;32mif\u001B[0m \u001B[0mindex\u001B[0m \u001B[0;32mis\u001B[0m \u001B[0;32mNone\u001B[0m\u001B[0;34m:\u001B[0m\u001B[0;34m\u001B[0m\u001B[0;34m\u001B[0m\u001B[0m\n\u001B[0;32m--> 120\u001B[0;31m             \u001B[0mindex\u001B[0m \u001B[0;34m=\u001B[0m \u001B[0m_extract_index\u001B[0m\u001B[0;34m(\u001B[0m\u001B[0marrays\u001B[0m\u001B[0;34m)\u001B[0m\u001B[0;34m\u001B[0m\u001B[0;34m\u001B[0m\u001B[0m\n\u001B[0m\u001B[1;32m    121\u001B[0m         \u001B[0;32melse\u001B[0m\u001B[0;34m:\u001B[0m\u001B[0;34m\u001B[0m\u001B[0;34m\u001B[0m\u001B[0m\n\u001B[1;32m    122\u001B[0m             \u001B[0mindex\u001B[0m \u001B[0;34m=\u001B[0m \u001B[0mensure_index\u001B[0m\u001B[0;34m(\u001B[0m\u001B[0mindex\u001B[0m\u001B[0;34m)\u001B[0m\u001B[0;34m\u001B[0m\u001B[0;34m\u001B[0m\u001B[0m\n",
      "\u001B[0;32m/usr/local/lib/python3.9/dist-packages/pandas/core/internals/construction.py\u001B[0m in \u001B[0;36m_extract_index\u001B[0;34m(data)\u001B[0m\n\u001B[1;32m    672\u001B[0m             \u001B[0mlengths\u001B[0m \u001B[0;34m=\u001B[0m \u001B[0mlist\u001B[0m\u001B[0;34m(\u001B[0m\u001B[0mset\u001B[0m\u001B[0;34m(\u001B[0m\u001B[0mraw_lengths\u001B[0m\u001B[0;34m)\u001B[0m\u001B[0;34m)\u001B[0m\u001B[0;34m\u001B[0m\u001B[0;34m\u001B[0m\u001B[0m\n\u001B[1;32m    673\u001B[0m             \u001B[0;32mif\u001B[0m \u001B[0mlen\u001B[0m\u001B[0;34m(\u001B[0m\u001B[0mlengths\u001B[0m\u001B[0;34m)\u001B[0m \u001B[0;34m>\u001B[0m \u001B[0;36m1\u001B[0m\u001B[0;34m:\u001B[0m\u001B[0;34m\u001B[0m\u001B[0;34m\u001B[0m\u001B[0m\n\u001B[0;32m--> 674\u001B[0;31m                 \u001B[0;32mraise\u001B[0m \u001B[0mValueError\u001B[0m\u001B[0;34m(\u001B[0m\u001B[0;34m\"All arrays must be of the same length\"\u001B[0m\u001B[0;34m)\u001B[0m\u001B[0;34m\u001B[0m\u001B[0;34m\u001B[0m\u001B[0m\n\u001B[0m\u001B[1;32m    675\u001B[0m \u001B[0;34m\u001B[0m\u001B[0m\n\u001B[1;32m    676\u001B[0m             \u001B[0;32mif\u001B[0m \u001B[0mhave_dicts\u001B[0m\u001B[0;34m:\u001B[0m\u001B[0;34m\u001B[0m\u001B[0;34m\u001B[0m\u001B[0m\n",
      "\u001B[0;31mValueError\u001B[0m: All arrays must be of the same length"
     ]
    }
   ],
   "source": [
    "# Split data into train and validation sets\n",
    "train_pairs, val_pairs = train_test_split(pairs, test_size=SPLIT_SIZE)\n",
    "# Define training and validation functions\n",
    "def train(model, optimizer, tokenizer, train_pairs):\n",
    "    model.train()\n",
    "    losses = []\n",
    "    for i in trange(0, int(len(train_pairs) / TRAIN_BATCH_SIZE)):\n",
    "        batch = train_pairs[i * TRAIN_BATCH_SIZE: (i + 1) * TRAIN_BATCH_SIZE]\n",
    "        \n",
    "        x = tokenizer([p[0] for p in batch], return_tensors='pt', padding=\"longest\", \\\n",
    "                      max_length=MAX_INPUT, truncation=True).to(model.device)\n",
    "        y = tokenizer([p[1] for p in batch], return_tensors='pt', padding=\"longest\", \\\n",
    "                      max_length=MAX_OUTPUT, truncation=True, ).to(model.device)\n",
    "        y.input_ids[y.input_ids == 0] = -100\n",
    "        loss = model(\n",
    "            input_ids=x.input_ids,\n",
    "            attention_mask=x.attention_mask,\n",
    "            labels=y.input_ids,\n",
    "            decoder_attention_mask=y.attention_mask,\n",
    "            return_dict=True\n",
    "        ).loss\n",
    "        loss.backward()\n",
    "        optimizer.step()\n",
    "        optimizer.zero_grad()\n",
    "        losses.append(loss.item())\n",
    "        if i % REPORT_STEPS == 0:\n",
    "            print('train step', i, 'loss', np.mean(losses[-REPORT_STEPS:]))\n",
    "            \n",
    "    # Return training losses for plotting\n",
    "    return losses\n",
    "\n",
    "def evaluate(model, tokenizer, val_pairs):\n",
    "    model.eval()\n",
    "    total_loss = 0\n",
    "    with torch.no_grad():\n",
    "        for i in trange(0, int(len(val_pairs) / EVAL_BATCH_SIZE)):\n",
    "            batch = val_pairs[i * EVAL_BATCH_SIZE: (i + 1) * EVAL_BATCH_SIZE]\n",
    "            x = tokenizer([p[0] for p in batch], return_tensors='pt', padding=\"longest\", \\\n",
    "                          max_length=MAX_INPUT, truncation=True).to(model.device)\n",
    "            y = tokenizer([p[1] for p in batch], return_tensors='pt', padding=\"longest\", \\\n",
    "                          max_length=MAX_OUTPUT, truncation=True, ).to(model.device)\n",
    "            y.input_ids[y.input_ids == 0] = -100\n",
    "            loss = model(\n",
    "                input_ids=x.input_ids,\n",
    "                attention_mask=x.attention_mask,\n",
    "                labels=y.input_ids,\n",
    "                decoder_attention_mask=y.attention_mask,\n",
    "                return_dict=True\n",
    "            ).loss\n",
    "            total_loss += loss.item()\n",
    "        avg_loss = total_loss / int(len(val_pairs) / EVAL_BATCH_SIZE)\n",
    "        print('validation loss', avg_loss)\n",
    "        return avg_loss\n",
    "\n",
    "# Train the model for multiple epochs and store losses\n",
    "train_losses = []\n",
    "val_losses = []\n",
    "best_val_loss = float('inf')\n",
    "for epoch in range(EPOCHS):\n",
    "    print('EPOCH', epoch)\n",
    "    random.shuffle(train_pairs)\n",
    "    train_loss = train(model, optimizer, tokenizer, train_pairs)\n",
    "    val_loss = evaluate(model, tokenizer, val_pairs)\n",
    "    train_losses += train_loss\n",
    "    val_losses.append(val_loss)\n",
    "    if val_loss < best_val_loss:\n",
    "        best_val_loss = val_loss\n",
    "        torch.save(model.state_dict(), 'model.pt')\n",
    "        \n"
   ],
   "metadata": {
    "id": "NKDqVJEHBvJI",
    "colab": {
     "base_uri": "https://localhost:8080/",
     "height": 1000,
     "referenced_widgets": [
      "d48195b2c051406196ced952f313cab3",
      "ce4087fabc974d0ea20a1dfdd1694007",
      "2b409ae5e27a41d9bfd5d2818e50ece3",
      "7d6b815713b74b96be310f61ac50e99f",
      "c28305a1387a498f8b785a0968152e95",
      "b106761d50e24b3e9cf06517507e544a",
      "163578be99cc4478a39f0c5276f161cf",
      "026bd90727e84c35bad015655412e118",
      "1c4daad37287473896afb30f952ff40d",
      "35ab532edb9949c89fa4cfe0319288c8",
      "9efbbf3a1f074c80ab391546e43459c7",
      "a5fdc55aaf6e41d2bdd745af43c2689b",
      "90117711c588450b89d278f752a4847e",
      "898484195369464d98dd738406adc417",
      "946c1c54a16c4972aa41f1be96cf38aa",
      "bd2251f936094c4b9eaa773c79ab774f",
      "13068bcd5b00421cabdd1cbfa0542580",
      "fb7d66d70ee1433dacc89948221dfe31",
      "14401d1098fd48a998981b09ee0746ff",
      "f452d8e59d404c81b93736961c3322bc",
      "66fde6ec168e4e028c49612feed0d303",
      "eb4a1d643f7d4bdcb1b2dab5b8369a41",
      "489d6b848ee54aca86df8e17ba5dcd9e",
      "3899b820931e42a79bc55846634f1371",
      "a3cc5aed1f694068b0c953f54c94bbe2",
      "62c144ac3e0149f1afb19d913475c7de",
      "f5bd05872bf34da4b6883028629af107",
      "84f26c076b4042578b3779be71e76217",
      "e5a74d1d166143bebbccace32de1f170",
      "eb728a8d474e46ee8f8d957112256088",
      "0cfdacd7824046d1a92d200b66fdb9a2",
      "0e6c1aa9b3ca4490b45fb1bc47908650",
      "1cf0c5e338ff45a3828b05918f36237a",
      "084221be63ae4c9bb96400e32167b431",
      "dcdb5a8e8f21442489f0befc24843888",
      "2e2f40c26e7a4b9aaf7a71bc51048617",
      "f4decc90ff474401a662a03ad9da6ead",
      "aca4b0b9be334e33a8602014a4e15c82",
      "bb9e414f580d4ed590baa1fb2094d460",
      "51b22e68fc624eeca83c137e6aea25e6",
      "aa2e00aad90f435e97119ee37406e1a8",
      "e78bc6d48892499d857bf8430b51d360",
      "ac8290597e07454f8d1cf099ea95e225",
      "8d68792e68f74f2a8161284f30de74f7",
      "15284bc4840344b2b61de113f8136b1c",
      "0e4fffa23ccb4e539c222dadc8517f2a",
      "330a8b76b26b4c969dbbfedb7709ca1e",
      "30769623bff7481bacf6aeadab167ed5",
      "3cc5f13ffb044eaabdae9600fe58b66d",
      "96a1ad79a9254a128e574d5648ddaea6",
      "eb94f8abdbf74ea886ad7cae061e2e92",
      "b8e1b8791b464e55976c835d1777bfce",
      "8375de80d88b44e2810aaefbacef56d8",
      "4439a3da4f9f46aa825e0ba844e4dce1",
      "265f7d2851794922b4318288cbe1d254",
      "f2def90daab14b12b37c116a5f1787b4",
      "d036bf84b1db4a2cb261e276997d76bb",
      "c477a8640083452d9f1c4d0bd956d62f",
      "44faa87bb6ea4beb84e9ac31fb3e7c61",
      "b6decb3997e94990ae680a20bd08c9d7",
      "d53248e0484c4a8b9a8c70b29a388b0f",
      "2723d43bd2f749d9b81440b21cce30fd",
      "af96ecd6c90847f2a332045f0962b4bb",
      "6bfc8ade6f6b4fd2adbc7afa18c2a8e4",
      "cada232fa98844babcd9f43d7a3a3ca7",
      "8582a85f63744e4b9c80ab6b903c7ea4",
      "e82ec1d844c44a1aa7f72204ac0d28c6",
      "94d734e57c2f4f2599192b8dd31965bb",
      "61f3b64a882e44fc892ec6141652a41c",
      "79a98abcc0a94ca299d819a42e379e5d",
      "cdbfad300d824c80bac0c9c053b713bd",
      "66156d35ad3a49f38e33da3bc76e1f7a",
      "c0056c0c940c45d49d8a665077c69f6f",
      "1e819a136fab4531a590881dfd1dc6f2",
      "845e6c93b4dc4deda9f0069be55ab248",
      "e9bf5669570d4244be4865f9916acd09",
      "af9b5841f62f41fa9bd0dbb4b7c33ff7",
      "8189a57801cb49e690d2c785c7760b22",
      "9d4a4151dd13474a88aef4e73112896c",
      "e8d7e6f3cfc148cab2059de91a67e5a2",
      "b9eb9cff574c4b11bdba17de1d553200",
      "37d6bfa73e02443fa82b23759665f4b1",
      "b276adf6117e4efd81b0dbb95c1a0081",
      "2e68221cc9bf458087a4b97a29d399b7",
      "bf7a352a558848a48b52248f1a5d4771",
      "bbb30fe655194e559f1006b283121b89",
      "f1872f7262264f38b3525a02ed046191",
      "aeb58c0a8be34760833210d7ce3e285f",
      "dbaba8342c0d49ef9982518ef11f268a",
      "d2788639d8664918b9c5187bb5194f4d",
      "ef5316579e4547efa6b0231105a61fce",
      "5c5bc5c8d6a745c68b4ddbcf86c99f78",
      "50fe3778c01a419a9923bd17f4ca4f34",
      "8ddb946d3e88462197de4bbe9fc89e89",
      "d063c795b54a48cc981b136a3f31e89f",
      "94d99ebdb77f4376ad7bd4b68cc76d23",
      "c30ef246c3844170b70c92f1f5032ff0",
      "9f8da10898924d93837848fd506581c0",
      "6e773b595e064544b3b4b69394c22202",
      "35a193f99e1746d39ce419b24d35aaf4",
      "cb95dfa4baad41acba62a06be29545c1",
      "29c71327e4e4467f9b2d52a33abea04f",
      "6a1c5a2f12cb43aeb69730a56628a956",
      "5dfb8c452d334fd0a0dbeba8bed2ad9b",
      "5819b2867ba943c9834cb56515041017",
      "22e7c58bd4b74162ba13b64ebad6c493",
      "d383f79dfe46410fb3b9acda61f30fc7",
      "f41b927d6d5c48fd9873100dd96bd1a3",
      "7c662011a1cc4297b8b7407e5af5899c",
      "6e74a87435eb4eaab1a5279a791291b7"
     ]
    },
    "outputId": "c15750be-6610-4272-b9bf-d6e54a468cc1"
   }
  },
  {
   "cell_type": "code",
   "source": [
    "# Save progress\n",
    "df = pd.DataFrame({\n",
    "    'train_loss': train_losses\n",
    "})\n",
    "df.to_csv('t5_train_loss.csv')\n",
    "df = pd.DataFrame({\n",
    "    'val_loss': val_losses\n",
    "})\n",
    "df.to_csv('t5_val_loss.csv')"
   ],
   "metadata": {
    "id": "UjtKygiuJS8L"
   },
   "execution_count": 17,
   "outputs": []
  },
  {
   "cell_type": "markdown",
   "source": [
    "### Save model"
   ],
   "metadata": {
    "collapsed": false,
    "id": "JLmNQjxBBvJJ"
   }
  },
  {
   "cell_type": "code",
   "execution_count": 18,
   "outputs": [
    {
     "output_type": "display_data",
     "data": {
      "text/plain": [
       "Upload 1 LFS files:   0%|          | 0/1 [00:00<?, ?it/s]"
      ],
      "application/vnd.jupyter.widget-view+json": {
       "version_major": 2,
       "version_minor": 0,
       "model_id": "9eef23f9ac834d529d59a642a5639f75"
      }
     },
     "metadata": {}
    },
    {
     "output_type": "display_data",
     "data": {
      "text/plain": [
       "pytorch_model.bin:   0%|          | 0.00/916M [00:00<?, ?B/s]"
      ],
      "application/vnd.jupyter.widget-view+json": {
       "version_major": 2,
       "version_minor": 0,
       "model_id": "0d0f6e96948a47b8975101e2fc61ccf6"
      }
     },
     "metadata": {}
    },
    {
     "output_type": "display_data",
     "data": {
      "text/plain": [
       "Upload 1 LFS files:   0%|          | 0/1 [00:00<?, ?it/s]"
      ],
      "application/vnd.jupyter.widget-view+json": {
       "version_major": 2,
       "version_minor": 0,
       "model_id": "0c2547306e2c4ab291f468636fc447d0"
      }
     },
     "metadata": {}
    },
    {
     "output_type": "display_data",
     "data": {
      "text/plain": [
       "spiece.model:   0%|          | 0.00/597k [00:00<?, ?B/s]"
      ],
      "application/vnd.jupyter.widget-view+json": {
       "version_major": 2,
       "version_minor": 0,
       "model_id": "80b5153874a843729fc26423ff061d14"
      }
     },
     "metadata": {}
    }
   ],
   "source": [
    "if SAVE_TO_HUB:\n",
    "    model.push_to_hub(SAVE_MODEL_NAME)\n",
    "    tokenizer.push_to_hub(SAVE_MODEL_NAME)\n",
    "else:\n",
    "    model.save_pretrained(SAVE_MODEL_NAME)\n",
    "    tokenizer.save_pretrained(SAVE_MODEL_NAME)"
   ],
   "metadata": {
    "id": "Q1O60hz8BvJK",
    "colab": {
     "base_uri": "https://localhost:8080/",
     "height": 145,
     "referenced_widgets": [
      "9eef23f9ac834d529d59a642a5639f75",
      "ab1963fa9e72440897aa6a81a365c8f7",
      "c351cc4e9bd2430191281a3389180e73",
      "e90c86aef965412e923a7ded20fba264",
      "442905bb645d4b07afc535e611c0a33f",
      "ae6f15913cc84b6494a9dfd96595d84e",
      "ca65ffd6f29140fd9e8d6368fb0b52d0",
      "384146931ee24e5ab004c602f6ee0182",
      "82a67e7101a944b1a833cdf39eedbc61",
      "7409cf1c315e4709adfcfa8d8be6b6cd",
      "75ae2e56ef9643d3bf89985aceadf41e",
      "0d0f6e96948a47b8975101e2fc61ccf6",
      "2bbd83bf06b84c8ca4f18dba8c58fa4c",
      "3f6044e39a7e4d37b6985a86f5ee154f",
      "ce40386cd09943bea045b52ff0977966",
      "328c738d9c36426981e9c03ad2beea7a",
      "04f39ae62de4478198506e2780771f9c",
      "86b7004e88304cf5a244ae8aad884677",
      "bf7f157b09c2414da8b2824c89873f41",
      "4d8960cb0a5b4f50a0f0c6287a92f25d",
      "55a2a645bcb144ffbba3a23f6d37666e",
      "1548e0775ee24a2ca72096bb937d94ca",
      "0c2547306e2c4ab291f468636fc447d0",
      "26e7d1956a194793ad5c7164c26fb683",
      "ad27fbc2c7a64225a00ee759fc0b7845",
      "9df9ce56894b4818aff5be1e81150140",
      "85bb087ecd72437a901ff36999581066",
      "eb4b3d3e35e14f118bbf45de8b71818e",
      "0fde159293d045158d807bc5a7de4ec8",
      "80e5b127802d4979aadb7e28922bfdc9",
      "ed2a7ac775bc48899357bcadd8da4940",
      "4943c10763b449b392926095fff319ca",
      "c518e380ac1448b2b7529be727929092",
      "80b5153874a843729fc26423ff061d14",
      "41e3dedf92874e8aaa8ae38082a27a13",
      "bb79aa223661411084290f84ce311b58",
      "050feca6b1004a98b5161736d364c03f",
      "df42d0d2ee794971aa36806a99eebfa7",
      "e44e6699034246538f24a145f51f7e24",
      "767034811ada42ca888824bcc98298dc",
      "6152328cf5ff414ead06f97b63bdc755",
      "de526224769541838c8742b0164a1625",
      "214e071242794aa9931f7f18371e53d6",
      "b053d3f4b0bd40c89d296ad8835ec72b"
     ]
    },
    "outputId": "cb0f6de2-c208-44c4-8643-a92dbfbe2fcb"
   }
  },
  {
   "cell_type": "markdown",
   "source": [
    "### Plot Losses"
   ],
   "metadata": {
    "id": "DnyPiXRONUpR"
   }
  },
  {
   "cell_type": "code",
   "source": [
    "# Plot \n",
    "plt.figure(figsize=(10, 6))\n",
    "df = pd.read_csv('t5_train_loss.csv')\n",
    "plt.plot(df.iloc[:, 0],df['train_loss'], label='Training loss')\n",
    "df = pd.read_csv('t5_val_loss.csv')\n",
    "plt.plot((df.iloc[:, 0]+1)*int(len(pairs)*(1-SPLIT_SIZE)/TRAIN_BATCH_SIZE), df['val_loss'], label='Validation Loss')\n",
    "plt.xlabel('Epoch')\n",
    "plt.ylabel('Loss')\n",
    "plt.legend()\n",
    "plt.show()"
   ],
   "metadata": {
    "colab": {
     "base_uri": "https://localhost:8080/",
     "height": 388
    },
    "id": "C8YDE77XNTzK",
    "outputId": "d09a0147-2533-4cf9-cc7f-839b35680a7c"
   },
   "execution_count": 34,
   "outputs": [
    {
     "output_type": "display_data",
     "data": {
      "text/plain": [
       "<Figure size 720x432 with 1 Axes>"
      ],
      "image/png": "[encoded data removed]"
     },
     "metadata": {
      "needs_background": "light"
     }
    }
   ]
  },
  {
   "cell_type": "markdown",
   "source": [
    "### Testing model"
   ],
   "metadata": {
    "collapsed": false,
    "id": "3vnrVz0CBvJK"
   }
  },
  {
   "cell_type": "code",
   "execution_count": 36,
   "outputs": [],
   "source": [
    "model.eval()\n",
    "\n",
    "def explain(x, **kwargs):\n",
    "    inputs = tokenizer(x, return_tensors='pt').to(model.device)\n",
    "    with torch.no_grad():\n",
    "        hypotheses = model.generate(**inputs, **kwargs)\n",
    "    return tokenizer.decode(hypotheses[0], skip_special_tokens=True)"
   ],
   "metadata": {
    "id": "4b2etuDsBvJK"
   }
  },
  {
   "cell_type": "code",
   "execution_count": 37,
   "outputs": [
    {
     "output_type": "stream",
     "name": "stderr",
     "text": [
      "/usr/local/lib/python3.9/dist-packages/transformers/generation/utils.py:1288: UserWarning: Using `max_length`'s default (20) to control the generation length. This behaviour is deprecated and will be removed from the config in v5 of Transformers -- we recommend using `max_new_tokens` to control the maximum length of the generation.\n",
      "  warnings.warn(\n"
     ]
    },
    {
     "output_type": "stream",
     "name": "stdout",
     "text": [
      "prediction:  This is a reference to the song “Love” by Drake.\n"
     ]
    }
   ],
   "source": [
    "print('prediction: ', explain(TASK_PREFIX + 'What is love?'))"
   ],
   "metadata": {
    "id": "eolthH9QBvJL",
    "colab": {
     "base_uri": "https://localhost:8080/"
    },
    "outputId": "963314a2-a7ab-4439-bfde-7b971bb1bd7b"
   }
  },
  {
   "cell_type": "markdown",
   "source": [
    "### BLEU score"
   ],
   "metadata": {
    "id": "7FLQWJGsNcXn"
   }
  },
  {
   "cell_type": "code",
   "execution_count": null,
   "outputs": [],
   "source": [
    "reference = ['the', 'cat', 'is', 'on', 'the', 'mat']\n",
    "candidate = ['the', 'cat', 'is', 'sitting', 'on', 'the', 'mat']\n",
    "\n",
    "# Set weights for 3-gram\n",
    "weights = (0.33, 0.33, 0.33)\n",
    "\n",
    "# Compute BLEU score with 3-gram\n",
    "score = sentence_bleu([reference], candidate, weights=weights)\n",
    "\n",
    "print(score)"
   ],
   "metadata": {
    "id": "uKOqbYX0BvJL"
   }
  }
 ],
 "metadata": {
  "kernelspec": {
   "display_name": "Python 3",
   "language": "python",
   "name": "python3"
  },
  "language_info": {
   "codemirror_mode": {
    "name": "ipython",
    "version": 2
   },
   "file_extension": ".py",
   "mimetype": "text/x-python",
   "name": "python",
   "nbconvert_exporter": "python",
   "pygments_lexer": "ipython2",
   "version": "2.7.6"
  },
  "colab": {
   "provenance": []
  },
  "widgets": {
   "application/vnd.jupyter.widget-state+json": {
    "80339d8ebd234aedb23d067693ae168d": {
     "model_module": "@jupyter-widgets/controls",
     "model_name": "VBoxModel",
     "model_module_version": "1.5.0",
     "state": {
      "_dom_classes": [],
      "_model_module": "@jupyter-widgets/controls",
      "_model_module_version": "1.5.0",
      "_model_name": "VBoxModel",
      "_view_count": null,
      "_view_module": "@jupyter-widgets/controls",
      "_view_module_version": "1.5.0",
      "_view_name": "VBoxView",
      "box_style": "",
      "children": [
       "IPY_MODEL_0f1792b8dfda4a0bbea4a3a45bbba8cd",
       "IPY_MODEL_665621d1b901478386cd177da670a1ac",
       "IPY_MODEL_89f6b9b4d208440299b154b0c991a325",
       "IPY_MODEL_0d62d78e6dfe40a0a9363ccb305210a0",
       "IPY_MODEL_35fd9ab37df94b4a89c4290106fd7344"
      ],
      "layout": "IPY_MODEL_d1215030f58e423c9d1580f5983c8383"
     }
    },
    "0f1792b8dfda4a0bbea4a3a45bbba8cd": {
     "model_module": "@jupyter-widgets/controls",
     "model_name": "HTMLModel",
     "model_module_version": "1.5.0",
     "state": {
      "_dom_classes": [],
      "_model_module": "@jupyter-widgets/controls",
      "_model_module_version": "1.5.0",
      "_model_name": "HTMLModel",
      "_view_count": null,
      "_view_module": "@jupyter-widgets/controls",
      "_view_module_version": "1.5.0",
      "_view_name": "HTMLView",
      "description": "",
      "description_tooltip": null,
      "layout": "IPY_MODEL_d2f0e3629d72488db6d703bef845819f",
      "placeholder": "​",
      "style": "IPY_MODEL_03dd74d8af234d9f9cb3ee0b01fdca81",
      "value": "<center> <img\nsrc=https://huggingface.co/front/assets/huggingface_logo-noborder.svg\nalt='Hugging Face'> <br> Copy a token from <a\nhref=\"https://huggingface.co/settings/tokens\" target=\"_blank\">your Hugging Face\ntokens page</a> and paste it below. <br> Immediately click login after copying\nyour token or it might be stored in plain text in this notebook file. </center>"
     }
    },
    "665621d1b901478386cd177da670a1ac": {
     "model_module": "@jupyter-widgets/controls",
     "model_name": "PasswordModel",
     "model_module_version": "1.5.0",
     "state": {
      "_dom_classes": [],
      "_model_module": "@jupyter-widgets/controls",
      "_model_module_version": "1.5.0",
      "_model_name": "PasswordModel",
      "_view_count": null,
      "_view_module": "@jupyter-widgets/controls",
      "_view_module_version": "1.5.0",
      "_view_name": "PasswordView",
      "continuous_update": true,
      "description": "Token:",
      "description_tooltip": null,
      "disabled": false,
      "layout": "IPY_MODEL_c4bbe802189840e792240c4f8682c1e7",
      "placeholder": "​",
      "style": "IPY_MODEL_745de669f75645c688c333c440a172d5",
      "value": ""
     }
    },
    "89f6b9b4d208440299b154b0c991a325": {
     "model_module": "@jupyter-widgets/controls",
     "model_name": "CheckboxModel",
     "model_module_version": "1.5.0",
     "state": {
      "_dom_classes": [],
      "_model_module": "@jupyter-widgets/controls",
      "_model_module_version": "1.5.0",
      "_model_name": "CheckboxModel",
      "_view_count": null,
      "_view_module": "@jupyter-widgets/controls",
      "_view_module_version": "1.5.0",
      "_view_name": "CheckboxView",
      "description": "Add token as git credential?",
      "description_tooltip": null,
      "disabled": false,
      "indent": true,
      "layout": "IPY_MODEL_4b909518ef2942b8b4f1d4d976ea87c3",
      "style": "IPY_MODEL_6e0b5b4cde2247af8b0f21ce2c0f3b47",
      "value": true
     }
    },
    "0d62d78e6dfe40a0a9363ccb305210a0": {
     "model_module": "@jupyter-widgets/controls",
     "model_name": "ButtonModel",
     "model_module_version": "1.5.0",
     "state": {
      "_dom_classes": [],
      "_model_module": "@jupyter-widgets/controls",
      "_model_module_version": "1.5.0",
      "_model_name": "ButtonModel",
      "_view_count": null,
      "_view_module": "@jupyter-widgets/controls",
      "_view_module_version": "1.5.0",
      "_view_name": "ButtonView",
      "button_style": "",
      "description": "Login",
      "disabled": false,
      "icon": "",
      "layout": "IPY_MODEL_974fdb87b326472b95807d9c6d215afc",
      "style": "IPY_MODEL_f335faf312284441a956c58fc8b4ac15",
      "tooltip": ""
     }
    },
    "35fd9ab37df94b4a89c4290106fd7344": {
     "model_module": "@jupyter-widgets/controls",
     "model_name": "HTMLModel",
     "model_module_version": "1.5.0",
     "state": {
      "_dom_classes": [],
      "_model_module": "@jupyter-widgets/controls",
      "_model_module_version": "1.5.0",
      "_model_name": "HTMLModel",
      "_view_count": null,
      "_view_module": "@jupyter-widgets/controls",
      "_view_module_version": "1.5.0",
      "_view_name": "HTMLView",
      "description": "",
      "description_tooltip": null,
      "layout": "IPY_MODEL_1f0c16568607460bab4588eea2d72228",
      "placeholder": "​",
      "style": "IPY_MODEL_309e3b64ef4a4c50bcfd6c93c2b59b6f",
      "value": "\n<b>Pro Tip:</b> If you don't already have one, you can create a dedicated\n'notebooks' token with 'write' access, that you can then easily reuse for all\nnotebooks. </center>"
     }
    },
    "d1215030f58e423c9d1580f5983c8383": {
     "model_module": "@jupyter-widgets/base",
     "model_name": "LayoutModel",
     "model_module_version": "1.2.0",
     "state": {
      "_model_module": "@jupyter-widgets/base",
      "_model_module_version": "1.2.0",
      "_model_name": "LayoutModel",
      "_view_count": null,
      "_view_module": "@jupyter-widgets/base",
      "_view_module_version": "1.2.0",
      "_view_name": "LayoutView",
      "align_content": null,
      "align_items": "center",
      "align_self": null,
      "border": null,
      "bottom": null,
      "display": "flex",
      "flex": null,
      "flex_flow": "column",
      "grid_area": null,
      "grid_auto_columns": null,
      "grid_auto_flow": null,
      "grid_auto_rows": null,
      "grid_column": null,
      "grid_gap": null,
      "grid_row": null,
      "grid_template_areas": null,
      "grid_template_columns": null,
      "grid_template_rows": null,
      "height": null,
      "justify_content": null,
      "justify_items": null,
      "left": null,
      "margin": null,
      "max_height": null,
      "max_width": null,
      "min_height": null,
      "min_width": null,
      "object_fit": null,
      "object_position": null,
      "order": null,
      "overflow": null,
      "overflow_x": null,
      "overflow_y": null,
      "padding": null,
      "right": null,
      "top": null,
      "visibility": null,
      "width": "50%"
     }
    },
    "d2f0e3629d72488db6d703bef845819f": {
     "model_module": "@jupyter-widgets/base",
     "model_name": "LayoutModel",
     "model_module_version": "1.2.0",
     "state": {
      "_model_module": "@jupyter-widgets/base",
      "_model_module_version": "1.2.0",
      "_model_name": "LayoutModel",
      "_view_count": null,
      "_view_module": "@jupyter-widgets/base",
      "_view_module_version": "1.2.0",
      "_view_name": "LayoutView",
      "align_content": null,
      "align_items": null,
      "align_self": null,
      "border": null,
      "bottom": null,
      "display": null,
      "flex": null,
      "flex_flow": null,
      "grid_area": null,
      "grid_auto_columns": null,
      "grid_auto_flow": null,
      "grid_auto_rows": null,
      "grid_column": null,
      "grid_gap": null,
      "grid_row": null,
      "grid_template_areas": null,
      "grid_template_columns": null,
      "grid_template_rows": null,
      "height": null,
      "justify_content": null,
      "justify_items": null,
      "left": null,
      "margin": null,
      "max_height": null,
      "max_width": null,
      "min_height": null,
      "min_width": null,
      "object_fit": null,
      "object_position": null,
      "order": null,
      "overflow": null,
      "overflow_x": null,
      "overflow_y": null,
      "padding": null,
      "right": null,
      "top": null,
      "visibility": null,
      "width": null
     }
    },
    "03dd74d8af234d9f9cb3ee0b01fdca81": {
     "model_module": "@jupyter-widgets/controls",
     "model_name": "DescriptionStyleModel",
     "model_module_version": "1.5.0",
     "state": {
      "_model_module": "@jupyter-widgets/controls",
      "_model_module_version": "1.5.0",
      "_model_name": "DescriptionStyleModel",
      "_view_count": null,
      "_view_module": "@jupyter-widgets/base",
      "_view_module_version": "1.2.0",
      "_view_name": "StyleView",
      "description_width": ""
     }
    },
    "c4bbe802189840e792240c4f8682c1e7": {
     "model_module": "@jupyter-widgets/base",
     "model_name": "LayoutModel",
     "model_module_version": "1.2.0",
     "state": {
      "_model_module": "@jupyter-widgets/base",
      "_model_module_version": "1.2.0",
      "_model_name": "LayoutModel",
      "_view_count": null,
      "_view_module": "@jupyter-widgets/base",
      "_view_module_version": "1.2.0",
      "_view_name": "LayoutView",
      "align_content": null,
      "align_items": null,
      "align_self": null,
      "border": null,
      "bottom": null,
      "display": null,
      "flex": null,
      "flex_flow": null,
      "grid_area": null,
      "grid_auto_columns": null,
      "grid_auto_flow": null,
      "grid_auto_rows": null,
      "grid_column": null,
      "grid_gap": null,
      "grid_row": null,
      "grid_template_areas": null,
      "grid_template_columns": null,
      "grid_template_rows": null,
      "height": null,
      "justify_content": null,
      "justify_items": null,
      "left": null,
      "margin": null,
      "max_height": null,
      "max_width": null,
      "min_height": null,
      "min_width": null,
      "object_fit": null,
      "object_position": null,
      "order": null,
      "overflow": null,
      "overflow_x": null,
      "overflow_y": null,
      "padding": null,
      "right": null,
      "top": null,
      "visibility": null,
      "width": null
     }
    },
    "745de669f75645c688c333c440a172d5": {
     "model_module": "@jupyter-widgets/controls",
     "model_name": "DescriptionStyleModel",
     "model_module_version": "1.5.0",
     "state": {
      "_model_module": "@jupyter-widgets/controls",
      "_model_module_version": "1.5.0",
      "_model_name": "DescriptionStyleModel",
      "_view_count": null,
      "_view_module": "@jupyter-widgets/base",
      "_view_module_version": "1.2.0",
      "_view_name": "StyleView",
      "description_width": ""
     }
    },
    "4b909518ef2942b8b4f1d4d976ea87c3": {
     "model_module": "@jupyter-widgets/base",
     "model_name": "LayoutModel",
     "model_module_version": "1.2.0",
     "state": {
      "_model_module": "@jupyter-widgets/base",
      "_model_module_version": "1.2.0",
      "_model_name": "LayoutModel",
      "_view_count": null,
      "_view_module": "@jupyter-widgets/base",
      "_view_module_version": "1.2.0",
      "_view_name": "LayoutView",
      "align_content": null,
      "align_items": null,
      "align_self": null,
      "border": null,
      "bottom": null,
      "display": null,
      "flex": null,
      "flex_flow": null,
      "grid_area": null,
      "grid_auto_columns": null,
      "grid_auto_flow": null,
      "grid_auto_rows": null,
      "grid_column": null,
      "grid_gap": null,
      "grid_row": null,
      "grid_template_areas": null,
      "grid_template_columns": null,
      "grid_template_rows": null,
      "height": null,
      "justify_content": null,
      "justify_items": null,
      "left": null,
      "margin": null,
      "max_height": null,
      "max_width": null,
      "min_height": null,
      "min_width": null,
      "object_fit": null,
      "object_position": null,
      "order": null,
      "overflow": null,
      "overflow_x": null,
      "overflow_y": null,
      "padding": null,
      "right": null,
      "top": null,
      "visibility": null,
      "width": null
     }
    },
    "6e0b5b4cde2247af8b0f21ce2c0f3b47": {
     "model_module": "@jupyter-widgets/controls",
     "model_name": "DescriptionStyleModel",
     "model_module_version": "1.5.0",
     "state": {
      "_model_module": "@jupyter-widgets/controls",
      "_model_module_version": "1.5.0",
      "_model_name": "DescriptionStyleModel",
      "_view_count": null,
      "_view_module": "@jupyter-widgets/base",
      "_view_module_version": "1.2.0",
      "_view_name": "StyleView",
      "description_width": ""
     }
    },
    "974fdb87b326472b95807d9c6d215afc": {
     "model_module": "@jupyter-widgets/base",
     "model_name": "LayoutModel",
     "model_module_version": "1.2.0",
     "state": {
      "_model_module": "@jupyter-widgets/base",
      "_model_module_version": "1.2.0",
      "_model_name": "LayoutModel",
      "_view_count": null,
      "_view_module": "@jupyter-widgets/base",
      "_view_module_version": "1.2.0",
      "_view_name": "LayoutView",
      "align_content": null,
      "align_items": null,
      "align_self": null,
      "border": null,
      "bottom": null,
      "display": null,
      "flex": null,
      "flex_flow": null,
      "grid_area": null,
      "grid_auto_columns": null,
      "grid_auto_flow": null,
      "grid_auto_rows": null,
      "grid_column": null,
      "grid_gap": null,
      "grid_row": null,
      "grid_template_areas": null,
      "grid_template_columns": null,
      "grid_template_rows": null,
      "height": null,
      "justify_content": null,
      "justify_items": null,
      "left": null,
      "margin": null,
      "max_height": null,
      "max_width": null,
      "min_height": null,
      "min_width": null,
      "object_fit": null,
      "object_position": null,
      "order": null,
      "overflow": null,
      "overflow_x": null,
      "overflow_y": null,
      "padding": null,
      "right": null,
      "top": null,
      "visibility": null,
      "width": null
     }
    },
    "f335faf312284441a956c58fc8b4ac15": {
     "model_module": "@jupyter-widgets/controls",
     "model_name": "ButtonStyleModel",
     "model_module_version": "1.5.0",
     "state": {
      "_model_module": "@jupyter-widgets/controls",
      "_model_module_version": "1.5.0",
      "_model_name": "ButtonStyleModel",
      "_view_count": null,
      "_view_module": "@jupyter-widgets/base",
      "_view_module_version": "1.2.0",
      "_view_name": "StyleView",
      "button_color": null,
      "font_weight": ""
     }
    },
    "1f0c16568607460bab4588eea2d72228": {
     "model_module": "@jupyter-widgets/base",
     "model_name": "LayoutModel",
     "model_module_version": "1.2.0",
     "state": {
      "_model_module": "@jupyter-widgets/base",
      "_model_module_version": "1.2.0",
      "_model_name": "LayoutModel",
      "_view_count": null,
      "_view_module": "@jupyter-widgets/base",
      "_view_module_version": "1.2.0",
      "_view_name": "LayoutView",
      "align_content": null,
      "align_items": null,
      "align_self": null,
      "border": null,
      "bottom": null,
      "display": null,
      "flex": null,
      "flex_flow": null,
      "grid_area": null,
      "grid_auto_columns": null,
      "grid_auto_flow": null,
      "grid_auto_rows": null,
      "grid_column": null,
      "grid_gap": null,
      "grid_row": null,
      "grid_template_areas": null,
      "grid_template_columns": null,
      "grid_template_rows": null,
      "height": null,
      "justify_content": null,
      "justify_items": null,
      "left": null,
      "margin": null,
      "max_height": null,
      "max_width": null,
      "min_height": null,
      "min_width": null,
      "object_fit": null,
      "object_position": null,
      "order": null,
      "overflow": null,
      "overflow_x": null,
      "overflow_y": null,
      "padding": null,
      "right": null,
      "top": null,
      "visibility": null,
      "width": null
     }
    },
    "309e3b64ef4a4c50bcfd6c93c2b59b6f": {
     "model_module": "@jupyter-widgets/controls",
     "model_name": "DescriptionStyleModel",
     "model_module_version": "1.5.0",
     "state": {
      "_model_module": "@jupyter-widgets/controls",
      "_model_module_version": "1.5.0",
      "_model_name": "DescriptionStyleModel",
      "_view_count": null,
      "_view_module": "@jupyter-widgets/base",
      "_view_module_version": "1.2.0",
      "_view_name": "StyleView",
      "description_width": ""
     }
    },
    "d48195b2c051406196ced952f313cab3": {
     "model_module": "@jupyter-widgets/controls",
     "model_name": "HBoxModel",
     "model_module_version": "1.5.0",
     "state": {
      "_dom_classes": [],
      "_model_module": "@jupyter-widgets/controls",
      "_model_module_version": "1.5.0",
      "_model_name": "HBoxModel",
      "_view_count": null,
      "_view_module": "@jupyter-widgets/controls",
      "_view_module_version": "1.5.0",
      "_view_name": "HBoxView",
      "box_style": "",
      "children": [
       "IPY_MODEL_ce4087fabc974d0ea20a1dfdd1694007",
       "IPY_MODEL_2b409ae5e27a41d9bfd5d2818e50ece3",
       "IPY_MODEL_7d6b815713b74b96be310f61ac50e99f"
      ],
      "layout": "IPY_MODEL_c28305a1387a498f8b785a0968152e95"
     }
    },
    "ce4087fabc974d0ea20a1dfdd1694007": {
     "model_module": "@jupyter-widgets/controls",
     "model_name": "HTMLModel",
     "model_module_version": "1.5.0",
     "state": {
      "_dom_classes": [],
      "_model_module": "@jupyter-widgets/controls",
      "_model_module_version": "1.5.0",
      "_model_name": "HTMLModel",
      "_view_count": null,
      "_view_module": "@jupyter-widgets/controls",
      "_view_module_version": "1.5.0",
      "_view_name": "HTMLView",
      "description": "",
      "description_tooltip": null,
      "layout": "IPY_MODEL_b106761d50e24b3e9cf06517507e544a",
      "placeholder": "​",
      "style": "IPY_MODEL_163578be99cc4478a39f0c5276f161cf",
      "value": "100%"
     }
    },
    "2b409ae5e27a41d9bfd5d2818e50ece3": {
     "model_module": "@jupyter-widgets/controls",
     "model_name": "FloatProgressModel",
     "model_module_version": "1.5.0",
     "state": {
      "_dom_classes": [],
      "_model_module": "@jupyter-widgets/controls",
      "_model_module_version": "1.5.0",
      "_model_name": "FloatProgressModel",
      "_view_count": null,
      "_view_module": "@jupyter-widgets/controls",
      "_view_module_version": "1.5.0",
      "_view_name": "ProgressView",
      "bar_style": "success",
      "description": "",
      "description_tooltip": null,
      "layout": "IPY_MODEL_026bd90727e84c35bad015655412e118",
      "max": 1506,
      "min": 0,
      "orientation": "horizontal",
      "style": "IPY_MODEL_1c4daad37287473896afb30f952ff40d",
      "value": 1506
     }
    },
    "7d6b815713b74b96be310f61ac50e99f": {
     "model_module": "@jupyter-widgets/controls",
     "model_name": "HTMLModel",
     "model_module_version": "1.5.0",
     "state": {
      "_dom_classes": [],
      "_model_module": "@jupyter-widgets/controls",
      "_model_module_version": "1.5.0",
      "_model_name": "HTMLModel",
      "_view_count": null,
      "_view_module": "@jupyter-widgets/controls",
      "_view_module_version": "1.5.0",
      "_view_name": "HTMLView",
      "description": "",
      "description_tooltip": null,
      "layout": "IPY_MODEL_35ab532edb9949c89fa4cfe0319288c8",
      "placeholder": "​",
      "style": "IPY_MODEL_9efbbf3a1f074c80ab391546e43459c7",
      "value": " 1506/1506 [12:56&lt;00:00,  1.72it/s]"
     }
    },
    "c28305a1387a498f8b785a0968152e95": {
     "model_module": "@jupyter-widgets/base",
     "model_name": "LayoutModel",
     "model_module_version": "1.2.0",
     "state": {
      "_model_module": "@jupyter-widgets/base",
      "_model_module_version": "1.2.0",
      "_model_name": "LayoutModel",
      "_view_count": null,
      "_view_module": "@jupyter-widgets/base",
      "_view_module_version": "1.2.0",
      "_view_name": "LayoutView",
      "align_content": null,
      "align_items": null,
      "align_self": null,
      "border": null,
      "bottom": null,
      "display": null,
      "flex": null,
      "flex_flow": null,
      "grid_area": null,
      "grid_auto_columns": null,
      "grid_auto_flow": null,
      "grid_auto_rows": null,
      "grid_column": null,
      "grid_gap": null,
      "grid_row": null,
      "grid_template_areas": null,
      "grid_template_columns": null,
      "grid_template_rows": null,
      "height": null,
      "justify_content": null,
      "justify_items": null,
      "left": null,
      "margin": null,
      "max_height": null,
      "max_width": null,
      "min_height": null,
      "min_width": null,
      "object_fit": null,
      "object_position": null,
      "order": null,
      "overflow": null,
      "overflow_x": null,
      "overflow_y": null,
      "padding": null,
      "right": null,
      "top": null,
      "visibility": null,
      "width": null
     }
    },
    "b106761d50e24b3e9cf06517507e544a": {
     "model_module": "@jupyter-widgets/base",
     "model_name": "LayoutModel",
     "model_module_version": "1.2.0",
     "state": {
      "_model_module": "@jupyter-widgets/base",
      "_model_module_version": "1.2.0",
      "_model_name": "LayoutModel",
      "_view_count": null,
      "_view_module": "@jupyter-widgets/base",
      "_view_module_version": "1.2.0",
      "_view_name": "LayoutView",
      "align_content": null,
      "align_items": null,
      "align_self": null,
      "border": null,
      "bottom": null,
      "display": null,
      "flex": null,
      "flex_flow": null,
      "grid_area": null,
      "grid_auto_columns": null,
      "grid_auto_flow": null,
      "grid_auto_rows": null,
      "grid_column": null,
      "grid_gap": null,
      "grid_row": null,
      "grid_template_areas": null,
      "grid_template_columns": null,
      "grid_template_rows": null,
      "height": null,
      "justify_content": null,
      "justify_items": null,
      "left": null,
      "margin": null,
      "max_height": null,
      "max_width": null,
      "min_height": null,
      "min_width": null,
      "object_fit": null,
      "object_position": null,
      "order": null,
      "overflow": null,
      "overflow_x": null,
      "overflow_y": null,
      "padding": null,
      "right": null,
      "top": null,
      "visibility": null,
      "width": null
     }
    },
    "163578be99cc4478a39f0c5276f161cf": {
     "model_module": "@jupyter-widgets/controls",
     "model_name": "DescriptionStyleModel",
     "model_module_version": "1.5.0",
     "state": {
      "_model_module": "@jupyter-widgets/controls",
      "_model_module_version": "1.5.0",
      "_model_name": "DescriptionStyleModel",
      "_view_count": null,
      "_view_module": "@jupyter-widgets/base",
      "_view_module_version": "1.2.0",
      "_view_name": "StyleView",
      "description_width": ""
     }
    },
    "026bd90727e84c35bad015655412e118": {
     "model_module": "@jupyter-widgets/base",
     "model_name": "LayoutModel",
     "model_module_version": "1.2.0",
     "state": {
      "_model_module": "@jupyter-widgets/base",
      "_model_module_version": "1.2.0",
      "_model_name": "LayoutModel",
      "_view_count": null,
      "_view_module": "@jupyter-widgets/base",
      "_view_module_version": "1.2.0",
      "_view_name": "LayoutView",
      "align_content": null,
      "align_items": null,
      "align_self": null,
      "border": null,
      "bottom": null,
      "display": null,
      "flex": null,
      "flex_flow": null,
      "grid_area": null,
      "grid_auto_columns": null,
      "grid_auto_flow": null,
      "grid_auto_rows": null,
      "grid_column": null,
      "grid_gap": null,
      "grid_row": null,
      "grid_template_areas": null,
      "grid_template_columns": null,
      "grid_template_rows": null,
      "height": null,
      "justify_content": null,
      "justify_items": null,
      "left": null,
      "margin": null,
      "max_height": null,
      "max_width": null,
      "min_height": null,
      "min_width": null,
      "object_fit": null,
      "object_position": null,
      "order": null,
      "overflow": null,
      "overflow_x": null,
      "overflow_y": null,
      "padding": null,
      "right": null,
      "top": null,
      "visibility": null,
      "width": null
     }
    },
    "1c4daad37287473896afb30f952ff40d": {
     "model_module": "@jupyter-widgets/controls",
     "model_name": "ProgressStyleModel",
     "model_module_version": "1.5.0",
     "state": {
      "_model_module": "@jupyter-widgets/controls",
      "_model_module_version": "1.5.0",
      "_model_name": "ProgressStyleModel",
      "_view_count": null,
      "_view_module": "@jupyter-widgets/base",
      "_view_module_version": "1.2.0",
      "_view_name": "StyleView",
      "bar_color": null,
      "description_width": ""
     }
    },
    "35ab532edb9949c89fa4cfe0319288c8": {
     "model_module": "@jupyter-widgets/base",
     "model_name": "LayoutModel",
     "model_module_version": "1.2.0",
     "state": {
      "_model_module": "@jupyter-widgets/base",
      "_model_module_version": "1.2.0",
      "_model_name": "LayoutModel",
      "_view_count": null,
      "_view_module": "@jupyter-widgets/base",
      "_view_module_version": "1.2.0",
      "_view_name": "LayoutView",
      "align_content": null,
      "align_items": null,
      "align_self": null,
      "border": null,
      "bottom": null,
      "display": null,
      "flex": null,
      "flex_flow": null,
      "grid_area": null,
      "grid_auto_columns": null,
      "grid_auto_flow": null,
      "grid_auto_rows": null,
      "grid_column": null,
      "grid_gap": null,
      "grid_row": null,
      "grid_template_areas": null,
      "grid_template_columns": null,
      "grid_template_rows": null,
      "height": null,
      "justify_content": null,
      "justify_items": null,
      "left": null,
      "margin": null,
      "max_height": null,
      "max_width": null,
      "min_height": null,
      "min_width": null,
      "object_fit": null,
      "object_position": null,
      "order": null,
      "overflow": null,
      "overflow_x": null,
      "overflow_y": null,
      "padding": null,
      "right": null,
      "top": null,
      "visibility": null,
      "width": null
     }
    },
    "9efbbf3a1f074c80ab391546e43459c7": {
     "model_module": "@jupyter-widgets/controls",
     "model_name": "DescriptionStyleModel",
     "model_module_version": "1.5.0",
     "state": {
      "_model_module": "@jupyter-widgets/controls",
      "_model_module_version": "1.5.0",
      "_model_name": "DescriptionStyleModel",
      "_view_count": null,
      "_view_module": "@jupyter-widgets/base",
      "_view_module_version": "1.2.0",
      "_view_name": "StyleView",
      "description_width": ""
     }
    },
    "a5fdc55aaf6e41d2bdd745af43c2689b": {
     "model_module": "@jupyter-widgets/controls",
     "model_name": "HBoxModel",
     "model_module_version": "1.5.0",
     "state": {
      "_dom_classes": [],
      "_model_module": "@jupyter-widgets/controls",
      "_model_module_version": "1.5.0",
      "_model_name": "HBoxModel",
      "_view_count": null,
      "_view_module": "@jupyter-widgets/controls",
      "_view_module_version": "1.5.0",
      "_view_name": "HBoxView",
      "box_style": "",
      "children": [
       "IPY_MODEL_90117711c588450b89d278f752a4847e",
       "IPY_MODEL_898484195369464d98dd738406adc417",
       "IPY_MODEL_946c1c54a16c4972aa41f1be96cf38aa"
      ],
      "layout": "IPY_MODEL_bd2251f936094c4b9eaa773c79ab774f"
     }
    },
    "90117711c588450b89d278f752a4847e": {
     "model_module": "@jupyter-widgets/controls",
     "model_name": "HTMLModel",
     "model_module_version": "1.5.0",
     "state": {
      "_dom_classes": [],
      "_model_module": "@jupyter-widgets/controls",
      "_model_module_version": "1.5.0",
      "_model_name": "HTMLModel",
      "_view_count": null,
      "_view_module": "@jupyter-widgets/controls",
      "_view_module_version": "1.5.0",
      "_view_name": "HTMLView",
      "description": "",
      "description_tooltip": null,
      "layout": "IPY_MODEL_13068bcd5b00421cabdd1cbfa0542580",
      "placeholder": "​",
      "style": "IPY_MODEL_fb7d66d70ee1433dacc89948221dfe31",
      "value": "100%"
     }
    },
    "898484195369464d98dd738406adc417": {
     "model_module": "@jupyter-widgets/controls",
     "model_name": "FloatProgressModel",
     "model_module_version": "1.5.0",
     "state": {
      "_dom_classes": [],
      "_model_module": "@jupyter-widgets/controls",
      "_model_module_version": "1.5.0",
      "_model_name": "FloatProgressModel",
      "_view_count": null,
      "_view_module": "@jupyter-widgets/controls",
      "_view_module_version": "1.5.0",
      "_view_name": "ProgressView",
      "bar_style": "success",
      "description": "",
      "description_tooltip": null,
      "layout": "IPY_MODEL_14401d1098fd48a998981b09ee0746ff",
      "max": 317,
      "min": 0,
      "orientation": "horizontal",
      "style": "IPY_MODEL_f452d8e59d404c81b93736961c3322bc",
      "value": 317
     }
    },
    "946c1c54a16c4972aa41f1be96cf38aa": {
     "model_module": "@jupyter-widgets/controls",
     "model_name": "HTMLModel",
     "model_module_version": "1.5.0",
     "state": {
      "_dom_classes": [],
      "_model_module": "@jupyter-widgets/controls",
      "_model_module_version": "1.5.0",
      "_model_name": "HTMLModel",
      "_view_count": null,
      "_view_module": "@jupyter-widgets/controls",
      "_view_module_version": "1.5.0",
      "_view_name": "HTMLView",
      "description": "",
      "description_tooltip": null,
      "layout": "IPY_MODEL_66fde6ec168e4e028c49612feed0d303",
      "placeholder": "​",
      "style": "IPY_MODEL_eb4a1d643f7d4bdcb1b2dab5b8369a41",
      "value": " 317/317 [00:21&lt;00:00, 16.89it/s]"
     }
    },
    "bd2251f936094c4b9eaa773c79ab774f": {
     "model_module": "@jupyter-widgets/base",
     "model_name": "LayoutModel",
     "model_module_version": "1.2.0",
     "state": {
      "_model_module": "@jupyter-widgets/base",
      "_model_module_version": "1.2.0",
      "_model_name": "LayoutModel",
      "_view_count": null,
      "_view_module": "@jupyter-widgets/base",
      "_view_module_version": "1.2.0",
      "_view_name": "LayoutView",
      "align_content": null,
      "align_items": null,
      "align_self": null,
      "border": null,
      "bottom": null,
      "display": null,
      "flex": null,
      "flex_flow": null,
      "grid_area": null,
      "grid_auto_columns": null,
      "grid_auto_flow": null,
      "grid_auto_rows": null,
      "grid_column": null,
      "grid_gap": null,
      "grid_row": null,
      "grid_template_areas": null,
      "grid_template_columns": null,
      "grid_template_rows": null,
      "height": null,
      "justify_content": null,
      "justify_items": null,
      "left": null,
      "margin": null,
      "max_height": null,
      "max_width": null,
      "min_height": null,
      "min_width": null,
      "object_fit": null,
      "object_position": null,
      "order": null,
      "overflow": null,
      "overflow_x": null,
      "overflow_y": null,
      "padding": null,
      "right": null,
      "top": null,
      "visibility": null,
      "width": null
     }
    },
    "13068bcd5b00421cabdd1cbfa0542580": {
     "model_module": "@jupyter-widgets/base",
     "model_name": "LayoutModel",
     "model_module_version": "1.2.0",
     "state": {
      "_model_module": "@jupyter-widgets/base",
      "_model_module_version": "1.2.0",
      "_model_name": "LayoutModel",
      "_view_count": null,
      "_view_module": "@jupyter-widgets/base",
      "_view_module_version": "1.2.0",
      "_view_name": "LayoutView",
      "align_content": null,
      "align_items": null,
      "align_self": null,
      "border": null,
      "bottom": null,
      "display": null,
      "flex": null,
      "flex_flow": null,
      "grid_area": null,
      "grid_auto_columns": null,
      "grid_auto_flow": null,
      "grid_auto_rows": null,
      "grid_column": null,
      "grid_gap": null,
      "grid_row": null,
      "grid_template_areas": null,
      "grid_template_columns": null,
      "grid_template_rows": null,
      "height": null,
      "justify_content": null,
      "justify_items": null,
      "left": null,
      "margin": null,
      "max_height": null,
      "max_width": null,
      "min_height": null,
      "min_width": null,
      "object_fit": null,
      "object_position": null,
      "order": null,
      "overflow": null,
      "overflow_x": null,
      "overflow_y": null,
      "padding": null,
      "right": null,
      "top": null,
      "visibility": null,
      "width": null
     }
    },
    "fb7d66d70ee1433dacc89948221dfe31": {
     "model_module": "@jupyter-widgets/controls",
     "model_name": "DescriptionStyleModel",
     "model_module_version": "1.5.0",
     "state": {
      "_model_module": "@jupyter-widgets/controls",
      "_model_module_version": "1.5.0",
      "_model_name": "DescriptionStyleModel",
      "_view_count": null,
      "_view_module": "@jupyter-widgets/base",
      "_view_module_version": "1.2.0",
      "_view_name": "StyleView",
      "description_width": ""
     }
    },
    "14401d1098fd48a998981b09ee0746ff": {
     "model_module": "@jupyter-widgets/base",
     "model_name": "LayoutModel",
     "model_module_version": "1.2.0",
     "state": {
      "_model_module": "@jupyter-widgets/base",
      "_model_module_version": "1.2.0",
      "_model_name": "LayoutModel",
      "_view_count": null,
      "_view_module": "@jupyter-widgets/base",
      "_view_module_version": "1.2.0",
      "_view_name": "LayoutView",
      "align_content": null,
      "align_items": null,
      "align_self": null,
      "border": null,
      "bottom": null,
      "display": null,
      "flex": null,
      "flex_flow": null,
      "grid_area": null,
      "grid_auto_columns": null,
      "grid_auto_flow": null,
      "grid_auto_rows": null,
      "grid_column": null,
      "grid_gap": null,
      "grid_row": null,
      "grid_template_areas": null,
      "grid_template_columns": null,
      "grid_template_rows": null,
      "height": null,
      "justify_content": null,
      "justify_items": null,
      "left": null,
      "margin": null,
      "max_height": null,
      "max_width": null,
      "min_height": null,
      "min_width": null,
      "object_fit": null,
      "object_position": null,
      "order": null,
      "overflow": null,
      "overflow_x": null,
      "overflow_y": null,
      "padding": null,
      "right": null,
      "top": null,
      "visibility": null,
      "width": null
     }
    },
    "f452d8e59d404c81b93736961c3322bc": {
     "model_module": "@jupyter-widgets/controls",
     "model_name": "ProgressStyleModel",
     "model_module_version": "1.5.0",
     "state": {
      "_model_module": "@jupyter-widgets/controls",
      "_model_module_version": "1.5.0",
      "_model_name": "ProgressStyleModel",
      "_view_count": null,
      "_view_module": "@jupyter-widgets/base",
      "_view_module_version": "1.2.0",
      "_view_name": "StyleView",
      "bar_color": null,
      "description_width": ""
     }
    },
    "66fde6ec168e4e028c49612feed0d303": {
     "model_module": "@jupyter-widgets/base",
     "model_name": "LayoutModel",
     "model_module_version": "1.2.0",
     "state": {
      "_model_module": "@jupyter-widgets/base",
      "_model_module_version": "1.2.0",
      "_model_name": "LayoutModel",
      "_view_count": null,
      "_view_module": "@jupyter-widgets/base",
      "_view_module_version": "1.2.0",
      "_view_name": "LayoutView",
      "align_content": null,
      "align_items": null,
      "align_self": null,
      "border": null,
      "bottom": null,
      "display": null,
      "flex": null,
      "flex_flow": null,
      "grid_area": null,
      "grid_auto_columns": null,
      "grid_auto_flow": null,
      "grid_auto_rows": null,
      "grid_column": null,
      "grid_gap": null,
      "grid_row": null,
      "grid_template_areas": null,
      "grid_template_columns": null,
      "grid_template_rows": null,
      "height": null,
      "justify_content": null,
      "justify_items": null,
      "left": null,
      "margin": null,
      "max_height": null,
      "max_width": null,
      "min_height": null,
      "min_width": null,
      "object_fit": null,
      "object_position": null,
      "order": null,
      "overflow": null,
      "overflow_x": null,
      "overflow_y": null,
      "padding": null,
      "right": null,
      "top": null,
      "visibility": null,
      "width": null
     }
    },
    "eb4a1d643f7d4bdcb1b2dab5b8369a41": {
     "model_module": "@jupyter-widgets/controls",
     "model_name": "DescriptionStyleModel",
     "model_module_version": "1.5.0",
     "state": {
      "_model_module": "@jupyter-widgets/controls",
      "_model_module_version": "1.5.0",
      "_model_name": "DescriptionStyleModel",
      "_view_count": null,
      "_view_module": "@jupyter-widgets/base",
      "_view_module_version": "1.2.0",
      "_view_name": "StyleView",
      "description_width": ""
     }
    },
    "489d6b848ee54aca86df8e17ba5dcd9e": {
     "model_module": "@jupyter-widgets/controls",
     "model_name": "HBoxModel",
     "model_module_version": "1.5.0",
     "state": {
      "_dom_classes": [],
      "_model_module": "@jupyter-widgets/controls",
      "_model_module_version": "1.5.0",
      "_model_name": "HBoxModel",
      "_view_count": null,
      "_view_module": "@jupyter-widgets/controls",
      "_view_module_version": "1.5.0",
      "_view_name": "HBoxView",
      "box_style": "",
      "children": [
       "IPY_MODEL_3899b820931e42a79bc55846634f1371",
       "IPY_MODEL_a3cc5aed1f694068b0c953f54c94bbe2",
       "IPY_MODEL_62c144ac3e0149f1afb19d913475c7de"
      ],
      "layout": "IPY_MODEL_f5bd05872bf34da4b6883028629af107"
     }
    },
    "3899b820931e42a79bc55846634f1371": {
     "model_module": "@jupyter-widgets/controls",
     "model_name": "HTMLModel",
     "model_module_version": "1.5.0",
     "state": {
      "_dom_classes": [],
      "_model_module": "@jupyter-widgets/controls",
      "_model_module_version": "1.5.0",
      "_model_name": "HTMLModel",
      "_view_count": null,
      "_view_module": "@jupyter-widgets/controls",
      "_view_module_version": "1.5.0",
      "_view_name": "HTMLView",
      "description": "",
      "description_tooltip": null,
      "layout": "IPY_MODEL_84f26c076b4042578b3779be71e76217",
      "placeholder": "​",
      "style": "IPY_MODEL_e5a74d1d166143bebbccace32de1f170",
      "value": "100%"
     }
    },
    "a3cc5aed1f694068b0c953f54c94bbe2": {
     "model_module": "@jupyter-widgets/controls",
     "model_name": "FloatProgressModel",
     "model_module_version": "1.5.0",
     "state": {
      "_dom_classes": [],
      "_model_module": "@jupyter-widgets/controls",
      "_model_module_version": "1.5.0",
      "_model_name": "FloatProgressModel",
      "_view_count": null,
      "_view_module": "@jupyter-widgets/controls",
      "_view_module_version": "1.5.0",
      "_view_name": "ProgressView",
      "bar_style": "success",
      "description": "",
      "description_tooltip": null,
      "layout": "IPY_MODEL_eb728a8d474e46ee8f8d957112256088",
      "max": 1506,
      "min": 0,
      "orientation": "horizontal",
      "style": "IPY_MODEL_0cfdacd7824046d1a92d200b66fdb9a2",
      "value": 1506
     }
    },
    "62c144ac3e0149f1afb19d913475c7de": {
     "model_module": "@jupyter-widgets/controls",
     "model_name": "HTMLModel",
     "model_module_version": "1.5.0",
     "state": {
      "_dom_classes": [],
      "_model_module": "@jupyter-widgets/controls",
      "_model_module_version": "1.5.0",
      "_model_name": "HTMLModel",
      "_view_count": null,
      "_view_module": "@jupyter-widgets/controls",
      "_view_module_version": "1.5.0",
      "_view_name": "HTMLView",
      "description": "",
      "description_tooltip": null,
      "layout": "IPY_MODEL_0e6c1aa9b3ca4490b45fb1bc47908650",
      "placeholder": "​",
      "style": "IPY_MODEL_1cf0c5e338ff45a3828b05918f36237a",
      "value": " 1506/1506 [12:57&lt;00:00,  1.99it/s]"
     }
    },
    "f5bd05872bf34da4b6883028629af107": {
     "model_module": "@jupyter-widgets/base",
     "model_name": "LayoutModel",
     "model_module_version": "1.2.0",
     "state": {
      "_model_module": "@jupyter-widgets/base",
      "_model_module_version": "1.2.0",
      "_model_name": "LayoutModel",
      "_view_count": null,
      "_view_module": "@jupyter-widgets/base",
      "_view_module_version": "1.2.0",
      "_view_name": "LayoutView",
      "align_content": null,
      "align_items": null,
      "align_self": null,
      "border": null,
      "bottom": null,
      "display": null,
      "flex": null,
      "flex_flow": null,
      "grid_area": null,
      "grid_auto_columns": null,
      "grid_auto_flow": null,
      "grid_auto_rows": null,
      "grid_column": null,
      "grid_gap": null,
      "grid_row": null,
      "grid_template_areas": null,
      "grid_template_columns": null,
      "grid_template_rows": null,
      "height": null,
      "justify_content": null,
      "justify_items": null,
      "left": null,
      "margin": null,
      "max_height": null,
      "max_width": null,
      "min_height": null,
      "min_width": null,
      "object_fit": null,
      "object_position": null,
      "order": null,
      "overflow": null,
      "overflow_x": null,
      "overflow_y": null,
      "padding": null,
      "right": null,
      "top": null,
      "visibility": null,
      "width": null
     }
    },
    "84f26c076b4042578b3779be71e76217": {
     "model_module": "@jupyter-widgets/base",
     "model_name": "LayoutModel",
     "model_module_version": "1.2.0",
     "state": {
      "_model_module": "@jupyter-widgets/base",
      "_model_module_version": "1.2.0",
      "_model_name": "LayoutModel",
      "_view_count": null,
      "_view_module": "@jupyter-widgets/base",
      "_view_module_version": "1.2.0",
      "_view_name": "LayoutView",
      "align_content": null,
      "align_items": null,
      "align_self": null,
      "border": null,
      "bottom": null,
      "display": null,
      "flex": null,
      "flex_flow": null,
      "grid_area": null,
      "grid_auto_columns": null,
      "grid_auto_flow": null,
      "grid_auto_rows": null,
      "grid_column": null,
      "grid_gap": null,
      "grid_row": null,
      "grid_template_areas": null,
      "grid_template_columns": null,
      "grid_template_rows": null,
      "height": null,
      "justify_content": null,
      "justify_items": null,
      "left": null,
      "margin": null,
      "max_height": null,
      "max_width": null,
      "min_height": null,
      "min_width": null,
      "object_fit": null,
      "object_position": null,
      "order": null,
      "overflow": null,
      "overflow_x": null,
      "overflow_y": null,
      "padding": null,
      "right": null,
      "top": null,
      "visibility": null,
      "width": null
     }
    },
    "e5a74d1d166143bebbccace32de1f170": {
     "model_module": "@jupyter-widgets/controls",
     "model_name": "DescriptionStyleModel",
     "model_module_version": "1.5.0",
     "state": {
      "_model_module": "@jupyter-widgets/controls",
      "_model_module_version": "1.5.0",
      "_model_name": "DescriptionStyleModel",
      "_view_count": null,
      "_view_module": "@jupyter-widgets/base",
      "_view_module_version": "1.2.0",
      "_view_name": "StyleView",
      "description_width": ""
     }
    },
    "eb728a8d474e46ee8f8d957112256088": {
     "model_module": "@jupyter-widgets/base",
     "model_name": "LayoutModel",
     "model_module_version": "1.2.0",
     "state": {
      "_model_module": "@jupyter-widgets/base",
      "_model_module_version": "1.2.0",
      "_model_name": "LayoutModel",
      "_view_count": null,
      "_view_module": "@jupyter-widgets/base",
      "_view_module_version": "1.2.0",
      "_view_name": "LayoutView",
      "align_content": null,
      "align_items": null,
      "align_self": null,
      "border": null,
      "bottom": null,
      "display": null,
      "flex": null,
      "flex_flow": null,
      "grid_area": null,
      "grid_auto_columns": null,
      "grid_auto_flow": null,
      "grid_auto_rows": null,
      "grid_column": null,
      "grid_gap": null,
      "grid_row": null,
      "grid_template_areas": null,
      "grid_template_columns": null,
      "grid_template_rows": null,
      "height": null,
      "justify_content": null,
      "justify_items": null,
      "left": null,
      "margin": null,
      "max_height": null,
      "max_width": null,
      "min_height": null,
      "min_width": null,
      "object_fit": null,
      "object_position": null,
      "order": null,
      "overflow": null,
      "overflow_x": null,
      "overflow_y": null,
      "padding": null,
      "right": null,
      "top": null,
      "visibility": null,
      "width": null
     }
    },
    "0cfdacd7824046d1a92d200b66fdb9a2": {
     "model_module": "@jupyter-widgets/controls",
     "model_name": "ProgressStyleModel",
     "model_module_version": "1.5.0",
     "state": {
      "_model_module": "@jupyter-widgets/controls",
      "_model_module_version": "1.5.0",
      "_model_name": "ProgressStyleModel",
      "_view_count": null,
      "_view_module": "@jupyter-widgets/base",
      "_view_module_version": "1.2.0",
      "_view_name": "StyleView",
      "bar_color": null,
      "description_width": ""
     }
    },
    "0e6c1aa9b3ca4490b45fb1bc47908650": {
     "model_module": "@jupyter-widgets/base",
     "model_name": "LayoutModel",
     "model_module_version": "1.2.0",
     "state": {
      "_model_module": "@jupyter-widgets/base",
      "_model_module_version": "1.2.0",
      "_model_name": "LayoutModel",
      "_view_count": null,
      "_view_module": "@jupyter-widgets/base",
      "_view_module_version": "1.2.0",
      "_view_name": "LayoutView",
      "align_content": null,
      "align_items": null,
      "align_self": null,
      "border": null,
      "bottom": null,
      "display": null,
      "flex": null,
      "flex_flow": null,
      "grid_area": null,
      "grid_auto_columns": null,
      "grid_auto_flow": null,
      "grid_auto_rows": null,
      "grid_column": null,
      "grid_gap": null,
      "grid_row": null,
      "grid_template_areas": null,
      "grid_template_columns": null,
      "grid_template_rows": null,
      "height": null,
      "justify_content": null,
      "justify_items": null,
      "left": null,
      "margin": null,
      "max_height": null,
      "max_width": null,
      "min_height": null,
      "min_width": null,
      "object_fit": null,
      "object_position": null,
      "order": null,
      "overflow": null,
      "overflow_x": null,
      "overflow_y": null,
      "padding": null,
      "right": null,
      "top": null,
      "visibility": null,
      "width": null
     }
    },
    "1cf0c5e338ff45a3828b05918f36237a": {
     "model_module": "@jupyter-widgets/controls",
     "model_name": "DescriptionStyleModel",
     "model_module_version": "1.5.0",
     "state": {
      "_model_module": "@jupyter-widgets/controls",
      "_model_module_version": "1.5.0",
      "_model_name": "DescriptionStyleModel",
      "_view_count": null,
      "_view_module": "@jupyter-widgets/base",
      "_view_module_version": "1.2.0",
      "_view_name": "StyleView",
      "description_width": ""
     }
    },
    "084221be63ae4c9bb96400e32167b431": {
     "model_module": "@jupyter-widgets/controls",
     "model_name": "HBoxModel",
     "model_module_version": "1.5.0",
     "state": {
      "_dom_classes": [],
      "_model_module": "@jupyter-widgets/controls",
      "_model_module_version": "1.5.0",
      "_model_name": "HBoxModel",
      "_view_count": null,
      "_view_module": "@jupyter-widgets/controls",
      "_view_module_version": "1.5.0",
      "_view_name": "HBoxView",
      "box_style": "",
      "children": [
       "IPY_MODEL_dcdb5a8e8f21442489f0befc24843888",
       "IPY_MODEL_2e2f40c26e7a4b9aaf7a71bc51048617",
       "IPY_MODEL_f4decc90ff474401a662a03ad9da6ead"
      ],
      "layout": "IPY_MODEL_aca4b0b9be334e33a8602014a4e15c82"
     }
    },
    "dcdb5a8e8f21442489f0befc24843888": {
     "model_module": "@jupyter-widgets/controls",
     "model_name": "HTMLModel",
     "model_module_version": "1.5.0",
     "state": {
      "_dom_classes": [],
      "_model_module": "@jupyter-widgets/controls",
      "_model_module_version": "1.5.0",
      "_model_name": "HTMLModel",
      "_view_count": null,
      "_view_module": "@jupyter-widgets/controls",
      "_view_module_version": "1.5.0",
      "_view_name": "HTMLView",
      "description": "",
      "description_tooltip": null,
      "layout": "IPY_MODEL_bb9e414f580d4ed590baa1fb2094d460",
      "placeholder": "​",
      "style": "IPY_MODEL_51b22e68fc624eeca83c137e6aea25e6",
      "value": "100%"
     }
    },
    "2e2f40c26e7a4b9aaf7a71bc51048617": {
     "model_module": "@jupyter-widgets/controls",
     "model_name": "FloatProgressModel",
     "model_module_version": "1.5.0",
     "state": {
      "_dom_classes": [],
      "_model_module": "@jupyter-widgets/controls",
      "_model_module_version": "1.5.0",
      "_model_name": "FloatProgressModel",
      "_view_count": null,
      "_view_module": "@jupyter-widgets/controls",
      "_view_module_version": "1.5.0",
      "_view_name": "ProgressView",
      "bar_style": "success",
      "description": "",
      "description_tooltip": null,
      "layout": "IPY_MODEL_aa2e00aad90f435e97119ee37406e1a8",
      "max": 317,
      "min": 0,
      "orientation": "horizontal",
      "style": "IPY_MODEL_e78bc6d48892499d857bf8430b51d360",
      "value": 317
     }
    },
    "f4decc90ff474401a662a03ad9da6ead": {
     "model_module": "@jupyter-widgets/controls",
     "model_name": "HTMLModel",
     "model_module_version": "1.5.0",
     "state": {
      "_dom_classes": [],
      "_model_module": "@jupyter-widgets/controls",
      "_model_module_version": "1.5.0",
      "_model_name": "HTMLModel",
      "_view_count": null,
      "_view_module": "@jupyter-widgets/controls",
      "_view_module_version": "1.5.0",
      "_view_name": "HTMLView",
      "description": "",
      "description_tooltip": null,
      "layout": "IPY_MODEL_ac8290597e07454f8d1cf099ea95e225",
      "placeholder": "​",
      "style": "IPY_MODEL_8d68792e68f74f2a8161284f30de74f7",
      "value": " 317/317 [00:14&lt;00:00, 23.88it/s]"
     }
    },
    "aca4b0b9be334e33a8602014a4e15c82": {
     "model_module": "@jupyter-widgets/base",
     "model_name": "LayoutModel",
     "model_module_version": "1.2.0",
     "state": {
      "_model_module": "@jupyter-widgets/base",
      "_model_module_version": "1.2.0",
      "_model_name": "LayoutModel",
      "_view_count": null,
      "_view_module": "@jupyter-widgets/base",
      "_view_module_version": "1.2.0",
      "_view_name": "LayoutView",
      "align_content": null,
      "align_items": null,
      "align_self": null,
      "border": null,
      "bottom": null,
      "display": null,
      "flex": null,
      "flex_flow": null,
      "grid_area": null,
      "grid_auto_columns": null,
      "grid_auto_flow": null,
      "grid_auto_rows": null,
      "grid_column": null,
      "grid_gap": null,
      "grid_row": null,
      "grid_template_areas": null,
      "grid_template_columns": null,
      "grid_template_rows": null,
      "height": null,
      "justify_content": null,
      "justify_items": null,
      "left": null,
      "margin": null,
      "max_height": null,
      "max_width": null,
      "min_height": null,
      "min_width": null,
      "object_fit": null,
      "object_position": null,
      "order": null,
      "overflow": null,
      "overflow_x": null,
      "overflow_y": null,
      "padding": null,
      "right": null,
      "top": null,
      "visibility": null,
      "width": null
     }
    },
    "bb9e414f580d4ed590baa1fb2094d460": {
     "model_module": "@jupyter-widgets/base",
     "model_name": "LayoutModel",
     "model_module_version": "1.2.0",
     "state": {
      "_model_module": "@jupyter-widgets/base",
      "_model_module_version": "1.2.0",
      "_model_name": "LayoutModel",
      "_view_count": null,
      "_view_module": "@jupyter-widgets/base",
      "_view_module_version": "1.2.0",
      "_view_name": "LayoutView",
      "align_content": null,
      "align_items": null,
      "align_self": null,
      "border": null,
      "bottom": null,
      "display": null,
      "flex": null,
      "flex_flow": null,
      "grid_area": null,
      "grid_auto_columns": null,
      "grid_auto_flow": null,
      "grid_auto_rows": null,
      "grid_column": null,
      "grid_gap": null,
      "grid_row": null,
      "grid_template_areas": null,
      "grid_template_columns": null,
      "grid_template_rows": null,
      "height": null,
      "justify_content": null,
      "justify_items": null,
      "left": null,
      "margin": null,
      "max_height": null,
      "max_width": null,
      "min_height": null,
      "min_width": null,
      "object_fit": null,
      "object_position": null,
      "order": null,
      "overflow": null,
      "overflow_x": null,
      "overflow_y": null,
      "padding": null,
      "right": null,
      "top": null,
      "visibility": null,
      "width": null
     }
    },
    "51b22e68fc624eeca83c137e6aea25e6": {
     "model_module": "@jupyter-widgets/controls",
     "model_name": "DescriptionStyleModel",
     "model_module_version": "1.5.0",
     "state": {
      "_model_module": "@jupyter-widgets/controls",
      "_model_module_version": "1.5.0",
      "_model_name": "DescriptionStyleModel",
      "_view_count": null,
      "_view_module": "@jupyter-widgets/base",
      "_view_module_version": "1.2.0",
      "_view_name": "StyleView",
      "description_width": ""
     }
    },
    "aa2e00aad90f435e97119ee37406e1a8": {
     "model_module": "@jupyter-widgets/base",
     "model_name": "LayoutModel",
     "model_module_version": "1.2.0",
     "state": {
      "_model_module": "@jupyter-widgets/base",
      "_model_module_version": "1.2.0",
      "_model_name": "LayoutModel",
      "_view_count": null,
      "_view_module": "@jupyter-widgets/base",
      "_view_module_version": "1.2.0",
      "_view_name": "LayoutView",
      "align_content": null,
      "align_items": null,
      "align_self": null,
      "border": null,
      "bottom": null,
      "display": null,
      "flex": null,
      "flex_flow": null,
      "grid_area": null,
      "grid_auto_columns": null,
      "grid_auto_flow": null,
      "grid_auto_rows": null,
      "grid_column": null,
      "grid_gap": null,
      "grid_row": null,
      "grid_template_areas": null,
      "grid_template_columns": null,
      "grid_template_rows": null,
      "height": null,
      "justify_content": null,
      "justify_items": null,
      "left": null,
      "margin": null,
      "max_height": null,
      "max_width": null,
      "min_height": null,
      "min_width": null,
      "object_fit": null,
      "object_position": null,
      "order": null,
      "overflow": null,
      "overflow_x": null,
      "overflow_y": null,
      "padding": null,
      "right": null,
      "top": null,
      "visibility": null,
      "width": null
     }
    },
    "e78bc6d48892499d857bf8430b51d360": {
     "model_module": "@jupyter-widgets/controls",
     "model_name": "ProgressStyleModel",
     "model_module_version": "1.5.0",
     "state": {
      "_model_module": "@jupyter-widgets/controls",
      "_model_module_version": "1.5.0",
      "_model_name": "ProgressStyleModel",
      "_view_count": null,
      "_view_module": "@jupyter-widgets/base",
      "_view_module_version": "1.2.0",
      "_view_name": "StyleView",
      "bar_color": null,
      "description_width": ""
     }
    },
    "ac8290597e07454f8d1cf099ea95e225": {
     "model_module": "@jupyter-widgets/base",
     "model_name": "LayoutModel",
     "model_module_version": "1.2.0",
     "state": {
      "_model_module": "@jupyter-widgets/base",
      "_model_module_version": "1.2.0",
      "_model_name": "LayoutModel",
      "_view_count": null,
      "_view_module": "@jupyter-widgets/base",
      "_view_module_version": "1.2.0",
      "_view_name": "LayoutView",
      "align_content": null,
      "align_items": null,
      "align_self": null,
      "border": null,
      "bottom": null,
      "display": null,
      "flex": null,
      "flex_flow": null,
      "grid_area": null,
      "grid_auto_columns": null,
      "grid_auto_flow": null,
      "grid_auto_rows": null,
      "grid_column": null,
      "grid_gap": null,
      "grid_row": null,
      "grid_template_areas": null,
      "grid_template_columns": null,
      "grid_template_rows": null,
      "height": null,
      "justify_content": null,
      "justify_items": null,
      "left": null,
      "margin": null,
      "max_height": null,
      "max_width": null,
      "min_height": null,
      "min_width": null,
      "object_fit": null,
      "object_position": null,
      "order": null,
      "overflow": null,
      "overflow_x": null,
      "overflow_y": null,
      "padding": null,
      "right": null,
      "top": null,
      "visibility": null,
      "width": null
     }
    },
    "8d68792e68f74f2a8161284f30de74f7": {
     "model_module": "@jupyter-widgets/controls",
     "model_name": "DescriptionStyleModel",
     "model_module_version": "1.5.0",
     "state": {
      "_model_module": "@jupyter-widgets/controls",
      "_model_module_version": "1.5.0",
      "_model_name": "DescriptionStyleModel",
      "_view_count": null,
      "_view_module": "@jupyter-widgets/base",
      "_view_module_version": "1.2.0",
      "_view_name": "StyleView",
      "description_width": ""
     }
    },
    "15284bc4840344b2b61de113f8136b1c": {
     "model_module": "@jupyter-widgets/controls",
     "model_name": "HBoxModel",
     "model_module_version": "1.5.0",
     "state": {
      "_dom_classes": [],
      "_model_module": "@jupyter-widgets/controls",
      "_model_module_version": "1.5.0",
      "_model_name": "HBoxModel",
      "_view_count": null,
      "_view_module": "@jupyter-widgets/controls",
      "_view_module_version": "1.5.0",
      "_view_name": "HBoxView",
      "box_style": "",
      "children": [
       "IPY_MODEL_0e4fffa23ccb4e539c222dadc8517f2a",
       "IPY_MODEL_330a8b76b26b4c969dbbfedb7709ca1e",
       "IPY_MODEL_30769623bff7481bacf6aeadab167ed5"
      ],
      "layout": "IPY_MODEL_3cc5f13ffb044eaabdae9600fe58b66d"
     }
    },
    "0e4fffa23ccb4e539c222dadc8517f2a": {
     "model_module": "@jupyter-widgets/controls",
     "model_name": "HTMLModel",
     "model_module_version": "1.5.0",
     "state": {
      "_dom_classes": [],
      "_model_module": "@jupyter-widgets/controls",
      "_model_module_version": "1.5.0",
      "_model_name": "HTMLModel",
      "_view_count": null,
      "_view_module": "@jupyter-widgets/controls",
      "_view_module_version": "1.5.0",
      "_view_name": "HTMLView",
      "description": "",
      "description_tooltip": null,
      "layout": "IPY_MODEL_96a1ad79a9254a128e574d5648ddaea6",
      "placeholder": "​",
      "style": "IPY_MODEL_eb94f8abdbf74ea886ad7cae061e2e92",
      "value": "100%"
     }
    },
    "330a8b76b26b4c969dbbfedb7709ca1e": {
     "model_module": "@jupyter-widgets/controls",
     "model_name": "FloatProgressModel",
     "model_module_version": "1.5.0",
     "state": {
      "_dom_classes": [],
      "_model_module": "@jupyter-widgets/controls",
      "_model_module_version": "1.5.0",
      "_model_name": "FloatProgressModel",
      "_view_count": null,
      "_view_module": "@jupyter-widgets/controls",
      "_view_module_version": "1.5.0",
      "_view_name": "ProgressView",
      "bar_style": "success",
      "description": "",
      "description_tooltip": null,
      "layout": "IPY_MODEL_b8e1b8791b464e55976c835d1777bfce",
      "max": 1506,
      "min": 0,
      "orientation": "horizontal",
      "style": "IPY_MODEL_8375de80d88b44e2810aaefbacef56d8",
      "value": 1506
     }
    },
    "30769623bff7481bacf6aeadab167ed5": {
     "model_module": "@jupyter-widgets/controls",
     "model_name": "HTMLModel",
     "model_module_version": "1.5.0",
     "state": {
      "_dom_classes": [],
      "_model_module": "@jupyter-widgets/controls",
      "_model_module_version": "1.5.0",
      "_model_name": "HTMLModel",
      "_view_count": null,
      "_view_module": "@jupyter-widgets/controls",
      "_view_module_version": "1.5.0",
      "_view_name": "HTMLView",
      "description": "",
      "description_tooltip": null,
      "layout": "IPY_MODEL_4439a3da4f9f46aa825e0ba844e4dce1",
      "placeholder": "​",
      "style": "IPY_MODEL_265f7d2851794922b4318288cbe1d254",
      "value": " 1506/1506 [12:52&lt;00:00,  1.91it/s]"
     }
    },
    "3cc5f13ffb044eaabdae9600fe58b66d": {
     "model_module": "@jupyter-widgets/base",
     "model_name": "LayoutModel",
     "model_module_version": "1.2.0",
     "state": {
      "_model_module": "@jupyter-widgets/base",
      "_model_module_version": "1.2.0",
      "_model_name": "LayoutModel",
      "_view_count": null,
      "_view_module": "@jupyter-widgets/base",
      "_view_module_version": "1.2.0",
      "_view_name": "LayoutView",
      "align_content": null,
      "align_items": null,
      "align_self": null,
      "border": null,
      "bottom": null,
      "display": null,
      "flex": null,
      "flex_flow": null,
      "grid_area": null,
      "grid_auto_columns": null,
      "grid_auto_flow": null,
      "grid_auto_rows": null,
      "grid_column": null,
      "grid_gap": null,
      "grid_row": null,
      "grid_template_areas": null,
      "grid_template_columns": null,
      "grid_template_rows": null,
      "height": null,
      "justify_content": null,
      "justify_items": null,
      "left": null,
      "margin": null,
      "max_height": null,
      "max_width": null,
      "min_height": null,
      "min_width": null,
      "object_fit": null,
      "object_position": null,
      "order": null,
      "overflow": null,
      "overflow_x": null,
      "overflow_y": null,
      "padding": null,
      "right": null,
      "top": null,
      "visibility": null,
      "width": null
     }
    },
    "96a1ad79a9254a128e574d5648ddaea6": {
     "model_module": "@jupyter-widgets/base",
     "model_name": "LayoutModel",
     "model_module_version": "1.2.0",
     "state": {
      "_model_module": "@jupyter-widgets/base",
      "_model_module_version": "1.2.0",
      "_model_name": "LayoutModel",
      "_view_count": null,
      "_view_module": "@jupyter-widgets/base",
      "_view_module_version": "1.2.0",
      "_view_name": "LayoutView",
      "align_content": null,
      "align_items": null,
      "align_self": null,
      "border": null,
      "bottom": null,
      "display": null,
      "flex": null,
      "flex_flow": null,
      "grid_area": null,
      "grid_auto_columns": null,
      "grid_auto_flow": null,
      "grid_auto_rows": null,
      "grid_column": null,
      "grid_gap": null,
      "grid_row": null,
      "grid_template_areas": null,
      "grid_template_columns": null,
      "grid_template_rows": null,
      "height": null,
      "justify_content": null,
      "justify_items": null,
      "left": null,
      "margin": null,
      "max_height": null,
      "max_width": null,
      "min_height": null,
      "min_width": null,
      "object_fit": null,
      "object_position": null,
      "order": null,
      "overflow": null,
      "overflow_x": null,
      "overflow_y": null,
      "padding": null,
      "right": null,
      "top": null,
      "visibility": null,
      "width": null
     }
    },
    "eb94f8abdbf74ea886ad7cae061e2e92": {
     "model_module": "@jupyter-widgets/controls",
     "model_name": "DescriptionStyleModel",
     "model_module_version": "1.5.0",
     "state": {
      "_model_module": "@jupyter-widgets/controls",
      "_model_module_version": "1.5.0",
      "_model_name": "DescriptionStyleModel",
      "_view_count": null,
      "_view_module": "@jupyter-widgets/base",
      "_view_module_version": "1.2.0",
      "_view_name": "StyleView",
      "description_width": ""
     }
    },
    "b8e1b8791b464e55976c835d1777bfce": {
     "model_module": "@jupyter-widgets/base",
     "model_name": "LayoutModel",
     "model_module_version": "1.2.0",
     "state": {
      "_model_module": "@jupyter-widgets/base",
      "_model_module_version": "1.2.0",
      "_model_name": "LayoutModel",
      "_view_count": null,
      "_view_module": "@jupyter-widgets/base",
      "_view_module_version": "1.2.0",
      "_view_name": "LayoutView",
      "align_content": null,
      "align_items": null,
      "align_self": null,
      "border": null,
      "bottom": null,
      "display": null,
      "flex": null,
      "flex_flow": null,
      "grid_area": null,
      "grid_auto_columns": null,
      "grid_auto_flow": null,
      "grid_auto_rows": null,
      "grid_column": null,
      "grid_gap": null,
      "grid_row": null,
      "grid_template_areas": null,
      "grid_template_columns": null,
      "grid_template_rows": null,
      "height": null,
      "justify_content": null,
      "justify_items": null,
      "left": null,
      "margin": null,
      "max_height": null,
      "max_width": null,
      "min_height": null,
      "min_width": null,
      "object_fit": null,
      "object_position": null,
      "order": null,
      "overflow": null,
      "overflow_x": null,
      "overflow_y": null,
      "padding": null,
      "right": null,
      "top": null,
      "visibility": null,
      "width": null
     }
    },
    "8375de80d88b44e2810aaefbacef56d8": {
     "model_module": "@jupyter-widgets/controls",
     "model_name": "ProgressStyleModel",
     "model_module_version": "1.5.0",
     "state": {
      "_model_module": "@jupyter-widgets/controls",
      "_model_module_version": "1.5.0",
      "_model_name": "ProgressStyleModel",
      "_view_count": null,
      "_view_module": "@jupyter-widgets/base",
      "_view_module_version": "1.2.0",
      "_view_name": "StyleView",
      "bar_color": null,
      "description_width": ""
     }
    },
    "4439a3da4f9f46aa825e0ba844e4dce1": {
     "model_module": "@jupyter-widgets/base",
     "model_name": "LayoutModel",
     "model_module_version": "1.2.0",
     "state": {
      "_model_module": "@jupyter-widgets/base",
      "_model_module_version": "1.2.0",
      "_model_name": "LayoutModel",
      "_view_count": null,
      "_view_module": "@jupyter-widgets/base",
      "_view_module_version": "1.2.0",
      "_view_name": "LayoutView",
      "align_content": null,
      "align_items": null,
      "align_self": null,
      "border": null,
      "bottom": null,
      "display": null,
      "flex": null,
      "flex_flow": null,
      "grid_area": null,
      "grid_auto_columns": null,
      "grid_auto_flow": null,
      "grid_auto_rows": null,
      "grid_column": null,
      "grid_gap": null,
      "grid_row": null,
      "grid_template_areas": null,
      "grid_template_columns": null,
      "grid_template_rows": null,
      "height": null,
      "justify_content": null,
      "justify_items": null,
      "left": null,
      "margin": null,
      "max_height": null,
      "max_width": null,
      "min_height": null,
      "min_width": null,
      "object_fit": null,
      "object_position": null,
      "order": null,
      "overflow": null,
      "overflow_x": null,
      "overflow_y": null,
      "padding": null,
      "right": null,
      "top": null,
      "visibility": null,
      "width": null
     }
    },
    "265f7d2851794922b4318288cbe1d254": {
     "model_module": "@jupyter-widgets/controls",
     "model_name": "DescriptionStyleModel",
     "model_module_version": "1.5.0",
     "state": {
      "_model_module": "@jupyter-widgets/controls",
      "_model_module_version": "1.5.0",
      "_model_name": "DescriptionStyleModel",
      "_view_count": null,
      "_view_module": "@jupyter-widgets/base",
      "_view_module_version": "1.2.0",
      "_view_name": "StyleView",
      "description_width": ""
     }
    },
    "f2def90daab14b12b37c116a5f1787b4": {
     "model_module": "@jupyter-widgets/controls",
     "model_name": "HBoxModel",
     "model_module_version": "1.5.0",
     "state": {
      "_dom_classes": [],
      "_model_module": "@jupyter-widgets/controls",
      "_model_module_version": "1.5.0",
      "_model_name": "HBoxModel",
      "_view_count": null,
      "_view_module": "@jupyter-widgets/controls",
      "_view_module_version": "1.5.0",
      "_view_name": "HBoxView",
      "box_style": "",
      "children": [
       "IPY_MODEL_d036bf84b1db4a2cb261e276997d76bb",
       "IPY_MODEL_c477a8640083452d9f1c4d0bd956d62f",
       "IPY_MODEL_44faa87bb6ea4beb84e9ac31fb3e7c61"
      ],
      "layout": "IPY_MODEL_b6decb3997e94990ae680a20bd08c9d7"
     }
    },
    "d036bf84b1db4a2cb261e276997d76bb": {
     "model_module": "@jupyter-widgets/controls",
     "model_name": "HTMLModel",
     "model_module_version": "1.5.0",
     "state": {
      "_dom_classes": [],
      "_model_module": "@jupyter-widgets/controls",
      "_model_module_version": "1.5.0",
      "_model_name": "HTMLModel",
      "_view_count": null,
      "_view_module": "@jupyter-widgets/controls",
      "_view_module_version": "1.5.0",
      "_view_name": "HTMLView",
      "description": "",
      "description_tooltip": null,
      "layout": "IPY_MODEL_d53248e0484c4a8b9a8c70b29a388b0f",
      "placeholder": "​",
      "style": "IPY_MODEL_2723d43bd2f749d9b81440b21cce30fd",
      "value": "100%"
     }
    },
    "c477a8640083452d9f1c4d0bd956d62f": {
     "model_module": "@jupyter-widgets/controls",
     "model_name": "FloatProgressModel",
     "model_module_version": "1.5.0",
     "state": {
      "_dom_classes": [],
      "_model_module": "@jupyter-widgets/controls",
      "_model_module_version": "1.5.0",
      "_model_name": "FloatProgressModel",
      "_view_count": null,
      "_view_module": "@jupyter-widgets/controls",
      "_view_module_version": "1.5.0",
      "_view_name": "ProgressView",
      "bar_style": "success",
      "description": "",
      "description_tooltip": null,
      "layout": "IPY_MODEL_af96ecd6c90847f2a332045f0962b4bb",
      "max": 317,
      "min": 0,
      "orientation": "horizontal",
      "style": "IPY_MODEL_6bfc8ade6f6b4fd2adbc7afa18c2a8e4",
      "value": 317
     }
    },
    "44faa87bb6ea4beb84e9ac31fb3e7c61": {
     "model_module": "@jupyter-widgets/controls",
     "model_name": "HTMLModel",
     "model_module_version": "1.5.0",
     "state": {
      "_dom_classes": [],
      "_model_module": "@jupyter-widgets/controls",
      "_model_module_version": "1.5.0",
      "_model_name": "HTMLModel",
      "_view_count": null,
      "_view_module": "@jupyter-widgets/controls",
      "_view_module_version": "1.5.0",
      "_view_name": "HTMLView",
      "description": "",
      "description_tooltip": null,
      "layout": "IPY_MODEL_cada232fa98844babcd9f43d7a3a3ca7",
      "placeholder": "​",
      "style": "IPY_MODEL_8582a85f63744e4b9c80ab6b903c7ea4",
      "value": " 317/317 [00:14&lt;00:00, 23.43it/s]"
     }
    },
    "b6decb3997e94990ae680a20bd08c9d7": {
     "model_module": "@jupyter-widgets/base",
     "model_name": "LayoutModel",
     "model_module_version": "1.2.0",
     "state": {
      "_model_module": "@jupyter-widgets/base",
      "_model_module_version": "1.2.0",
      "_model_name": "LayoutModel",
      "_view_count": null,
      "_view_module": "@jupyter-widgets/base",
      "_view_module_version": "1.2.0",
      "_view_name": "LayoutView",
      "align_content": null,
      "align_items": null,
      "align_self": null,
      "border": null,
      "bottom": null,
      "display": null,
      "flex": null,
      "flex_flow": null,
      "grid_area": null,
      "grid_auto_columns": null,
      "grid_auto_flow": null,
      "grid_auto_rows": null,
      "grid_column": null,
      "grid_gap": null,
      "grid_row": null,
      "grid_template_areas": null,
      "grid_template_columns": null,
      "grid_template_rows": null,
      "height": null,
      "justify_content": null,
      "justify_items": null,
      "left": null,
      "margin": null,
      "max_height": null,
      "max_width": null,
      "min_height": null,
      "min_width": null,
      "object_fit": null,
      "object_position": null,
      "order": null,
      "overflow": null,
      "overflow_x": null,
      "overflow_y": null,
      "padding": null,
      "right": null,
      "top": null,
      "visibility": null,
      "width": null
     }
    },
    "d53248e0484c4a8b9a8c70b29a388b0f": {
     "model_module": "@jupyter-widgets/base",
     "model_name": "LayoutModel",
     "model_module_version": "1.2.0",
     "state": {
      "_model_module": "@jupyter-widgets/base",
      "_model_module_version": "1.2.0",
      "_model_name": "LayoutModel",
      "_view_count": null,
      "_view_module": "@jupyter-widgets/base",
      "_view_module_version": "1.2.0",
      "_view_name": "LayoutView",
      "align_content": null,
      "align_items": null,
      "align_self": null,
      "border": null,
      "bottom": null,
      "display": null,
      "flex": null,
      "flex_flow": null,
      "grid_area": null,
      "grid_auto_columns": null,
      "grid_auto_flow": null,
      "grid_auto_rows": null,
      "grid_column": null,
      "grid_gap": null,
      "grid_row": null,
      "grid_template_areas": null,
      "grid_template_columns": null,
      "grid_template_rows": null,
      "height": null,
      "justify_content": null,
      "justify_items": null,
      "left": null,
      "margin": null,
      "max_height": null,
      "max_width": null,
      "min_height": null,
      "min_width": null,
      "object_fit": null,
      "object_position": null,
      "order": null,
      "overflow": null,
      "overflow_x": null,
      "overflow_y": null,
      "padding": null,
      "right": null,
      "top": null,
      "visibility": null,
      "width": null
     }
    },
    "2723d43bd2f749d9b81440b21cce30fd": {
     "model_module": "@jupyter-widgets/controls",
     "model_name": "DescriptionStyleModel",
     "model_module_version": "1.5.0",
     "state": {
      "_model_module": "@jupyter-widgets/controls",
      "_model_module_version": "1.5.0",
      "_model_name": "DescriptionStyleModel",
      "_view_count": null,
      "_view_module": "@jupyter-widgets/base",
      "_view_module_version": "1.2.0",
      "_view_name": "StyleView",
      "description_width": ""
     }
    },
    "af96ecd6c90847f2a332045f0962b4bb": {
     "model_module": "@jupyter-widgets/base",
     "model_name": "LayoutModel",
     "model_module_version": "1.2.0",
     "state": {
      "_model_module": "@jupyter-widgets/base",
      "_model_module_version": "1.2.0",
      "_model_name": "LayoutModel",
      "_view_count": null,
      "_view_module": "@jupyter-widgets/base",
      "_view_module_version": "1.2.0",
      "_view_name": "LayoutView",
      "align_content": null,
      "align_items": null,
      "align_self": null,
      "border": null,
      "bottom": null,
      "display": null,
      "flex": null,
      "flex_flow": null,
      "grid_area": null,
      "grid_auto_columns": null,
      "grid_auto_flow": null,
      "grid_auto_rows": null,
      "grid_column": null,
      "grid_gap": null,
      "grid_row": null,
      "grid_template_areas": null,
      "grid_template_columns": null,
      "grid_template_rows": null,
      "height": null,
      "justify_content": null,
      "justify_items": null,
      "left": null,
      "margin": null,
      "max_height": null,
      "max_width": null,
      "min_height": null,
      "min_width": null,
      "object_fit": null,
      "object_position": null,
      "order": null,
      "overflow": null,
      "overflow_x": null,
      "overflow_y": null,
      "padding": null,
      "right": null,
      "top": null,
      "visibility": null,
      "width": null
     }
    },
    "6bfc8ade6f6b4fd2adbc7afa18c2a8e4": {
     "model_module": "@jupyter-widgets/controls",
     "model_name": "ProgressStyleModel",
     "model_module_version": "1.5.0",
     "state": {
      "_model_module": "@jupyter-widgets/controls",
      "_model_module_version": "1.5.0",
      "_model_name": "ProgressStyleModel",
      "_view_count": null,
      "_view_module": "@jupyter-widgets/base",
      "_view_module_version": "1.2.0",
      "_view_name": "StyleView",
      "bar_color": null,
      "description_width": ""
     }
    },
    "cada232fa98844babcd9f43d7a3a3ca7": {
     "model_module": "@jupyter-widgets/base",
     "model_name": "LayoutModel",
     "model_module_version": "1.2.0",
     "state": {
      "_model_module": "@jupyter-widgets/base",
      "_model_module_version": "1.2.0",
      "_model_name": "LayoutModel",
      "_view_count": null,
      "_view_module": "@jupyter-widgets/base",
      "_view_module_version": "1.2.0",
      "_view_name": "LayoutView",
      "align_content": null,
      "align_items": null,
      "align_self": null,
      "border": null,
      "bottom": null,
      "display": null,
      "flex": null,
      "flex_flow": null,
      "grid_area": null,
      "grid_auto_columns": null,
      "grid_auto_flow": null,
      "grid_auto_rows": null,
      "grid_column": null,
      "grid_gap": null,
      "grid_row": null,
      "grid_template_areas": null,
      "grid_template_columns": null,
      "grid_template_rows": null,
      "height": null,
      "justify_content": null,
      "justify_items": null,
      "left": null,
      "margin": null,
      "max_height": null,
      "max_width": null,
      "min_height": null,
      "min_width": null,
      "object_fit": null,
      "object_position": null,
      "order": null,
      "overflow": null,
      "overflow_x": null,
      "overflow_y": null,
      "padding": null,
      "right": null,
      "top": null,
      "visibility": null,
      "width": null
     }
    },
    "8582a85f63744e4b9c80ab6b903c7ea4": {
     "model_module": "@jupyter-widgets/controls",
     "model_name": "DescriptionStyleModel",
     "model_module_version": "1.5.0",
     "state": {
      "_model_module": "@jupyter-widgets/controls",
      "_model_module_version": "1.5.0",
      "_model_name": "DescriptionStyleModel",
      "_view_count": null,
      "_view_module": "@jupyter-widgets/base",
      "_view_module_version": "1.2.0",
      "_view_name": "StyleView",
      "description_width": ""
     }
    },
    "e82ec1d844c44a1aa7f72204ac0d28c6": {
     "model_module": "@jupyter-widgets/controls",
     "model_name": "HBoxModel",
     "model_module_version": "1.5.0",
     "state": {
      "_dom_classes": [],
      "_model_module": "@jupyter-widgets/controls",
      "_model_module_version": "1.5.0",
      "_model_name": "HBoxModel",
      "_view_count": null,
      "_view_module": "@jupyter-widgets/controls",
      "_view_module_version": "1.5.0",
      "_view_name": "HBoxView",
      "box_style": "",
      "children": [
       "IPY_MODEL_94d734e57c2f4f2599192b8dd31965bb",
       "IPY_MODEL_61f3b64a882e44fc892ec6141652a41c",
       "IPY_MODEL_79a98abcc0a94ca299d819a42e379e5d"
      ],
      "layout": "IPY_MODEL_cdbfad300d824c80bac0c9c053b713bd"
     }
    },
    "94d734e57c2f4f2599192b8dd31965bb": {
     "model_module": "@jupyter-widgets/controls",
     "model_name": "HTMLModel",
     "model_module_version": "1.5.0",
     "state": {
      "_dom_classes": [],
      "_model_module": "@jupyter-widgets/controls",
      "_model_module_version": "1.5.0",
      "_model_name": "HTMLModel",
      "_view_count": null,
      "_view_module": "@jupyter-widgets/controls",
      "_view_module_version": "1.5.0",
      "_view_name": "HTMLView",
      "description": "",
      "description_tooltip": null,
      "layout": "IPY_MODEL_66156d35ad3a49f38e33da3bc76e1f7a",
      "placeholder": "​",
      "style": "IPY_MODEL_c0056c0c940c45d49d8a665077c69f6f",
      "value": "100%"
     }
    },
    "61f3b64a882e44fc892ec6141652a41c": {
     "model_module": "@jupyter-widgets/controls",
     "model_name": "FloatProgressModel",
     "model_module_version": "1.5.0",
     "state": {
      "_dom_classes": [],
      "_model_module": "@jupyter-widgets/controls",
      "_model_module_version": "1.5.0",
      "_model_name": "FloatProgressModel",
      "_view_count": null,
      "_view_module": "@jupyter-widgets/controls",
      "_view_module_version": "1.5.0",
      "_view_name": "ProgressView",
      "bar_style": "success",
      "description": "",
      "description_tooltip": null,
      "layout": "IPY_MODEL_1e819a136fab4531a590881dfd1dc6f2",
      "max": 1506,
      "min": 0,
      "orientation": "horizontal",
      "style": "IPY_MODEL_845e6c93b4dc4deda9f0069be55ab248",
      "value": 1506
     }
    },
    "79a98abcc0a94ca299d819a42e379e5d": {
     "model_module": "@jupyter-widgets/controls",
     "model_name": "HTMLModel",
     "model_module_version": "1.5.0",
     "state": {
      "_dom_classes": [],
      "_model_module": "@jupyter-widgets/controls",
      "_model_module_version": "1.5.0",
      "_model_name": "HTMLModel",
      "_view_count": null,
      "_view_module": "@jupyter-widgets/controls",
      "_view_module_version": "1.5.0",
      "_view_name": "HTMLView",
      "description": "",
      "description_tooltip": null,
      "layout": "IPY_MODEL_e9bf5669570d4244be4865f9916acd09",
      "placeholder": "​",
      "style": "IPY_MODEL_af9b5841f62f41fa9bd0dbb4b7c33ff7",
      "value": " 1506/1506 [12:54&lt;00:00,  1.96it/s]"
     }
    },
    "cdbfad300d824c80bac0c9c053b713bd": {
     "model_module": "@jupyter-widgets/base",
     "model_name": "LayoutModel",
     "model_module_version": "1.2.0",
     "state": {
      "_model_module": "@jupyter-widgets/base",
      "_model_module_version": "1.2.0",
      "_model_name": "LayoutModel",
      "_view_count": null,
      "_view_module": "@jupyter-widgets/base",
      "_view_module_version": "1.2.0",
      "_view_name": "LayoutView",
      "align_content": null,
      "align_items": null,
      "align_self": null,
      "border": null,
      "bottom": null,
      "display": null,
      "flex": null,
      "flex_flow": null,
      "grid_area": null,
      "grid_auto_columns": null,
      "grid_auto_flow": null,
      "grid_auto_rows": null,
      "grid_column": null,
      "grid_gap": null,
      "grid_row": null,
      "grid_template_areas": null,
      "grid_template_columns": null,
      "grid_template_rows": null,
      "height": null,
      "justify_content": null,
      "justify_items": null,
      "left": null,
      "margin": null,
      "max_height": null,
      "max_width": null,
      "min_height": null,
      "min_width": null,
      "object_fit": null,
      "object_position": null,
      "order": null,
      "overflow": null,
      "overflow_x": null,
      "overflow_y": null,
      "padding": null,
      "right": null,
      "top": null,
      "visibility": null,
      "width": null
     }
    },
    "66156d35ad3a49f38e33da3bc76e1f7a": {
     "model_module": "@jupyter-widgets/base",
     "model_name": "LayoutModel",
     "model_module_version": "1.2.0",
     "state": {
      "_model_module": "@jupyter-widgets/base",
      "_model_module_version": "1.2.0",
      "_model_name": "LayoutModel",
      "_view_count": null,
      "_view_module": "@jupyter-widgets/base",
      "_view_module_version": "1.2.0",
      "_view_name": "LayoutView",
      "align_content": null,
      "align_items": null,
      "align_self": null,
      "border": null,
      "bottom": null,
      "display": null,
      "flex": null,
      "flex_flow": null,
      "grid_area": null,
      "grid_auto_columns": null,
      "grid_auto_flow": null,
      "grid_auto_rows": null,
      "grid_column": null,
      "grid_gap": null,
      "grid_row": null,
      "grid_template_areas": null,
      "grid_template_columns": null,
      "grid_template_rows": null,
      "height": null,
      "justify_content": null,
      "justify_items": null,
      "left": null,
      "margin": null,
      "max_height": null,
      "max_width": null,
      "min_height": null,
      "min_width": null,
      "object_fit": null,
      "object_position": null,
      "order": null,
      "overflow": null,
      "overflow_x": null,
      "overflow_y": null,
      "padding": null,
      "right": null,
      "top": null,
      "visibility": null,
      "width": null
     }
    },
    "c0056c0c940c45d49d8a665077c69f6f": {
     "model_module": "@jupyter-widgets/controls",
     "model_name": "DescriptionStyleModel",
     "model_module_version": "1.5.0",
     "state": {
      "_model_module": "@jupyter-widgets/controls",
      "_model_module_version": "1.5.0",
      "_model_name": "DescriptionStyleModel",
      "_view_count": null,
      "_view_module": "@jupyter-widgets/base",
      "_view_module_version": "1.2.0",
      "_view_name": "StyleView",
      "description_width": ""
     }
    },
    "1e819a136fab4531a590881dfd1dc6f2": {
     "model_module": "@jupyter-widgets/base",
     "model_name": "LayoutModel",
     "model_module_version": "1.2.0",
     "state": {
      "_model_module": "@jupyter-widgets/base",
      "_model_module_version": "1.2.0",
      "_model_name": "LayoutModel",
      "_view_count": null,
      "_view_module": "@jupyter-widgets/base",
      "_view_module_version": "1.2.0",
      "_view_name": "LayoutView",
      "align_content": null,
      "align_items": null,
      "align_self": null,
      "border": null,
      "bottom": null,
      "display": null,
      "flex": null,
      "flex_flow": null,
      "grid_area": null,
      "grid_auto_columns": null,
      "grid_auto_flow": null,
      "grid_auto_rows": null,
      "grid_column": null,
      "grid_gap": null,
      "grid_row": null,
      "grid_template_areas": null,
      "grid_template_columns": null,
      "grid_template_rows": null,
      "height": null,
      "justify_content": null,
      "justify_items": null,
      "left": null,
      "margin": null,
      "max_height": null,
      "max_width": null,
      "min_height": null,
      "min_width": null,
      "object_fit": null,
      "object_position": null,
      "order": null,
      "overflow": null,
      "overflow_x": null,
      "overflow_y": null,
      "padding": null,
      "right": null,
      "top": null,
      "visibility": null,
      "width": null
     }
    },
    "845e6c93b4dc4deda9f0069be55ab248": {
     "model_module": "@jupyter-widgets/controls",
     "model_name": "ProgressStyleModel",
     "model_module_version": "1.5.0",
     "state": {
      "_model_module": "@jupyter-widgets/controls",
      "_model_module_version": "1.5.0",
      "_model_name": "ProgressStyleModel",
      "_view_count": null,
      "_view_module": "@jupyter-widgets/base",
      "_view_module_version": "1.2.0",
      "_view_name": "StyleView",
      "bar_color": null,
      "description_width": ""
     }
    },
    "e9bf5669570d4244be4865f9916acd09": {
     "model_module": "@jupyter-widgets/base",
     "model_name": "LayoutModel",
     "model_module_version": "1.2.0",
     "state": {
      "_model_module": "@jupyter-widgets/base",
      "_model_module_version": "1.2.0",
      "_model_name": "LayoutModel",
      "_view_count": null,
      "_view_module": "@jupyter-widgets/base",
      "_view_module_version": "1.2.0",
      "_view_name": "LayoutView",
      "align_content": null,
      "align_items": null,
      "align_self": null,
      "border": null,
      "bottom": null,
      "display": null,
      "flex": null,
      "flex_flow": null,
      "grid_area": null,
      "grid_auto_columns": null,
      "grid_auto_flow": null,
      "grid_auto_rows": null,
      "grid_column": null,
      "grid_gap": null,
      "grid_row": null,
      "grid_template_areas": null,
      "grid_template_columns": null,
      "grid_template_rows": null,
      "height": null,
      "justify_content": null,
      "justify_items": null,
      "left": null,
      "margin": null,
      "max_height": null,
      "max_width": null,
      "min_height": null,
      "min_width": null,
      "object_fit": null,
      "object_position": null,
      "order": null,
      "overflow": null,
      "overflow_x": null,
      "overflow_y": null,
      "padding": null,
      "right": null,
      "top": null,
      "visibility": null,
      "width": null
     }
    },
    "af9b5841f62f41fa9bd0dbb4b7c33ff7": {
     "model_module": "@jupyter-widgets/controls",
     "model_name": "DescriptionStyleModel",
     "model_module_version": "1.5.0",
     "state": {
      "_model_module": "@jupyter-widgets/controls",
      "_model_module_version": "1.5.0",
      "_model_name": "DescriptionStyleModel",
      "_view_count": null,
      "_view_module": "@jupyter-widgets/base",
      "_view_module_version": "1.2.0",
      "_view_name": "StyleView",
      "description_width": ""
     }
    },
    "8189a57801cb49e690d2c785c7760b22": {
     "model_module": "@jupyter-widgets/controls",
     "model_name": "HBoxModel",
     "model_module_version": "1.5.0",
     "state": {
      "_dom_classes": [],
      "_model_module": "@jupyter-widgets/controls",
      "_model_module_version": "1.5.0",
      "_model_name": "HBoxModel",
      "_view_count": null,
      "_view_module": "@jupyter-widgets/controls",
      "_view_module_version": "1.5.0",
      "_view_name": "HBoxView",
      "box_style": "",
      "children": [
       "IPY_MODEL_9d4a4151dd13474a88aef4e73112896c",
       "IPY_MODEL_e8d7e6f3cfc148cab2059de91a67e5a2",
       "IPY_MODEL_b9eb9cff574c4b11bdba17de1d553200"
      ],
      "layout": "IPY_MODEL_37d6bfa73e02443fa82b23759665f4b1"
     }
    },
    "9d4a4151dd13474a88aef4e73112896c": {
     "model_module": "@jupyter-widgets/controls",
     "model_name": "HTMLModel",
     "model_module_version": "1.5.0",
     "state": {
      "_dom_classes": [],
      "_model_module": "@jupyter-widgets/controls",
      "_model_module_version": "1.5.0",
      "_model_name": "HTMLModel",
      "_view_count": null,
      "_view_module": "@jupyter-widgets/controls",
      "_view_module_version": "1.5.0",
      "_view_name": "HTMLView",
      "description": "",
      "description_tooltip": null,
      "layout": "IPY_MODEL_b276adf6117e4efd81b0dbb95c1a0081",
      "placeholder": "​",
      "style": "IPY_MODEL_2e68221cc9bf458087a4b97a29d399b7",
      "value": "100%"
     }
    },
    "e8d7e6f3cfc148cab2059de91a67e5a2": {
     "model_module": "@jupyter-widgets/controls",
     "model_name": "FloatProgressModel",
     "model_module_version": "1.5.0",
     "state": {
      "_dom_classes": [],
      "_model_module": "@jupyter-widgets/controls",
      "_model_module_version": "1.5.0",
      "_model_name": "FloatProgressModel",
      "_view_count": null,
      "_view_module": "@jupyter-widgets/controls",
      "_view_module_version": "1.5.0",
      "_view_name": "ProgressView",
      "bar_style": "success",
      "description": "",
      "description_tooltip": null,
      "layout": "IPY_MODEL_bf7a352a558848a48b52248f1a5d4771",
      "max": 317,
      "min": 0,
      "orientation": "horizontal",
      "style": "IPY_MODEL_bbb30fe655194e559f1006b283121b89",
      "value": 317
     }
    },
    "b9eb9cff574c4b11bdba17de1d553200": {
     "model_module": "@jupyter-widgets/controls",
     "model_name": "HTMLModel",
     "model_module_version": "1.5.0",
     "state": {
      "_dom_classes": [],
      "_model_module": "@jupyter-widgets/controls",
      "_model_module_version": "1.5.0",
      "_model_name": "HTMLModel",
      "_view_count": null,
      "_view_module": "@jupyter-widgets/controls",
      "_view_module_version": "1.5.0",
      "_view_name": "HTMLView",
      "description": "",
      "description_tooltip": null,
      "layout": "IPY_MODEL_f1872f7262264f38b3525a02ed046191",
      "placeholder": "​",
      "style": "IPY_MODEL_aeb58c0a8be34760833210d7ce3e285f",
      "value": " 317/317 [00:14&lt;00:00, 23.87it/s]"
     }
    },
    "37d6bfa73e02443fa82b23759665f4b1": {
     "model_module": "@jupyter-widgets/base",
     "model_name": "LayoutModel",
     "model_module_version": "1.2.0",
     "state": {
      "_model_module": "@jupyter-widgets/base",
      "_model_module_version": "1.2.0",
      "_model_name": "LayoutModel",
      "_view_count": null,
      "_view_module": "@jupyter-widgets/base",
      "_view_module_version": "1.2.0",
      "_view_name": "LayoutView",
      "align_content": null,
      "align_items": null,
      "align_self": null,
      "border": null,
      "bottom": null,
      "display": null,
      "flex": null,
      "flex_flow": null,
      "grid_area": null,
      "grid_auto_columns": null,
      "grid_auto_flow": null,
      "grid_auto_rows": null,
      "grid_column": null,
      "grid_gap": null,
      "grid_row": null,
      "grid_template_areas": null,
      "grid_template_columns": null,
      "grid_template_rows": null,
      "height": null,
      "justify_content": null,
      "justify_items": null,
      "left": null,
      "margin": null,
      "max_height": null,
      "max_width": null,
      "min_height": null,
      "min_width": null,
      "object_fit": null,
      "object_position": null,
      "order": null,
      "overflow": null,
      "overflow_x": null,
      "overflow_y": null,
      "padding": null,
      "right": null,
      "top": null,
      "visibility": null,
      "width": null
     }
    },
    "b276adf6117e4efd81b0dbb95c1a0081": {
     "model_module": "@jupyter-widgets/base",
     "model_name": "LayoutModel",
     "model_module_version": "1.2.0",
     "state": {
      "_model_module": "@jupyter-widgets/base",
      "_model_module_version": "1.2.0",
      "_model_name": "LayoutModel",
      "_view_count": null,
      "_view_module": "@jupyter-widgets/base",
      "_view_module_version": "1.2.0",
      "_view_name": "LayoutView",
      "align_content": null,
      "align_items": null,
      "align_self": null,
      "border": null,
      "bottom": null,
      "display": null,
      "flex": null,
      "flex_flow": null,
      "grid_area": null,
      "grid_auto_columns": null,
      "grid_auto_flow": null,
      "grid_auto_rows": null,
      "grid_column": null,
      "grid_gap": null,
      "grid_row": null,
      "grid_template_areas": null,
      "grid_template_columns": null,
      "grid_template_rows": null,
      "height": null,
      "justify_content": null,
      "justify_items": null,
      "left": null,
      "margin": null,
      "max_height": null,
      "max_width": null,
      "min_height": null,
      "min_width": null,
      "object_fit": null,
      "object_position": null,
      "order": null,
      "overflow": null,
      "overflow_x": null,
      "overflow_y": null,
      "padding": null,
      "right": null,
      "top": null,
      "visibility": null,
      "width": null
     }
    },
    "2e68221cc9bf458087a4b97a29d399b7": {
     "model_module": "@jupyter-widgets/controls",
     "model_name": "DescriptionStyleModel",
     "model_module_version": "1.5.0",
     "state": {
      "_model_module": "@jupyter-widgets/controls",
      "_model_module_version": "1.5.0",
      "_model_name": "DescriptionStyleModel",
      "_view_count": null,
      "_view_module": "@jupyter-widgets/base",
      "_view_module_version": "1.2.0",
      "_view_name": "StyleView",
      "description_width": ""
     }
    },
    "bf7a352a558848a48b52248f1a5d4771": {
     "model_module": "@jupyter-widgets/base",
     "model_name": "LayoutModel",
     "model_module_version": "1.2.0",
     "state": {
      "_model_module": "@jupyter-widgets/base",
      "_model_module_version": "1.2.0",
      "_model_name": "LayoutModel",
      "_view_count": null,
      "_view_module": "@jupyter-widgets/base",
      "_view_module_version": "1.2.0",
      "_view_name": "LayoutView",
      "align_content": null,
      "align_items": null,
      "align_self": null,
      "border": null,
      "bottom": null,
      "display": null,
      "flex": null,
      "flex_flow": null,
      "grid_area": null,
      "grid_auto_columns": null,
      "grid_auto_flow": null,
      "grid_auto_rows": null,
      "grid_column": null,
      "grid_gap": null,
      "grid_row": null,
      "grid_template_areas": null,
      "grid_template_columns": null,
      "grid_template_rows": null,
      "height": null,
      "justify_content": null,
      "justify_items": null,
      "left": null,
      "margin": null,
      "max_height": null,
      "max_width": null,
      "min_height": null,
      "min_width": null,
      "object_fit": null,
      "object_position": null,
      "order": null,
      "overflow": null,
      "overflow_x": null,
      "overflow_y": null,
      "padding": null,
      "right": null,
      "top": null,
      "visibility": null,
      "width": null
     }
    },
    "bbb30fe655194e559f1006b283121b89": {
     "model_module": "@jupyter-widgets/controls",
     "model_name": "ProgressStyleModel",
     "model_module_version": "1.5.0",
     "state": {
      "_model_module": "@jupyter-widgets/controls",
      "_model_module_version": "1.5.0",
      "_model_name": "ProgressStyleModel",
      "_view_count": null,
      "_view_module": "@jupyter-widgets/base",
      "_view_module_version": "1.2.0",
      "_view_name": "StyleView",
      "bar_color": null,
      "description_width": ""
     }
    },
    "f1872f7262264f38b3525a02ed046191": {
     "model_module": "@jupyter-widgets/base",
     "model_name": "LayoutModel",
     "model_module_version": "1.2.0",
     "state": {
      "_model_module": "@jupyter-widgets/base",
      "_model_module_version": "1.2.0",
      "_model_name": "LayoutModel",
      "_view_count": null,
      "_view_module": "@jupyter-widgets/base",
      "_view_module_version": "1.2.0",
      "_view_name": "LayoutView",
      "align_content": null,
      "align_items": null,
      "align_self": null,
      "border": null,
      "bottom": null,
      "display": null,
      "flex": null,
      "flex_flow": null,
      "grid_area": null,
      "grid_auto_columns": null,
      "grid_auto_flow": null,
      "grid_auto_rows": null,
      "grid_column": null,
      "grid_gap": null,
      "grid_row": null,
      "grid_template_areas": null,
      "grid_template_columns": null,
      "grid_template_rows": null,
      "height": null,
      "justify_content": null,
      "justify_items": null,
      "left": null,
      "margin": null,
      "max_height": null,
      "max_width": null,
      "min_height": null,
      "min_width": null,
      "object_fit": null,
      "object_position": null,
      "order": null,
      "overflow": null,
      "overflow_x": null,
      "overflow_y": null,
      "padding": null,
      "right": null,
      "top": null,
      "visibility": null,
      "width": null
     }
    },
    "aeb58c0a8be34760833210d7ce3e285f": {
     "model_module": "@jupyter-widgets/controls",
     "model_name": "DescriptionStyleModel",
     "model_module_version": "1.5.0",
     "state": {
      "_model_module": "@jupyter-widgets/controls",
      "_model_module_version": "1.5.0",
      "_model_name": "DescriptionStyleModel",
      "_view_count": null,
      "_view_module": "@jupyter-widgets/base",
      "_view_module_version": "1.2.0",
      "_view_name": "StyleView",
      "description_width": ""
     }
    },
    "dbaba8342c0d49ef9982518ef11f268a": {
     "model_module": "@jupyter-widgets/controls",
     "model_name": "HBoxModel",
     "model_module_version": "1.5.0",
     "state": {
      "_dom_classes": [],
      "_model_module": "@jupyter-widgets/controls",
      "_model_module_version": "1.5.0",
      "_model_name": "HBoxModel",
      "_view_count": null,
      "_view_module": "@jupyter-widgets/controls",
      "_view_module_version": "1.5.0",
      "_view_name": "HBoxView",
      "box_style": "",
      "children": [
       "IPY_MODEL_d2788639d8664918b9c5187bb5194f4d",
       "IPY_MODEL_ef5316579e4547efa6b0231105a61fce",
       "IPY_MODEL_5c5bc5c8d6a745c68b4ddbcf86c99f78"
      ],
      "layout": "IPY_MODEL_50fe3778c01a419a9923bd17f4ca4f34"
     }
    },
    "d2788639d8664918b9c5187bb5194f4d": {
     "model_module": "@jupyter-widgets/controls",
     "model_name": "HTMLModel",
     "model_module_version": "1.5.0",
     "state": {
      "_dom_classes": [],
      "_model_module": "@jupyter-widgets/controls",
      "_model_module_version": "1.5.0",
      "_model_name": "HTMLModel",
      "_view_count": null,
      "_view_module": "@jupyter-widgets/controls",
      "_view_module_version": "1.5.0",
      "_view_name": "HTMLView",
      "description": "",
      "description_tooltip": null,
      "layout": "IPY_MODEL_8ddb946d3e88462197de4bbe9fc89e89",
      "placeholder": "​",
      "style": "IPY_MODEL_d063c795b54a48cc981b136a3f31e89f",
      "value": "100%"
     }
    },
    "ef5316579e4547efa6b0231105a61fce": {
     "model_module": "@jupyter-widgets/controls",
     "model_name": "FloatProgressModel",
     "model_module_version": "1.5.0",
     "state": {
      "_dom_classes": [],
      "_model_module": "@jupyter-widgets/controls",
      "_model_module_version": "1.5.0",
      "_model_name": "FloatProgressModel",
      "_view_count": null,
      "_view_module": "@jupyter-widgets/controls",
      "_view_module_version": "1.5.0",
      "_view_name": "ProgressView",
      "bar_style": "success",
      "description": "",
      "description_tooltip": null,
      "layout": "IPY_MODEL_94d99ebdb77f4376ad7bd4b68cc76d23",
      "max": 1506,
      "min": 0,
      "orientation": "horizontal",
      "style": "IPY_MODEL_c30ef246c3844170b70c92f1f5032ff0",
      "value": 1506
     }
    },
    "5c5bc5c8d6a745c68b4ddbcf86c99f78": {
     "model_module": "@jupyter-widgets/controls",
     "model_name": "HTMLModel",
     "model_module_version": "1.5.0",
     "state": {
      "_dom_classes": [],
      "_model_module": "@jupyter-widgets/controls",
      "_model_module_version": "1.5.0",
      "_model_name": "HTMLModel",
      "_view_count": null,
      "_view_module": "@jupyter-widgets/controls",
      "_view_module_version": "1.5.0",
      "_view_name": "HTMLView",
      "description": "",
      "description_tooltip": null,
      "layout": "IPY_MODEL_9f8da10898924d93837848fd506581c0",
      "placeholder": "​",
      "style": "IPY_MODEL_6e773b595e064544b3b4b69394c22202",
      "value": " 1506/1506 [12:52&lt;00:00,  1.97it/s]"
     }
    },
    "50fe3778c01a419a9923bd17f4ca4f34": {
     "model_module": "@jupyter-widgets/base",
     "model_name": "LayoutModel",
     "model_module_version": "1.2.0",
     "state": {
      "_model_module": "@jupyter-widgets/base",
      "_model_module_version": "1.2.0",
      "_model_name": "LayoutModel",
      "_view_count": null,
      "_view_module": "@jupyter-widgets/base",
      "_view_module_version": "1.2.0",
      "_view_name": "LayoutView",
      "align_content": null,
      "align_items": null,
      "align_self": null,
      "border": null,
      "bottom": null,
      "display": null,
      "flex": null,
      "flex_flow": null,
      "grid_area": null,
      "grid_auto_columns": null,
      "grid_auto_flow": null,
      "grid_auto_rows": null,
      "grid_column": null,
      "grid_gap": null,
      "grid_row": null,
      "grid_template_areas": null,
      "grid_template_columns": null,
      "grid_template_rows": null,
      "height": null,
      "justify_content": null,
      "justify_items": null,
      "left": null,
      "margin": null,
      "max_height": null,
      "max_width": null,
      "min_height": null,
      "min_width": null,
      "object_fit": null,
      "object_position": null,
      "order": null,
      "overflow": null,
      "overflow_x": null,
      "overflow_y": null,
      "padding": null,
      "right": null,
      "top": null,
      "visibility": null,
      "width": null
     }
    },
    "8ddb946d3e88462197de4bbe9fc89e89": {
     "model_module": "@jupyter-widgets/base",
     "model_name": "LayoutModel",
     "model_module_version": "1.2.0",
     "state": {
      "_model_module": "@jupyter-widgets/base",
      "_model_module_version": "1.2.0",
      "_model_name": "LayoutModel",
      "_view_count": null,
      "_view_module": "@jupyter-widgets/base",
      "_view_module_version": "1.2.0",
      "_view_name": "LayoutView",
      "align_content": null,
      "align_items": null,
      "align_self": null,
      "border": null,
      "bottom": null,
      "display": null,
      "flex": null,
      "flex_flow": null,
      "grid_area": null,
      "grid_auto_columns": null,
      "grid_auto_flow": null,
      "grid_auto_rows": null,
      "grid_column": null,
      "grid_gap": null,
      "grid_row": null,
      "grid_template_areas": null,
      "grid_template_columns": null,
      "grid_template_rows": null,
      "height": null,
      "justify_content": null,
      "justify_items": null,
      "left": null,
      "margin": null,
      "max_height": null,
      "max_width": null,
      "min_height": null,
      "min_width": null,
      "object_fit": null,
      "object_position": null,
      "order": null,
      "overflow": null,
      "overflow_x": null,
      "overflow_y": null,
      "padding": null,
      "right": null,
      "top": null,
      "visibility": null,
      "width": null
     }
    },
    "d063c795b54a48cc981b136a3f31e89f": {
     "model_module": "@jupyter-widgets/controls",
     "model_name": "DescriptionStyleModel",
     "model_module_version": "1.5.0",
     "state": {
      "_model_module": "@jupyter-widgets/controls",
      "_model_module_version": "1.5.0",
      "_model_name": "DescriptionStyleModel",
      "_view_count": null,
      "_view_module": "@jupyter-widgets/base",
      "_view_module_version": "1.2.0",
      "_view_name": "StyleView",
      "description_width": ""
     }
    },
    "94d99ebdb77f4376ad7bd4b68cc76d23": {
     "model_module": "@jupyter-widgets/base",
     "model_name": "LayoutModel",
     "model_module_version": "1.2.0",
     "state": {
      "_model_module": "@jupyter-widgets/base",
      "_model_module_version": "1.2.0",
      "_model_name": "LayoutModel",
      "_view_count": null,
      "_view_module": "@jupyter-widgets/base",
      "_view_module_version": "1.2.0",
      "_view_name": "LayoutView",
      "align_content": null,
      "align_items": null,
      "align_self": null,
      "border": null,
      "bottom": null,
      "display": null,
      "flex": null,
      "flex_flow": null,
      "grid_area": null,
      "grid_auto_columns": null,
      "grid_auto_flow": null,
      "grid_auto_rows": null,
      "grid_column": null,
      "grid_gap": null,
      "grid_row": null,
      "grid_template_areas": null,
      "grid_template_columns": null,
      "grid_template_rows": null,
      "height": null,
      "justify_content": null,
      "justify_items": null,
      "left": null,
      "margin": null,
      "max_height": null,
      "max_width": null,
      "min_height": null,
      "min_width": null,
      "object_fit": null,
      "object_position": null,
      "order": null,
      "overflow": null,
      "overflow_x": null,
      "overflow_y": null,
      "padding": null,
      "right": null,
      "top": null,
      "visibility": null,
      "width": null
     }
    },
    "c30ef246c3844170b70c92f1f5032ff0": {
     "model_module": "@jupyter-widgets/controls",
     "model_name": "ProgressStyleModel",
     "model_module_version": "1.5.0",
     "state": {
      "_model_module": "@jupyter-widgets/controls",
      "_model_module_version": "1.5.0",
      "_model_name": "ProgressStyleModel",
      "_view_count": null,
      "_view_module": "@jupyter-widgets/base",
      "_view_module_version": "1.2.0",
      "_view_name": "StyleView",
      "bar_color": null,
      "description_width": ""
     }
    },
    "9f8da10898924d93837848fd506581c0": {
     "model_module": "@jupyter-widgets/base",
     "model_name": "LayoutModel",
     "model_module_version": "1.2.0",
     "state": {
      "_model_module": "@jupyter-widgets/base",
      "_model_module_version": "1.2.0",
      "_model_name": "LayoutModel",
      "_view_count": null,
      "_view_module": "@jupyter-widgets/base",
      "_view_module_version": "1.2.0",
      "_view_name": "LayoutView",
      "align_content": null,
      "align_items": null,
      "align_self": null,
      "border": null,
      "bottom": null,
      "display": null,
      "flex": null,
      "flex_flow": null,
      "grid_area": null,
      "grid_auto_columns": null,
      "grid_auto_flow": null,
      "grid_auto_rows": null,
      "grid_column": null,
      "grid_gap": null,
      "grid_row": null,
      "grid_template_areas": null,
      "grid_template_columns": null,
      "grid_template_rows": null,
      "height": null,
      "justify_content": null,
      "justify_items": null,
      "left": null,
      "margin": null,
      "max_height": null,
      "max_width": null,
      "min_height": null,
      "min_width": null,
      "object_fit": null,
      "object_position": null,
      "order": null,
      "overflow": null,
      "overflow_x": null,
      "overflow_y": null,
      "padding": null,
      "right": null,
      "top": null,
      "visibility": null,
      "width": null
     }
    },
    "6e773b595e064544b3b4b69394c22202": {
     "model_module": "@jupyter-widgets/controls",
     "model_name": "DescriptionStyleModel",
     "model_module_version": "1.5.0",
     "state": {
      "_model_module": "@jupyter-widgets/controls",
      "_model_module_version": "1.5.0",
      "_model_name": "DescriptionStyleModel",
      "_view_count": null,
      "_view_module": "@jupyter-widgets/base",
      "_view_module_version": "1.2.0",
      "_view_name": "StyleView",
      "description_width": ""
     }
    },
    "35a193f99e1746d39ce419b24d35aaf4": {
     "model_module": "@jupyter-widgets/controls",
     "model_name": "HBoxModel",
     "model_module_version": "1.5.0",
     "state": {
      "_dom_classes": [],
      "_model_module": "@jupyter-widgets/controls",
      "_model_module_version": "1.5.0",
      "_model_name": "HBoxModel",
      "_view_count": null,
      "_view_module": "@jupyter-widgets/controls",
      "_view_module_version": "1.5.0",
      "_view_name": "HBoxView",
      "box_style": "",
      "children": [
       "IPY_MODEL_cb95dfa4baad41acba62a06be29545c1",
       "IPY_MODEL_29c71327e4e4467f9b2d52a33abea04f",
       "IPY_MODEL_6a1c5a2f12cb43aeb69730a56628a956"
      ],
      "layout": "IPY_MODEL_5dfb8c452d334fd0a0dbeba8bed2ad9b"
     }
    },
    "cb95dfa4baad41acba62a06be29545c1": {
     "model_module": "@jupyter-widgets/controls",
     "model_name": "HTMLModel",
     "model_module_version": "1.5.0",
     "state": {
      "_dom_classes": [],
      "_model_module": "@jupyter-widgets/controls",
      "_model_module_version": "1.5.0",
      "_model_name": "HTMLModel",
      "_view_count": null,
      "_view_module": "@jupyter-widgets/controls",
      "_view_module_version": "1.5.0",
      "_view_name": "HTMLView",
      "description": "",
      "description_tooltip": null,
      "layout": "IPY_MODEL_5819b2867ba943c9834cb56515041017",
      "placeholder": "​",
      "style": "IPY_MODEL_22e7c58bd4b74162ba13b64ebad6c493",
      "value": "100%"
     }
    },
    "29c71327e4e4467f9b2d52a33abea04f": {
     "model_module": "@jupyter-widgets/controls",
     "model_name": "FloatProgressModel",
     "model_module_version": "1.5.0",
     "state": {
      "_dom_classes": [],
      "_model_module": "@jupyter-widgets/controls",
      "_model_module_version": "1.5.0",
      "_model_name": "FloatProgressModel",
      "_view_count": null,
      "_view_module": "@jupyter-widgets/controls",
      "_view_module_version": "1.5.0",
      "_view_name": "ProgressView",
      "bar_style": "success",
      "description": "",
      "description_tooltip": null,
      "layout": "IPY_MODEL_d383f79dfe46410fb3b9acda61f30fc7",
      "max": 317,
      "min": 0,
      "orientation": "horizontal",
      "style": "IPY_MODEL_f41b927d6d5c48fd9873100dd96bd1a3",
      "value": 317
     }
    },
    "6a1c5a2f12cb43aeb69730a56628a956": {
     "model_module": "@jupyter-widgets/controls",
     "model_name": "HTMLModel",
     "model_module_version": "1.5.0",
     "state": {
      "_dom_classes": [],
      "_model_module": "@jupyter-widgets/controls",
      "_model_module_version": "1.5.0",
      "_model_name": "HTMLModel",
      "_view_count": null,
      "_view_module": "@jupyter-widgets/controls",
      "_view_module_version": "1.5.0",
      "_view_name": "HTMLView",
      "description": "",
      "description_tooltip": null,
      "layout": "IPY_MODEL_7c662011a1cc4297b8b7407e5af5899c",
      "placeholder": "​",
      "style": "IPY_MODEL_6e74a87435eb4eaab1a5279a791291b7",
      "value": " 317/317 [00:14&lt;00:00, 23.68it/s]"
     }
    },
    "5dfb8c452d334fd0a0dbeba8bed2ad9b": {
     "model_module": "@jupyter-widgets/base",
     "model_name": "LayoutModel",
     "model_module_version": "1.2.0",
     "state": {
      "_model_module": "@jupyter-widgets/base",
      "_model_module_version": "1.2.0",
      "_model_name": "LayoutModel",
      "_view_count": null,
      "_view_module": "@jupyter-widgets/base",
      "_view_module_version": "1.2.0",
      "_view_name": "LayoutView",
      "align_content": null,
      "align_items": null,
      "align_self": null,
      "border": null,
      "bottom": null,
      "display": null,
      "flex": null,
      "flex_flow": null,
      "grid_area": null,
      "grid_auto_columns": null,
      "grid_auto_flow": null,
      "grid_auto_rows": null,
      "grid_column": null,
      "grid_gap": null,
      "grid_row": null,
      "grid_template_areas": null,
      "grid_template_columns": null,
      "grid_template_rows": null,
      "height": null,
      "justify_content": null,
      "justify_items": null,
      "left": null,
      "margin": null,
      "max_height": null,
      "max_width": null,
      "min_height": null,
      "min_width": null,
      "object_fit": null,
      "object_position": null,
      "order": null,
      "overflow": null,
      "overflow_x": null,
      "overflow_y": null,
      "padding": null,
      "right": null,
      "top": null,
      "visibility": null,
      "width": null
     }
    },
    "5819b2867ba943c9834cb56515041017": {
     "model_module": "@jupyter-widgets/base",
     "model_name": "LayoutModel",
     "model_module_version": "1.2.0",
     "state": {
      "_model_module": "@jupyter-widgets/base",
      "_model_module_version": "1.2.0",
      "_model_name": "LayoutModel",
      "_view_count": null,
      "_view_module": "@jupyter-widgets/base",
      "_view_module_version": "1.2.0",
      "_view_name": "LayoutView",
      "align_content": null,
      "align_items": null,
      "align_self": null,
      "border": null,
      "bottom": null,
      "display": null,
      "flex": null,
      "flex_flow": null,
      "grid_area": null,
      "grid_auto_columns": null,
      "grid_auto_flow": null,
      "grid_auto_rows": null,
      "grid_column": null,
      "grid_gap": null,
      "grid_row": null,
      "grid_template_areas": null,
      "grid_template_columns": null,
      "grid_template_rows": null,
      "height": null,
      "justify_content": null,
      "justify_items": null,
      "left": null,
      "margin": null,
      "max_height": null,
      "max_width": null,
      "min_height": null,
      "min_width": null,
      "object_fit": null,
      "object_position": null,
      "order": null,
      "overflow": null,
      "overflow_x": null,
      "overflow_y": null,
      "padding": null,
      "right": null,
      "top": null,
      "visibility": null,
      "width": null
     }
    },
    "22e7c58bd4b74162ba13b64ebad6c493": {
     "model_module": "@jupyter-widgets/controls",
     "model_name": "DescriptionStyleModel",
     "model_module_version": "1.5.0",
     "state": {
      "_model_module": "@jupyter-widgets/controls",
      "_model_module_version": "1.5.0",
      "_model_name": "DescriptionStyleModel",
      "_view_count": null,
      "_view_module": "@jupyter-widgets/base",
      "_view_module_version": "1.2.0",
      "_view_name": "StyleView",
      "description_width": ""
     }
    },
    "d383f79dfe46410fb3b9acda61f30fc7": {
     "model_module": "@jupyter-widgets/base",
     "model_name": "LayoutModel",
     "model_module_version": "1.2.0",
     "state": {
      "_model_module": "@jupyter-widgets/base",
      "_model_module_version": "1.2.0",
      "_model_name": "LayoutModel",
      "_view_count": null,
      "_view_module": "@jupyter-widgets/base",
      "_view_module_version": "1.2.0",
      "_view_name": "LayoutView",
      "align_content": null,
      "align_items": null,
      "align_self": null,
      "border": null,
      "bottom": null,
      "display": null,
      "flex": null,
      "flex_flow": null,
      "grid_area": null,
      "grid_auto_columns": null,
      "grid_auto_flow": null,
      "grid_auto_rows": null,
      "grid_column": null,
      "grid_gap": null,
      "grid_row": null,
      "grid_template_areas": null,
      "grid_template_columns": null,
      "grid_template_rows": null,
      "height": null,
      "justify_content": null,
      "justify_items": null,
      "left": null,
      "margin": null,
      "max_height": null,
      "max_width": null,
      "min_height": null,
      "min_width": null,
      "object_fit": null,
      "object_position": null,
      "order": null,
      "overflow": null,
      "overflow_x": null,
      "overflow_y": null,
      "padding": null,
      "right": null,
      "top": null,
      "visibility": null,
      "width": null
     }
    },
    "f41b927d6d5c48fd9873100dd96bd1a3": {
     "model_module": "@jupyter-widgets/controls",
     "model_name": "ProgressStyleModel",
     "model_module_version": "1.5.0",
     "state": {
      "_model_module": "@jupyter-widgets/controls",
      "_model_module_version": "1.5.0",
      "_model_name": "ProgressStyleModel",
      "_view_count": null,
      "_view_module": "@jupyter-widgets/base",
      "_view_module_version": "1.2.0",
      "_view_name": "StyleView",
      "bar_color": null,
      "description_width": ""
     }
    },
    "7c662011a1cc4297b8b7407e5af5899c": {
     "model_module": "@jupyter-widgets/base",
     "model_name": "LayoutModel",
     "model_module_version": "1.2.0",
     "state": {
      "_model_module": "@jupyter-widgets/base",
      "_model_module_version": "1.2.0",
      "_model_name": "LayoutModel",
      "_view_count": null,
      "_view_module": "@jupyter-widgets/base",
      "_view_module_version": "1.2.0",
      "_view_name": "LayoutView",
      "align_content": null,
      "align_items": null,
      "align_self": null,
      "border": null,
      "bottom": null,
      "display": null,
      "flex": null,
      "flex_flow": null,
      "grid_area": null,
      "grid_auto_columns": null,
      "grid_auto_flow": null,
      "grid_auto_rows": null,
      "grid_column": null,
      "grid_gap": null,
      "grid_row": null,
      "grid_template_areas": null,
      "grid_template_columns": null,
      "grid_template_rows": null,
      "height": null,
      "justify_content": null,
      "justify_items": null,
      "left": null,
      "margin": null,
      "max_height": null,
      "max_width": null,
      "min_height": null,
      "min_width": null,
      "object_fit": null,
      "object_position": null,
      "order": null,
      "overflow": null,
      "overflow_x": null,
      "overflow_y": null,
      "padding": null,
      "right": null,
      "top": null,
      "visibility": null,
      "width": null
     }
    },
    "6e74a87435eb4eaab1a5279a791291b7": {
     "model_module": "@jupyter-widgets/controls",
     "model_name": "DescriptionStyleModel",
     "model_module_version": "1.5.0",
     "state": {
      "_model_module": "@jupyter-widgets/controls",
      "_model_module_version": "1.5.0",
      "_model_name": "DescriptionStyleModel",
      "_view_count": null,
      "_view_module": "@jupyter-widgets/base",
      "_view_module_version": "1.2.0",
      "_view_name": "StyleView",
      "description_width": ""
     }
    },
    "9eef23f9ac834d529d59a642a5639f75": {
     "model_module": "@jupyter-widgets/controls",
     "model_name": "HBoxModel",
     "model_module_version": "1.5.0",
     "state": {
      "_dom_classes": [],
      "_model_module": "@jupyter-widgets/controls",
      "_model_module_version": "1.5.0",
      "_model_name": "HBoxModel",
      "_view_count": null,
      "_view_module": "@jupyter-widgets/controls",
      "_view_module_version": "1.5.0",
      "_view_name": "HBoxView",
      "box_style": "",
      "children": [
       "IPY_MODEL_ab1963fa9e72440897aa6a81a365c8f7",
       "IPY_MODEL_c351cc4e9bd2430191281a3389180e73",
       "IPY_MODEL_e90c86aef965412e923a7ded20fba264"
      ],
      "layout": "IPY_MODEL_442905bb645d4b07afc535e611c0a33f"
     }
    },
    "ab1963fa9e72440897aa6a81a365c8f7": {
     "model_module": "@jupyter-widgets/controls",
     "model_name": "HTMLModel",
     "model_module_version": "1.5.0",
     "state": {
      "_dom_classes": [],
      "_model_module": "@jupyter-widgets/controls",
      "_model_module_version": "1.5.0",
      "_model_name": "HTMLModel",
      "_view_count": null,
      "_view_module": "@jupyter-widgets/controls",
      "_view_module_version": "1.5.0",
      "_view_name": "HTMLView",
      "description": "",
      "description_tooltip": null,
      "layout": "IPY_MODEL_ae6f15913cc84b6494a9dfd96595d84e",
      "placeholder": "​",
      "style": "IPY_MODEL_ca65ffd6f29140fd9e8d6368fb0b52d0",
      "value": "Upload 1 LFS files: 100%"
     }
    },
    "c351cc4e9bd2430191281a3389180e73": {
     "model_module": "@jupyter-widgets/controls",
     "model_name": "FloatProgressModel",
     "model_module_version": "1.5.0",
     "state": {
      "_dom_classes": [],
      "_model_module": "@jupyter-widgets/controls",
      "_model_module_version": "1.5.0",
      "_model_name": "FloatProgressModel",
      "_view_count": null,
      "_view_module": "@jupyter-widgets/controls",
      "_view_module_version": "1.5.0",
      "_view_name": "ProgressView",
      "bar_style": "success",
      "description": "",
      "description_tooltip": null,
      "layout": "IPY_MODEL_384146931ee24e5ab004c602f6ee0182",
      "max": 1,
      "min": 0,
      "orientation": "horizontal",
      "style": "IPY_MODEL_82a67e7101a944b1a833cdf39eedbc61",
      "value": 1
     }
    },
    "e90c86aef965412e923a7ded20fba264": {
     "model_module": "@jupyter-widgets/controls",
     "model_name": "HTMLModel",
     "model_module_version": "1.5.0",
     "state": {
      "_dom_classes": [],
      "_model_module": "@jupyter-widgets/controls",
      "_model_module_version": "1.5.0",
      "_model_name": "HTMLModel",
      "_view_count": null,
      "_view_module": "@jupyter-widgets/controls",
      "_view_module_version": "1.5.0",
      "_view_name": "HTMLView",
      "description": "",
      "description_tooltip": null,
      "layout": "IPY_MODEL_7409cf1c315e4709adfcfa8d8be6b6cd",
      "placeholder": "​",
      "style": "IPY_MODEL_75ae2e56ef9643d3bf89985aceadf41e",
      "value": " 1/1 [01:11&lt;00:00, 71.65s/it]"
     }
    },
    "442905bb645d4b07afc535e611c0a33f": {
     "model_module": "@jupyter-widgets/base",
     "model_name": "LayoutModel",
     "model_module_version": "1.2.0",
     "state": {
      "_model_module": "@jupyter-widgets/base",
      "_model_module_version": "1.2.0",
      "_model_name": "LayoutModel",
      "_view_count": null,
      "_view_module": "@jupyter-widgets/base",
      "_view_module_version": "1.2.0",
      "_view_name": "LayoutView",
      "align_content": null,
      "align_items": null,
      "align_self": null,
      "border": null,
      "bottom": null,
      "display": null,
      "flex": null,
      "flex_flow": null,
      "grid_area": null,
      "grid_auto_columns": null,
      "grid_auto_flow": null,
      "grid_auto_rows": null,
      "grid_column": null,
      "grid_gap": null,
      "grid_row": null,
      "grid_template_areas": null,
      "grid_template_columns": null,
      "grid_template_rows": null,
      "height": null,
      "justify_content": null,
      "justify_items": null,
      "left": null,
      "margin": null,
      "max_height": null,
      "max_width": null,
      "min_height": null,
      "min_width": null,
      "object_fit": null,
      "object_position": null,
      "order": null,
      "overflow": null,
      "overflow_x": null,
      "overflow_y": null,
      "padding": null,
      "right": null,
      "top": null,
      "visibility": null,
      "width": null
     }
    },
    "ae6f15913cc84b6494a9dfd96595d84e": {
     "model_module": "@jupyter-widgets/base",
     "model_name": "LayoutModel",
     "model_module_version": "1.2.0",
     "state": {
      "_model_module": "@jupyter-widgets/base",
      "_model_module_version": "1.2.0",
      "_model_name": "LayoutModel",
      "_view_count": null,
      "_view_module": "@jupyter-widgets/base",
      "_view_module_version": "1.2.0",
      "_view_name": "LayoutView",
      "align_content": null,
      "align_items": null,
      "align_self": null,
      "border": null,
      "bottom": null,
      "display": null,
      "flex": null,
      "flex_flow": null,
      "grid_area": null,
      "grid_auto_columns": null,
      "grid_auto_flow": null,
      "grid_auto_rows": null,
      "grid_column": null,
      "grid_gap": null,
      "grid_row": null,
      "grid_template_areas": null,
      "grid_template_columns": null,
      "grid_template_rows": null,
      "height": null,
      "justify_content": null,
      "justify_items": null,
      "left": null,
      "margin": null,
      "max_height": null,
      "max_width": null,
      "min_height": null,
      "min_width": null,
      "object_fit": null,
      "object_position": null,
      "order": null,
      "overflow": null,
      "overflow_x": null,
      "overflow_y": null,
      "padding": null,
      "right": null,
      "top": null,
      "visibility": null,
      "width": null
     }
    },
    "ca65ffd6f29140fd9e8d6368fb0b52d0": {
     "model_module": "@jupyter-widgets/controls",
     "model_name": "DescriptionStyleModel",
     "model_module_version": "1.5.0",
     "state": {
      "_model_module": "@jupyter-widgets/controls",
      "_model_module_version": "1.5.0",
      "_model_name": "DescriptionStyleModel",
      "_view_count": null,
      "_view_module": "@jupyter-widgets/base",
      "_view_module_version": "1.2.0",
      "_view_name": "StyleView",
      "description_width": ""
     }
    },
    "384146931ee24e5ab004c602f6ee0182": {
     "model_module": "@jupyter-widgets/base",
     "model_name": "LayoutModel",
     "model_module_version": "1.2.0",
     "state": {
      "_model_module": "@jupyter-widgets/base",
      "_model_module_version": "1.2.0",
      "_model_name": "LayoutModel",
      "_view_count": null,
      "_view_module": "@jupyter-widgets/base",
      "_view_module_version": "1.2.0",
      "_view_name": "LayoutView",
      "align_content": null,
      "align_items": null,
      "align_self": null,
      "border": null,
      "bottom": null,
      "display": null,
      "flex": null,
      "flex_flow": null,
      "grid_area": null,
      "grid_auto_columns": null,
      "grid_auto_flow": null,
      "grid_auto_rows": null,
      "grid_column": null,
      "grid_gap": null,
      "grid_row": null,
      "grid_template_areas": null,
      "grid_template_columns": null,
      "grid_template_rows": null,
      "height": null,
      "justify_content": null,
      "justify_items": null,
      "left": null,
      "margin": null,
      "max_height": null,
      "max_width": null,
      "min_height": null,
      "min_width": null,
      "object_fit": null,
      "object_position": null,
      "order": null,
      "overflow": null,
      "overflow_x": null,
      "overflow_y": null,
      "padding": null,
      "right": null,
      "top": null,
      "visibility": null,
      "width": null
     }
    },
    "82a67e7101a944b1a833cdf39eedbc61": {
     "model_module": "@jupyter-widgets/controls",
     "model_name": "ProgressStyleModel",
     "model_module_version": "1.5.0",
     "state": {
      "_model_module": "@jupyter-widgets/controls",
      "_model_module_version": "1.5.0",
      "_model_name": "ProgressStyleModel",
      "_view_count": null,
      "_view_module": "@jupyter-widgets/base",
      "_view_module_version": "1.2.0",
      "_view_name": "StyleView",
      "bar_color": null,
      "description_width": ""
     }
    },
    "7409cf1c315e4709adfcfa8d8be6b6cd": {
     "model_module": "@jupyter-widgets/base",
     "model_name": "LayoutModel",
     "model_module_version": "1.2.0",
     "state": {
      "_model_module": "@jupyter-widgets/base",
      "_model_module_version": "1.2.0",
      "_model_name": "LayoutModel",
      "_view_count": null,
      "_view_module": "@jupyter-widgets/base",
      "_view_module_version": "1.2.0",
      "_view_name": "LayoutView",
      "align_content": null,
      "align_items": null,
      "align_self": null,
      "border": null,
      "bottom": null,
      "display": null,
      "flex": null,
      "flex_flow": null,
      "grid_area": null,
      "grid_auto_columns": null,
      "grid_auto_flow": null,
      "grid_auto_rows": null,
      "grid_column": null,
      "grid_gap": null,
      "grid_row": null,
      "grid_template_areas": null,
      "grid_template_columns": null,
      "grid_template_rows": null,
      "height": null,
      "justify_content": null,
      "justify_items": null,
      "left": null,
      "margin": null,
      "max_height": null,
      "max_width": null,
      "min_height": null,
      "min_width": null,
      "object_fit": null,
      "object_position": null,
      "order": null,
      "overflow": null,
      "overflow_x": null,
      "overflow_y": null,
      "padding": null,
      "right": null,
      "top": null,
      "visibility": null,
      "width": null
     }
    },
    "75ae2e56ef9643d3bf89985aceadf41e": {
     "model_module": "@jupyter-widgets/controls",
     "model_name": "DescriptionStyleModel",
     "model_module_version": "1.5.0",
     "state": {
      "_model_module": "@jupyter-widgets/controls",
      "_model_module_version": "1.5.0",
      "_model_name": "DescriptionStyleModel",
      "_view_count": null,
      "_view_module": "@jupyter-widgets/base",
      "_view_module_version": "1.2.0",
      "_view_name": "StyleView",
      "description_width": ""
     }
    },
    "0d0f6e96948a47b8975101e2fc61ccf6": {
     "model_module": "@jupyter-widgets/controls",
     "model_name": "HBoxModel",
     "model_module_version": "1.5.0",
     "state": {
      "_dom_classes": [],
      "_model_module": "@jupyter-widgets/controls",
      "_model_module_version": "1.5.0",
      "_model_name": "HBoxModel",
      "_view_count": null,
      "_view_module": "@jupyter-widgets/controls",
      "_view_module_version": "1.5.0",
      "_view_name": "HBoxView",
      "box_style": "",
      "children": [
       "IPY_MODEL_2bbd83bf06b84c8ca4f18dba8c58fa4c",
       "IPY_MODEL_3f6044e39a7e4d37b6985a86f5ee154f",
       "IPY_MODEL_ce40386cd09943bea045b52ff0977966"
      ],
      "layout": "IPY_MODEL_328c738d9c36426981e9c03ad2beea7a"
     }
    },
    "2bbd83bf06b84c8ca4f18dba8c58fa4c": {
     "model_module": "@jupyter-widgets/controls",
     "model_name": "HTMLModel",
     "model_module_version": "1.5.0",
     "state": {
      "_dom_classes": [],
      "_model_module": "@jupyter-widgets/controls",
      "_model_module_version": "1.5.0",
      "_model_name": "HTMLModel",
      "_view_count": null,
      "_view_module": "@jupyter-widgets/controls",
      "_view_module_version": "1.5.0",
      "_view_name": "HTMLView",
      "description": "",
      "description_tooltip": null,
      "layout": "IPY_MODEL_04f39ae62de4478198506e2780771f9c",
      "placeholder": "​",
      "style": "IPY_MODEL_86b7004e88304cf5a244ae8aad884677",
      "value": "pytorch_model.bin: 100%"
     }
    },
    "3f6044e39a7e4d37b6985a86f5ee154f": {
     "model_module": "@jupyter-widgets/controls",
     "model_name": "FloatProgressModel",
     "model_module_version": "1.5.0",
     "state": {
      "_dom_classes": [],
      "_model_module": "@jupyter-widgets/controls",
      "_model_module_version": "1.5.0",
      "_model_name": "FloatProgressModel",
      "_view_count": null,
      "_view_module": "@jupyter-widgets/controls",
      "_view_module_version": "1.5.0",
      "_view_name": "ProgressView",
      "bar_style": "success",
      "description": "",
      "description_tooltip": null,
      "layout": "IPY_MODEL_bf7f157b09c2414da8b2824c89873f41",
      "max": 915894453,
      "min": 0,
      "orientation": "horizontal",
      "style": "IPY_MODEL_4d8960cb0a5b4f50a0f0c6287a92f25d",
      "value": 915894453
     }
    },
    "ce40386cd09943bea045b52ff0977966": {
     "model_module": "@jupyter-widgets/controls",
     "model_name": "HTMLModel",
     "model_module_version": "1.5.0",
     "state": {
      "_dom_classes": [],
      "_model_module": "@jupyter-widgets/controls",
      "_model_module_version": "1.5.0",
      "_model_name": "HTMLModel",
      "_view_count": null,
      "_view_module": "@jupyter-widgets/controls",
      "_view_module_version": "1.5.0",
      "_view_name": "HTMLView",
      "description": "",
      "description_tooltip": null,
      "layout": "IPY_MODEL_55a2a645bcb144ffbba3a23f6d37666e",
      "placeholder": "​",
      "style": "IPY_MODEL_1548e0775ee24a2ca72096bb937d94ca",
      "value": " 916M/916M [01:11&lt;00:00, 13.6MB/s]"
     }
    },
    "328c738d9c36426981e9c03ad2beea7a": {
     "model_module": "@jupyter-widgets/base",
     "model_name": "LayoutModel",
     "model_module_version": "1.2.0",
     "state": {
      "_model_module": "@jupyter-widgets/base",
      "_model_module_version": "1.2.0",
      "_model_name": "LayoutModel",
      "_view_count": null,
      "_view_module": "@jupyter-widgets/base",
      "_view_module_version": "1.2.0",
      "_view_name": "LayoutView",
      "align_content": null,
      "align_items": null,
      "align_self": null,
      "border": null,
      "bottom": null,
      "display": null,
      "flex": null,
      "flex_flow": null,
      "grid_area": null,
      "grid_auto_columns": null,
      "grid_auto_flow": null,
      "grid_auto_rows": null,
      "grid_column": null,
      "grid_gap": null,
      "grid_row": null,
      "grid_template_areas": null,
      "grid_template_columns": null,
      "grid_template_rows": null,
      "height": null,
      "justify_content": null,
      "justify_items": null,
      "left": null,
      "margin": null,
      "max_height": null,
      "max_width": null,
      "min_height": null,
      "min_width": null,
      "object_fit": null,
      "object_position": null,
      "order": null,
      "overflow": null,
      "overflow_x": null,
      "overflow_y": null,
      "padding": null,
      "right": null,
      "top": null,
      "visibility": null,
      "width": null
     }
    },
    "04f39ae62de4478198506e2780771f9c": {
     "model_module": "@jupyter-widgets/base",
     "model_name": "LayoutModel",
     "model_module_version": "1.2.0",
     "state": {
      "_model_module": "@jupyter-widgets/base",
      "_model_module_version": "1.2.0",
      "_model_name": "LayoutModel",
      "_view_count": null,
      "_view_module": "@jupyter-widgets/base",
      "_view_module_version": "1.2.0",
      "_view_name": "LayoutView",
      "align_content": null,
      "align_items": null,
      "align_self": null,
      "border": null,
      "bottom": null,
      "display": null,
      "flex": null,
      "flex_flow": null,
      "grid_area": null,
      "grid_auto_columns": null,
      "grid_auto_flow": null,
      "grid_auto_rows": null,
      "grid_column": null,
      "grid_gap": null,
      "grid_row": null,
      "grid_template_areas": null,
      "grid_template_columns": null,
      "grid_template_rows": null,
      "height": null,
      "justify_content": null,
      "justify_items": null,
      "left": null,
      "margin": null,
      "max_height": null,
      "max_width": null,
      "min_height": null,
      "min_width": null,
      "object_fit": null,
      "object_position": null,
      "order": null,
      "overflow": null,
      "overflow_x": null,
      "overflow_y": null,
      "padding": null,
      "right": null,
      "top": null,
      "visibility": null,
      "width": null
     }
    },
    "86b7004e88304cf5a244ae8aad884677": {
     "model_module": "@jupyter-widgets/controls",
     "model_name": "DescriptionStyleModel",
     "model_module_version": "1.5.0",
     "state": {
      "_model_module": "@jupyter-widgets/controls",
      "_model_module_version": "1.5.0",
      "_model_name": "DescriptionStyleModel",
      "_view_count": null,
      "_view_module": "@jupyter-widgets/base",
      "_view_module_version": "1.2.0",
      "_view_name": "StyleView",
      "description_width": ""
     }
    },
    "bf7f157b09c2414da8b2824c89873f41": {
     "model_module": "@jupyter-widgets/base",
     "model_name": "LayoutModel",
     "model_module_version": "1.2.0",
     "state": {
      "_model_module": "@jupyter-widgets/base",
      "_model_module_version": "1.2.0",
      "_model_name": "LayoutModel",
      "_view_count": null,
      "_view_module": "@jupyter-widgets/base",
      "_view_module_version": "1.2.0",
      "_view_name": "LayoutView",
      "align_content": null,
      "align_items": null,
      "align_self": null,
      "border": null,
      "bottom": null,
      "display": null,
      "flex": null,
      "flex_flow": null,
      "grid_area": null,
      "grid_auto_columns": null,
      "grid_auto_flow": null,
      "grid_auto_rows": null,
      "grid_column": null,
      "grid_gap": null,
      "grid_row": null,
      "grid_template_areas": null,
      "grid_template_columns": null,
      "grid_template_rows": null,
      "height": null,
      "justify_content": null,
      "justify_items": null,
      "left": null,
      "margin": null,
      "max_height": null,
      "max_width": null,
      "min_height": null,
      "min_width": null,
      "object_fit": null,
      "object_position": null,
      "order": null,
      "overflow": null,
      "overflow_x": null,
      "overflow_y": null,
      "padding": null,
      "right": null,
      "top": null,
      "visibility": null,
      "width": null
     }
    },
    "4d8960cb0a5b4f50a0f0c6287a92f25d": {
     "model_module": "@jupyter-widgets/controls",
     "model_name": "ProgressStyleModel",
     "model_module_version": "1.5.0",
     "state": {
      "_model_module": "@jupyter-widgets/controls",
      "_model_module_version": "1.5.0",
      "_model_name": "ProgressStyleModel",
      "_view_count": null,
      "_view_module": "@jupyter-widgets/base",
      "_view_module_version": "1.2.0",
      "_view_name": "StyleView",
      "bar_color": null,
      "description_width": ""
     }
    },
    "55a2a645bcb144ffbba3a23f6d37666e": {
     "model_module": "@jupyter-widgets/base",
     "model_name": "LayoutModel",
     "model_module_version": "1.2.0",
     "state": {
      "_model_module": "@jupyter-widgets/base",
      "_model_module_version": "1.2.0",
      "_model_name": "LayoutModel",
      "_view_count": null,
      "_view_module": "@jupyter-widgets/base",
      "_view_module_version": "1.2.0",
      "_view_name": "LayoutView",
      "align_content": null,
      "align_items": null,
      "align_self": null,
      "border": null,
      "bottom": null,
      "display": null,
      "flex": null,
      "flex_flow": null,
      "grid_area": null,
      "grid_auto_columns": null,
      "grid_auto_flow": null,
      "grid_auto_rows": null,
      "grid_column": null,
      "grid_gap": null,
      "grid_row": null,
      "grid_template_areas": null,
      "grid_template_columns": null,
      "grid_template_rows": null,
      "height": null,
      "justify_content": null,
      "justify_items": null,
      "left": null,
      "margin": null,
      "max_height": null,
      "max_width": null,
      "min_height": null,
      "min_width": null,
      "object_fit": null,
      "object_position": null,
      "order": null,
      "overflow": null,
      "overflow_x": null,
      "overflow_y": null,
      "padding": null,
      "right": null,
      "top": null,
      "visibility": null,
      "width": null
     }
    },
    "1548e0775ee24a2ca72096bb937d94ca": {
     "model_module": "@jupyter-widgets/controls",
     "model_name": "DescriptionStyleModel",
     "model_module_version": "1.5.0",
     "state": {
      "_model_module": "@jupyter-widgets/controls",
      "_model_module_version": "1.5.0",
      "_model_name": "DescriptionStyleModel",
      "_view_count": null,
      "_view_module": "@jupyter-widgets/base",
      "_view_module_version": "1.2.0",
      "_view_name": "StyleView",
      "description_width": ""
     }
    },
    "0c2547306e2c4ab291f468636fc447d0": {
     "model_module": "@jupyter-widgets/controls",
     "model_name": "HBoxModel",
     "model_module_version": "1.5.0",
     "state": {
      "_dom_classes": [],
      "_model_module": "@jupyter-widgets/controls",
      "_model_module_version": "1.5.0",
      "_model_name": "HBoxModel",
      "_view_count": null,
      "_view_module": "@jupyter-widgets/controls",
      "_view_module_version": "1.5.0",
      "_view_name": "HBoxView",
      "box_style": "",
      "children": [
       "IPY_MODEL_26e7d1956a194793ad5c7164c26fb683",
       "IPY_MODEL_ad27fbc2c7a64225a00ee759fc0b7845",
       "IPY_MODEL_9df9ce56894b4818aff5be1e81150140"
      ],
      "layout": "IPY_MODEL_85bb087ecd72437a901ff36999581066"
     }
    },
    "26e7d1956a194793ad5c7164c26fb683": {
     "model_module": "@jupyter-widgets/controls",
     "model_name": "HTMLModel",
     "model_module_version": "1.5.0",
     "state": {
      "_dom_classes": [],
      "_model_module": "@jupyter-widgets/controls",
      "_model_module_version": "1.5.0",
      "_model_name": "HTMLModel",
      "_view_count": null,
      "_view_module": "@jupyter-widgets/controls",
      "_view_module_version": "1.5.0",
      "_view_name": "HTMLView",
      "description": "",
      "description_tooltip": null,
      "layout": "IPY_MODEL_eb4b3d3e35e14f118bbf45de8b71818e",
      "placeholder": "​",
      "style": "IPY_MODEL_0fde159293d045158d807bc5a7de4ec8",
      "value": "Upload 1 LFS files: 100%"
     }
    },
    "ad27fbc2c7a64225a00ee759fc0b7845": {
     "model_module": "@jupyter-widgets/controls",
     "model_name": "FloatProgressModel",
     "model_module_version": "1.5.0",
     "state": {
      "_dom_classes": [],
      "_model_module": "@jupyter-widgets/controls",
      "_model_module_version": "1.5.0",
      "_model_name": "FloatProgressModel",
      "_view_count": null,
      "_view_module": "@jupyter-widgets/controls",
      "_view_module_version": "1.5.0",
      "_view_name": "ProgressView",
      "bar_style": "success",
      "description": "",
      "description_tooltip": null,
      "layout": "IPY_MODEL_80e5b127802d4979aadb7e28922bfdc9",
      "max": 1,
      "min": 0,
      "orientation": "horizontal",
      "style": "IPY_MODEL_ed2a7ac775bc48899357bcadd8da4940",
      "value": 1
     }
    },
    "9df9ce56894b4818aff5be1e81150140": {
     "model_module": "@jupyter-widgets/controls",
     "model_name": "HTMLModel",
     "model_module_version": "1.5.0",
     "state": {
      "_dom_classes": [],
      "_model_module": "@jupyter-widgets/controls",
      "_model_module_version": "1.5.0",
      "_model_name": "HTMLModel",
      "_view_count": null,
      "_view_module": "@jupyter-widgets/controls",
      "_view_module_version": "1.5.0",
      "_view_name": "HTMLView",
      "description": "",
      "description_tooltip": null,
      "layout": "IPY_MODEL_4943c10763b449b392926095fff319ca",
      "placeholder": "​",
      "style": "IPY_MODEL_c518e380ac1448b2b7529be727929092",
      "value": " 1/1 [00:03&lt;00:00,  3.16s/it]"
     }
    },
    "85bb087ecd72437a901ff36999581066": {
     "model_module": "@jupyter-widgets/base",
     "model_name": "LayoutModel",
     "model_module_version": "1.2.0",
     "state": {
      "_model_module": "@jupyter-widgets/base",
      "_model_module_version": "1.2.0",
      "_model_name": "LayoutModel",
      "_view_count": null,
      "_view_module": "@jupyter-widgets/base",
      "_view_module_version": "1.2.0",
      "_view_name": "LayoutView",
      "align_content": null,
      "align_items": null,
      "align_self": null,
      "border": null,
      "bottom": null,
      "display": null,
      "flex": null,
      "flex_flow": null,
      "grid_area": null,
      "grid_auto_columns": null,
      "grid_auto_flow": null,
      "grid_auto_rows": null,
      "grid_column": null,
      "grid_gap": null,
      "grid_row": null,
      "grid_template_areas": null,
      "grid_template_columns": null,
      "grid_template_rows": null,
      "height": null,
      "justify_content": null,
      "justify_items": null,
      "left": null,
      "margin": null,
      "max_height": null,
      "max_width": null,
      "min_height": null,
      "min_width": null,
      "object_fit": null,
      "object_position": null,
      "order": null,
      "overflow": null,
      "overflow_x": null,
      "overflow_y": null,
      "padding": null,
      "right": null,
      "top": null,
      "visibility": null,
      "width": null
     }
    },
    "eb4b3d3e35e14f118bbf45de8b71818e": {
     "model_module": "@jupyter-widgets/base",
     "model_name": "LayoutModel",
     "model_module_version": "1.2.0",
     "state": {
      "_model_module": "@jupyter-widgets/base",
      "_model_module_version": "1.2.0",
      "_model_name": "LayoutModel",
      "_view_count": null,
      "_view_module": "@jupyter-widgets/base",
      "_view_module_version": "1.2.0",
      "_view_name": "LayoutView",
      "align_content": null,
      "align_items": null,
      "align_self": null,
      "border": null,
      "bottom": null,
      "display": null,
      "flex": null,
      "flex_flow": null,
      "grid_area": null,
      "grid_auto_columns": null,
      "grid_auto_flow": null,
      "grid_auto_rows": null,
      "grid_column": null,
      "grid_gap": null,
      "grid_row": null,
      "grid_template_areas": null,
      "grid_template_columns": null,
      "grid_template_rows": null,
      "height": null,
      "justify_content": null,
      "justify_items": null,
      "left": null,
      "margin": null,
      "max_height": null,
      "max_width": null,
      "min_height": null,
      "min_width": null,
      "object_fit": null,
      "object_position": null,
      "order": null,
      "overflow": null,
      "overflow_x": null,
      "overflow_y": null,
      "padding": null,
      "right": null,
      "top": null,
      "visibility": null,
      "width": null
     }
    },
    "0fde159293d045158d807bc5a7de4ec8": {
     "model_module": "@jupyter-widgets/controls",
     "model_name": "DescriptionStyleModel",
     "model_module_version": "1.5.0",
     "state": {
      "_model_module": "@jupyter-widgets/controls",
      "_model_module_version": "1.5.0",
      "_model_name": "DescriptionStyleModel",
      "_view_count": null,
      "_view_module": "@jupyter-widgets/base",
      "_view_module_version": "1.2.0",
      "_view_name": "StyleView",
      "description_width": ""
     }
    },
    "80e5b127802d4979aadb7e28922bfdc9": {
     "model_module": "@jupyter-widgets/base",
     "model_name": "LayoutModel",
     "model_module_version": "1.2.0",
     "state": {
      "_model_module": "@jupyter-widgets/base",
      "_model_module_version": "1.2.0",
      "_model_name": "LayoutModel",
      "_view_count": null,
      "_view_module": "@jupyter-widgets/base",
      "_view_module_version": "1.2.0",
      "_view_name": "LayoutView",
      "align_content": null,
      "align_items": null,
      "align_self": null,
      "border": null,
      "bottom": null,
      "display": null,
      "flex": null,
      "flex_flow": null,
      "grid_area": null,
      "grid_auto_columns": null,
      "grid_auto_flow": null,
      "grid_auto_rows": null,
      "grid_column": null,
      "grid_gap": null,
      "grid_row": null,
      "grid_template_areas": null,
      "grid_template_columns": null,
      "grid_template_rows": null,
      "height": null,
      "justify_content": null,
      "justify_items": null,
      "left": null,
      "margin": null,
      "max_height": null,
      "max_width": null,
      "min_height": null,
      "min_width": null,
      "object_fit": null,
      "object_position": null,
      "order": null,
      "overflow": null,
      "overflow_x": null,
      "overflow_y": null,
      "padding": null,
      "right": null,
      "top": null,
      "visibility": null,
      "width": null
     }
    },
    "ed2a7ac775bc48899357bcadd8da4940": {
     "model_module": "@jupyter-widgets/controls",
     "model_name": "ProgressStyleModel",
     "model_module_version": "1.5.0",
     "state": {
      "_model_module": "@jupyter-widgets/controls",
      "_model_module_version": "1.5.0",
      "_model_name": "ProgressStyleModel",
      "_view_count": null,
      "_view_module": "@jupyter-widgets/base",
      "_view_module_version": "1.2.0",
      "_view_name": "StyleView",
      "bar_color": null,
      "description_width": ""
     }
    },
    "4943c10763b449b392926095fff319ca": {
     "model_module": "@jupyter-widgets/base",
     "model_name": "LayoutModel",
     "model_module_version": "1.2.0",
     "state": {
      "_model_module": "@jupyter-widgets/base",
      "_model_module_version": "1.2.0",
      "_model_name": "LayoutModel",
      "_view_count": null,
      "_view_module": "@jupyter-widgets/base",
      "_view_module_version": "1.2.0",
      "_view_name": "LayoutView",
      "align_content": null,
      "align_items": null,
      "align_self": null,
      "border": null,
      "bottom": null,
      "display": null,
      "flex": null,
      "flex_flow": null,
      "grid_area": null,
      "grid_auto_columns": null,
      "grid_auto_flow": null,
      "grid_auto_rows": null,
      "grid_column": null,
      "grid_gap": null,
      "grid_row": null,
      "grid_template_areas": null,
      "grid_template_columns": null,
      "grid_template_rows": null,
      "height": null,
      "justify_content": null,
      "justify_items": null,
      "left": null,
      "margin": null,
      "max_height": null,
      "max_width": null,
      "min_height": null,
      "min_width": null,
      "object_fit": null,
      "object_position": null,
      "order": null,
      "overflow": null,
      "overflow_x": null,
      "overflow_y": null,
      "padding": null,
      "right": null,
      "top": null,
      "visibility": null,
      "width": null
     }
    },
    "c518e380ac1448b2b7529be727929092": {
     "model_module": "@jupyter-widgets/controls",
     "model_name": "DescriptionStyleModel",
     "model_module_version": "1.5.0",
     "state": {
      "_model_module": "@jupyter-widgets/controls",
      "_model_module_version": "1.5.0",
      "_model_name": "DescriptionStyleModel",
      "_view_count": null,
      "_view_module": "@jupyter-widgets/base",
      "_view_module_version": "1.2.0",
      "_view_name": "StyleView",
      "description_width": ""
     }
    },
    "80b5153874a843729fc26423ff061d14": {
     "model_module": "@jupyter-widgets/controls",
     "model_name": "HBoxModel",
     "model_module_version": "1.5.0",
     "state": {
      "_dom_classes": [],
      "_model_module": "@jupyter-widgets/controls",
      "_model_module_version": "1.5.0",
      "_model_name": "HBoxModel",
      "_view_count": null,
      "_view_module": "@jupyter-widgets/controls",
      "_view_module_version": "1.5.0",
      "_view_name": "HBoxView",
      "box_style": "",
      "children": [
       "IPY_MODEL_41e3dedf92874e8aaa8ae38082a27a13",
       "IPY_MODEL_bb79aa223661411084290f84ce311b58",
       "IPY_MODEL_050feca6b1004a98b5161736d364c03f"
      ],
      "layout": "IPY_MODEL_df42d0d2ee794971aa36806a99eebfa7"
     }
    },
    "41e3dedf92874e8aaa8ae38082a27a13": {
     "model_module": "@jupyter-widgets/controls",
     "model_name": "HTMLModel",
     "model_module_version": "1.5.0",
     "state": {
      "_dom_classes": [],
      "_model_module": "@jupyter-widgets/controls",
      "_model_module_version": "1.5.0",
      "_model_name": "HTMLModel",
      "_view_count": null,
      "_view_module": "@jupyter-widgets/controls",
      "_view_module_version": "1.5.0",
      "_view_name": "HTMLView",
      "description": "",
      "description_tooltip": null,
      "layout": "IPY_MODEL_e44e6699034246538f24a145f51f7e24",
      "placeholder": "​",
      "style": "IPY_MODEL_767034811ada42ca888824bcc98298dc",
      "value": "spiece.model: 100%"
     }
    },
    "bb79aa223661411084290f84ce311b58": {
     "model_module": "@jupyter-widgets/controls",
     "model_name": "FloatProgressModel",
     "model_module_version": "1.5.0",
     "state": {
      "_dom_classes": [],
      "_model_module": "@jupyter-widgets/controls",
      "_model_module_version": "1.5.0",
      "_model_name": "FloatProgressModel",
      "_view_count": null,
      "_view_module": "@jupyter-widgets/controls",
      "_view_module_version": "1.5.0",
      "_view_name": "ProgressView",
      "bar_style": "success",
      "description": "",
      "description_tooltip": null,
      "layout": "IPY_MODEL_6152328cf5ff414ead06f97b63bdc755",
      "max": 596636,
      "min": 0,
      "orientation": "horizontal",
      "style": "IPY_MODEL_de526224769541838c8742b0164a1625",
      "value": 596636
     }
    },
    "050feca6b1004a98b5161736d364c03f": {
     "model_module": "@jupyter-widgets/controls",
     "model_name": "HTMLModel",
     "model_module_version": "1.5.0",
     "state": {
      "_dom_classes": [],
      "_model_module": "@jupyter-widgets/controls",
      "_model_module_version": "1.5.0",
      "_model_name": "HTMLModel",
      "_view_count": null,
      "_view_module": "@jupyter-widgets/controls",
      "_view_module_version": "1.5.0",
      "_view_name": "HTMLView",
      "description": "",
      "description_tooltip": null,
      "layout": "IPY_MODEL_214e071242794aa9931f7f18371e53d6",
      "placeholder": "​",
      "style": "IPY_MODEL_b053d3f4b0bd40c89d296ad8835ec72b",
      "value": " 597k/597k [00:03&lt;00:00, 301kB/s]"
     }
    },
    "df42d0d2ee794971aa36806a99eebfa7": {
     "model_module": "@jupyter-widgets/base",
     "model_name": "LayoutModel",
     "model_module_version": "1.2.0",
     "state": {
      "_model_module": "@jupyter-widgets/base",
      "_model_module_version": "1.2.0",
      "_model_name": "LayoutModel",
      "_view_count": null,
      "_view_module": "@jupyter-widgets/base",
      "_view_module_version": "1.2.0",
      "_view_name": "LayoutView",
      "align_content": null,
      "align_items": null,
      "align_self": null,
      "border": null,
      "bottom": null,
      "display": null,
      "flex": null,
      "flex_flow": null,
      "grid_area": null,
      "grid_auto_columns": null,
      "grid_auto_flow": null,
      "grid_auto_rows": null,
      "grid_column": null,
      "grid_gap": null,
      "grid_row": null,
      "grid_template_areas": null,
      "grid_template_columns": null,
      "grid_template_rows": null,
      "height": null,
      "justify_content": null,
      "justify_items": null,
      "left": null,
      "margin": null,
      "max_height": null,
      "max_width": null,
      "min_height": null,
      "min_width": null,
      "object_fit": null,
      "object_position": null,
      "order": null,
      "overflow": null,
      "overflow_x": null,
      "overflow_y": null,
      "padding": null,
      "right": null,
      "top": null,
      "visibility": null,
      "width": null
     }
    },
    "e44e6699034246538f24a145f51f7e24": {
     "model_module": "@jupyter-widgets/base",
     "model_name": "LayoutModel",
     "model_module_version": "1.2.0",
     "state": {
      "_model_module": "@jupyter-widgets/base",
      "_model_module_version": "1.2.0",
      "_model_name": "LayoutModel",
      "_view_count": null,
      "_view_module": "@jupyter-widgets/base",
      "_view_module_version": "1.2.0",
      "_view_name": "LayoutView",
      "align_content": null,
      "align_items": null,
      "align_self": null,
      "border": null,
      "bottom": null,
      "display": null,
      "flex": null,
      "flex_flow": null,
      "grid_area": null,
      "grid_auto_columns": null,
      "grid_auto_flow": null,
      "grid_auto_rows": null,
      "grid_column": null,
      "grid_gap": null,
      "grid_row": null,
      "grid_template_areas": null,
      "grid_template_columns": null,
      "grid_template_rows": null,
      "height": null,
      "justify_content": null,
      "justify_items": null,
      "left": null,
      "margin": null,
      "max_height": null,
      "max_width": null,
      "min_height": null,
      "min_width": null,
      "object_fit": null,
      "object_position": null,
      "order": null,
      "overflow": null,
      "overflow_x": null,
      "overflow_y": null,
      "padding": null,
      "right": null,
      "top": null,
      "visibility": null,
      "width": null
     }
    },
    "767034811ada42ca888824bcc98298dc": {
     "model_module": "@jupyter-widgets/controls",
     "model_name": "DescriptionStyleModel",
     "model_module_version": "1.5.0",
     "state": {
      "_model_module": "@jupyter-widgets/controls",
      "_model_module_version": "1.5.0",
      "_model_name": "DescriptionStyleModel",
      "_view_count": null,
      "_view_module": "@jupyter-widgets/base",
      "_view_module_version": "1.2.0",
      "_view_name": "StyleView",
      "description_width": ""
     }
    },
    "6152328cf5ff414ead06f97b63bdc755": {
     "model_module": "@jupyter-widgets/base",
     "model_name": "LayoutModel",
     "model_module_version": "1.2.0",
     "state": {
      "_model_module": "@jupyter-widgets/base",
      "_model_module_version": "1.2.0",
      "_model_name": "LayoutModel",
      "_view_count": null,
      "_view_module": "@jupyter-widgets/base",
      "_view_module_version": "1.2.0",
      "_view_name": "LayoutView",
      "align_content": null,
      "align_items": null,
      "align_self": null,
      "border": null,
      "bottom": null,
      "display": null,
      "flex": null,
      "flex_flow": null,
      "grid_area": null,
      "grid_auto_columns": null,
      "grid_auto_flow": null,
      "grid_auto_rows": null,
      "grid_column": null,
      "grid_gap": null,
      "grid_row": null,
      "grid_template_areas": null,
      "grid_template_columns": null,
      "grid_template_rows": null,
      "height": null,
      "justify_content": null,
      "justify_items": null,
      "left": null,
      "margin": null,
      "max_height": null,
      "max_width": null,
      "min_height": null,
      "min_width": null,
      "object_fit": null,
      "object_position": null,
      "order": null,
      "overflow": null,
      "overflow_x": null,
      "overflow_y": null,
      "padding": null,
      "right": null,
      "top": null,
      "visibility": null,
      "width": null
     }
    },
    "de526224769541838c8742b0164a1625": {
     "model_module": "@jupyter-widgets/controls",
     "model_name": "ProgressStyleModel",
     "model_module_version": "1.5.0",
     "state": {
      "_model_module": "@jupyter-widgets/controls",
      "_model_module_version": "1.5.0",
      "_model_name": "ProgressStyleModel",
      "_view_count": null,
      "_view_module": "@jupyter-widgets/base",
      "_view_module_version": "1.2.0",
      "_view_name": "StyleView",
      "bar_color": null,
      "description_width": ""
     }
    },
    "214e071242794aa9931f7f18371e53d6": {
     "model_module": "@jupyter-widgets/base",
     "model_name": "LayoutModel",
     "model_module_version": "1.2.0",
     "state": {
      "_model_module": "@jupyter-widgets/base",
      "_model_module_version": "1.2.0",
      "_model_name": "LayoutModel",
      "_view_count": null,
      "_view_module": "@jupyter-widgets/base",
      "_view_module_version": "1.2.0",
      "_view_name": "LayoutView",
      "align_content": null,
      "align_items": null,
      "align_self": null,
      "border": null,
      "bottom": null,
      "display": null,
      "flex": null,
      "flex_flow": null,
      "grid_area": null,
      "grid_auto_columns": null,
      "grid_auto_flow": null,
      "grid_auto_rows": null,
      "grid_column": null,
      "grid_gap": null,
      "grid_row": null,
      "grid_template_areas": null,
      "grid_template_columns": null,
      "grid_template_rows": null,
      "height": null,
      "justify_content": null,
      "justify_items": null,
      "left": null,
      "margin": null,
      "max_height": null,
      "max_width": null,
      "min_height": null,
      "min_width": null,
      "object_fit": null,
      "object_position": null,
      "order": null,
      "overflow": null,
      "overflow_x": null,
      "overflow_y": null,
      "padding": null,
      "right": null,
      "top": null,
      "visibility": null,
      "width": null
     }
    },
    "b053d3f4b0bd40c89d296ad8835ec72b": {
     "model_module": "@jupyter-widgets/controls",
     "model_name": "DescriptionStyleModel",
     "model_module_version": "1.5.0",
     "state": {
      "_model_module": "@jupyter-widgets/controls",
      "_model_module_version": "1.5.0",
      "_model_name": "DescriptionStyleModel",
      "_view_count": null,
      "_view_module": "@jupyter-widgets/base",
      "_view_module_version": "1.2.0",
      "_view_name": "StyleView",
      "description_width": ""
     }
    }
   }
  },
  "accelerator": "GPU",
  "gpuClass": "standard"
 },
 "nbformat": 4,
 "nbformat_minor": 0
}
